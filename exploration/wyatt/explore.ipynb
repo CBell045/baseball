{
 "cells": [
  {
   "cell_type": "code",
   "execution_count": 32,
   "id": "f0cdab1b",
   "metadata": {},
   "outputs": [],
   "source": [
    "import polars as pl\n",
    "df = pl.read_parquet('../../parquets/batting.parquet')"
   ]
  },
  {
   "cell_type": "code",
   "execution_count": null,
   "id": "a7fa790f",
   "metadata": {},
   "outputs": [
    {
     "data": {
      "text/html": [
       "<div><style>\n",
       ".dataframe > thead > tr,\n",
       ".dataframe > tbody > tr {\n",
       "  text-align: right;\n",
       "  white-space: pre-wrap;\n",
       "}\n",
       "</style>\n",
       "<small>shape: (5_580_931, 40)</small><table border=\"1\" class=\"dataframe\"><thead><tr><th>gid</th><th>id</th><th>team</th><th>b_lp</th><th>b_seq</th><th>stattype</th><th>b_pa</th><th>b_ab</th><th>b_r</th><th>b_h</th><th>b_d</th><th>b_t</th><th>b_hr</th><th>b_rbi</th><th>b_sh</th><th>b_sf</th><th>b_hbp</th><th>b_w</th><th>b_iw</th><th>b_k</th><th>b_sb</th><th>b_cs</th><th>b_gdp</th><th>b_xi</th><th>b_roe</th><th>dh</th><th>ph</th><th>pr</th><th>date</th><th>number</th><th>site</th><th>vishome</th><th>opp</th><th>win</th><th>loss</th><th>tie</th><th>gametype</th><th>box</th><th>pbp</th><th>year</th></tr><tr><td>str</td><td>str</td><td>str</td><td>i64</td><td>str</td><td>str</td><td>i64</td><td>i64</td><td>i64</td><td>i64</td><td>i64</td><td>i64</td><td>i64</td><td>i64</td><td>i64</td><td>i64</td><td>i64</td><td>i64</td><td>i64</td><td>i64</td><td>i64</td><td>i64</td><td>i64</td><td>i64</td><td>i64</td><td>i64</td><td>i64</td><td>i64</td><td>i64</td><td>i64</td><td>str</td><td>str</td><td>str</td><td>i64</td><td>i64</td><td>i64</td><td>str</td><td>str</td><td>str</td><td>i32</td></tr></thead><tbody><tr><td>&quot;PHI190104180&quot;</td><td>&quot;davil101&quot;</td><td>&quot;BRO&quot;</td><td>1</td><td>&quot;1&quot;</td><td>&quot;value&quot;</td><td>5</td><td>5</td><td>1</td><td>1</td><td>0</td><td>0</td><td>0</td><td>0</td><td>0</td><td>null</td><td>0</td><td>0</td><td>null</td><td>0</td><td>0</td><td>null</td><td>null</td><td>0</td><td>null</td><td>null</td><td>null</td><td>null</td><td>19010418</td><td>null</td><td>&quot;PHI09&quot;</td><td>&quot;v&quot;</td><td>&quot;PHI&quot;</td><td>1</td><td>0</td><td>0</td><td>&quot;regular&quot;</td><td>&quot;y&quot;</td><td>null</td><td>1901</td></tr><tr><td>&quot;PHI190104180&quot;</td><td>&quot;keelw101&quot;</td><td>&quot;BRO&quot;</td><td>2</td><td>&quot;1&quot;</td><td>&quot;value&quot;</td><td>5</td><td>5</td><td>1</td><td>2</td><td>2</td><td>0</td><td>0</td><td>1</td><td>0</td><td>null</td><td>0</td><td>0</td><td>null</td><td>0</td><td>0</td><td>null</td><td>null</td><td>0</td><td>null</td><td>null</td><td>null</td><td>null</td><td>19010418</td><td>null</td><td>&quot;PHI09&quot;</td><td>&quot;v&quot;</td><td>&quot;PHI&quot;</td><td>1</td><td>0</td><td>0</td><td>&quot;regular&quot;</td><td>&quot;y&quot;</td><td>null</td><td>1901</td></tr><tr><td>&quot;PHI190104180&quot;</td><td>&quot;shecj101&quot;</td><td>&quot;BRO&quot;</td><td>3</td><td>&quot;1&quot;</td><td>&quot;value&quot;</td><td>5</td><td>4</td><td>4</td><td>3</td><td>0</td><td>3</td><td>0</td><td>1</td><td>0</td><td>null</td><td>0</td><td>1</td><td>null</td><td>0</td><td>0</td><td>null</td><td>null</td><td>0</td><td>null</td><td>null</td><td>null</td><td>null</td><td>19010418</td><td>null</td><td>&quot;PHI09&quot;</td><td>&quot;v&quot;</td><td>&quot;PHI&quot;</td><td>1</td><td>0</td><td>0</td><td>&quot;regular&quot;</td><td>&quot;y&quot;</td><td>null</td><td>1901</td></tr><tr><td>&quot;PHI190104180&quot;</td><td>&quot;kellj106&quot;</td><td>&quot;BRO&quot;</td><td>4</td><td>&quot;1&quot;</td><td>&quot;value&quot;</td><td>5</td><td>5</td><td>1</td><td>3</td><td>1</td><td>0</td><td>0</td><td>4</td><td>0</td><td>null</td><td>0</td><td>0</td><td>null</td><td>0</td><td>1</td><td>null</td><td>null</td><td>0</td><td>null</td><td>null</td><td>null</td><td>null</td><td>19010418</td><td>null</td><td>&quot;PHI09&quot;</td><td>&quot;v&quot;</td><td>&quot;PHI&quot;</td><td>1</td><td>0</td><td>0</td><td>&quot;regular&quot;</td><td>&quot;y&quot;</td><td>null</td><td>1901</td></tr><tr><td>&quot;PHI190104180&quot;</td><td>&quot;mccrt101&quot;</td><td>&quot;BRO&quot;</td><td>5</td><td>&quot;1&quot;</td><td>&quot;value&quot;</td><td>5</td><td>4</td><td>1</td><td>0</td><td>0</td><td>0</td><td>0</td><td>0</td><td>0</td><td>null</td><td>0</td><td>1</td><td>null</td><td>2</td><td>0</td><td>null</td><td>null</td><td>0</td><td>null</td><td>null</td><td>null</td><td>null</td><td>19010418</td><td>null</td><td>&quot;PHI09&quot;</td><td>&quot;v&quot;</td><td>&quot;PHI&quot;</td><td>1</td><td>0</td><td>0</td><td>&quot;regular&quot;</td><td>&quot;y&quot;</td><td>null</td><td>1901</td></tr><tr><td>&hellip;</td><td>&hellip;</td><td>&hellip;</td><td>&hellip;</td><td>&hellip;</td><td>&hellip;</td><td>&hellip;</td><td>&hellip;</td><td>&hellip;</td><td>&hellip;</td><td>&hellip;</td><td>&hellip;</td><td>&hellip;</td><td>&hellip;</td><td>&hellip;</td><td>&hellip;</td><td>&hellip;</td><td>&hellip;</td><td>&hellip;</td><td>&hellip;</td><td>&hellip;</td><td>&hellip;</td><td>&hellip;</td><td>&hellip;</td><td>&hellip;</td><td>&hellip;</td><td>&hellip;</td><td>&hellip;</td><td>&hellip;</td><td>&hellip;</td><td>&hellip;</td><td>&hellip;</td><td>&hellip;</td><td>&hellip;</td><td>&hellip;</td><td>&hellip;</td><td>&hellip;</td><td>&hellip;</td><td>&hellip;</td><td>&hellip;</td></tr><tr><td>&quot;NYA202410300&quot;</td><td>&quot;coleg001&quot;</td><td>&quot;NYA&quot;</td><td>null</td><td>null</td><td>&quot;value&quot;</td><td>0</td><td>0</td><td>0</td><td>0</td><td>0</td><td>0</td><td>0</td><td>0</td><td>0</td><td>0</td><td>0</td><td>0</td><td>0</td><td>0</td><td>0</td><td>0</td><td>0</td><td>0</td><td>0</td><td>null</td><td>null</td><td>null</td><td>20241030</td><td>0</td><td>&quot;NYC21&quot;</td><td>&quot;h&quot;</td><td>&quot;LAN&quot;</td><td>0</td><td>1</td><td>0</td><td>&quot;worldseries&quot;</td><td>&quot;y&quot;</td><td>&quot;y&quot;</td><td>2024</td></tr><tr><td>&quot;NYA202410300&quot;</td><td>&quot;holmc001&quot;</td><td>&quot;NYA&quot;</td><td>null</td><td>null</td><td>&quot;value&quot;</td><td>0</td><td>0</td><td>0</td><td>0</td><td>0</td><td>0</td><td>0</td><td>0</td><td>0</td><td>0</td><td>0</td><td>0</td><td>0</td><td>0</td><td>0</td><td>0</td><td>0</td><td>0</td><td>0</td><td>null</td><td>null</td><td>null</td><td>20241030</td><td>0</td><td>&quot;NYC21&quot;</td><td>&quot;h&quot;</td><td>&quot;LAN&quot;</td><td>0</td><td>1</td><td>0</td><td>&quot;worldseries&quot;</td><td>&quot;y&quot;</td><td>&quot;y&quot;</td><td>2024</td></tr><tr><td>&quot;NYA202410300&quot;</td><td>&quot;kahnt001&quot;</td><td>&quot;NYA&quot;</td><td>null</td><td>null</td><td>&quot;value&quot;</td><td>0</td><td>0</td><td>0</td><td>0</td><td>0</td><td>0</td><td>0</td><td>0</td><td>0</td><td>0</td><td>0</td><td>0</td><td>0</td><td>0</td><td>0</td><td>0</td><td>0</td><td>0</td><td>0</td><td>null</td><td>null</td><td>null</td><td>20241030</td><td>0</td><td>&quot;NYC21&quot;</td><td>&quot;h&quot;</td><td>&quot;LAN&quot;</td><td>0</td><td>1</td><td>0</td><td>&quot;worldseries&quot;</td><td>&quot;y&quot;</td><td>&quot;y&quot;</td><td>2024</td></tr><tr><td>&quot;NYA202410300&quot;</td><td>&quot;weavl001&quot;</td><td>&quot;NYA&quot;</td><td>null</td><td>null</td><td>&quot;value&quot;</td><td>0</td><td>0</td><td>0</td><td>0</td><td>0</td><td>0</td><td>0</td><td>0</td><td>0</td><td>0</td><td>0</td><td>0</td><td>0</td><td>0</td><td>0</td><td>0</td><td>0</td><td>0</td><td>0</td><td>null</td><td>null</td><td>null</td><td>20241030</td><td>0</td><td>&quot;NYC21&quot;</td><td>&quot;h&quot;</td><td>&quot;LAN&quot;</td><td>0</td><td>1</td><td>0</td><td>&quot;worldseries&quot;</td><td>&quot;y&quot;</td><td>&quot;y&quot;</td><td>2024</td></tr><tr><td>&quot;NYA202410300&quot;</td><td>&quot;leitm002&quot;</td><td>&quot;NYA&quot;</td><td>null</td><td>null</td><td>&quot;value&quot;</td><td>0</td><td>0</td><td>0</td><td>0</td><td>0</td><td>0</td><td>0</td><td>0</td><td>0</td><td>0</td><td>0</td><td>0</td><td>0</td><td>0</td><td>0</td><td>0</td><td>0</td><td>0</td><td>0</td><td>null</td><td>null</td><td>null</td><td>20241030</td><td>0</td><td>&quot;NYC21&quot;</td><td>&quot;h&quot;</td><td>&quot;LAN&quot;</td><td>0</td><td>1</td><td>0</td><td>&quot;worldseries&quot;</td><td>&quot;y&quot;</td><td>&quot;y&quot;</td><td>2024</td></tr></tbody></table></div>"
      ],
      "text/plain": [
       "shape: (5_580_931, 40)\n",
       "┌──────────────┬──────────┬──────┬──────┬───┬─────────────┬─────┬──────┬──────┐\n",
       "│ gid          ┆ id       ┆ team ┆ b_lp ┆ … ┆ gametype    ┆ box ┆ pbp  ┆ year │\n",
       "│ ---          ┆ ---      ┆ ---  ┆ ---  ┆   ┆ ---         ┆ --- ┆ ---  ┆ ---  │\n",
       "│ str          ┆ str      ┆ str  ┆ i64  ┆   ┆ str         ┆ str ┆ str  ┆ i32  │\n",
       "╞══════════════╪══════════╪══════╪══════╪═══╪═════════════╪═════╪══════╪══════╡\n",
       "│ PHI190104180 ┆ davil101 ┆ BRO  ┆ 1    ┆ … ┆ regular     ┆ y   ┆ null ┆ 1901 │\n",
       "│ PHI190104180 ┆ keelw101 ┆ BRO  ┆ 2    ┆ … ┆ regular     ┆ y   ┆ null ┆ 1901 │\n",
       "│ PHI190104180 ┆ shecj101 ┆ BRO  ┆ 3    ┆ … ┆ regular     ┆ y   ┆ null ┆ 1901 │\n",
       "│ PHI190104180 ┆ kellj106 ┆ BRO  ┆ 4    ┆ … ┆ regular     ┆ y   ┆ null ┆ 1901 │\n",
       "│ PHI190104180 ┆ mccrt101 ┆ BRO  ┆ 5    ┆ … ┆ regular     ┆ y   ┆ null ┆ 1901 │\n",
       "│ …            ┆ …        ┆ …    ┆ …    ┆ … ┆ …           ┆ …   ┆ …    ┆ …    │\n",
       "│ NYA202410300 ┆ coleg001 ┆ NYA  ┆ null ┆ … ┆ worldseries ┆ y   ┆ y    ┆ 2024 │\n",
       "│ NYA202410300 ┆ holmc001 ┆ NYA  ┆ null ┆ … ┆ worldseries ┆ y   ┆ y    ┆ 2024 │\n",
       "│ NYA202410300 ┆ kahnt001 ┆ NYA  ┆ null ┆ … ┆ worldseries ┆ y   ┆ y    ┆ 2024 │\n",
       "│ NYA202410300 ┆ weavl001 ┆ NYA  ┆ null ┆ … ┆ worldseries ┆ y   ┆ y    ┆ 2024 │\n",
       "│ NYA202410300 ┆ leitm002 ┆ NYA  ┆ null ┆ … ┆ worldseries ┆ y   ┆ y    ┆ 2024 │\n",
       "└──────────────┴──────────┴──────┴──────┴───┴─────────────┴─────┴──────┴──────┘"
      ]
     },
     "execution_count": 41,
     "metadata": {},
     "output_type": "execute_result"
    }
   ],
   "source": [
    "df = df.with_columns(\n",
    "    pl.col(\"date\")\n",
    "    .cast(pl.String)\n",
    "    .str.strptime(pl.Date, \"%Y%m%d\")\n",
    "    .dt.year()\n",
    "    .alias(\"year\")\n",
    ")\n",
    "\n",
    "df.filter(~pl.col(\"gametype\").is_in([\"exhibition\", \"allstar\"]))"
   ]
  },
  {
   "cell_type": "code",
   "execution_count": 51,
   "id": "3ad5a328",
   "metadata": {},
   "outputs": [],
   "source": [
    "cols_to_aggregate = [\n",
    "    \"b_pa\", \"b_ab\", \"b_r\", \"b_h\", \"b_d\", \"b_t\", \"b_hr\", \"b_rbi\",\n",
    "    \"b_sh\", \"b_sf\", \"b_hbp\", \"b_w\", \"b_iw\", \"b_k\", \"b_sb\", \"b_cs\",\n",
    "    \"b_gdp\", \"b_xi\", \"b_roe\"\n",
    "]\n",
    "aggregations = [pl.sum(col).alias(col) for col in cols_to_aggregate]\n",
    "yearly_df = (df\n",
    "    .group_by([\"id\", \"year\"])\n",
    "    .agg(aggregations)\n",
    "    .sort([\"year\"])\n",
    ")"
   ]
  },
  {
   "cell_type": "code",
   "execution_count": 54,
   "id": "be5a9ef3",
   "metadata": {},
   "outputs": [],
   "source": [
    "yearly_df.write_parquet(\"../../parquets/batting-yearly.parquet\")"
   ]
  },
  {
   "cell_type": "code",
   "execution_count": 83,
   "id": "1c8fd768",
   "metadata": {},
   "outputs": [],
   "source": [
    "yearly_adv_df = yearly_df.with_columns([\n",
    "    (pl.col(\"b_h\") / pl.col(\"b_ab\")).alias(\"b_ba\"),  # Batting Average\n",
    "    ((pl.col(\"b_h\") + pl.col(\"b_w\") + pl.col(\"b_hbp\")) / \n",
    "     (pl.col(\"b_ab\") + pl.col(\"b_w\") + pl.col(\"b_hbp\") + pl.col(\"b_sf\"))).alias(\"b_obp\"),  # On-base Percentage\n",
    "    ((pl.col(\"b_h\") - pl.col(\"b_d\") - pl.col(\"b_t\") - pl.col(\"b_hr\") + \n",
    "      2 * pl.col(\"b_d\") + 3 * pl.col(\"b_t\") + 4 * pl.col(\"b_hr\")) / \n",
    "     pl.col(\"b_ab\")).alias(\"b_slg\"),  # Slugging Percentage\n",
    "    (pl.col(\"b_k\") / pl.col(\"b_ab\")).alias(\"b_k_pct\")  # Strikeout Rate\n",
    "])"
   ]
  },
  {
   "cell_type": "code",
   "execution_count": 84,
   "id": "21d94c66",
   "metadata": {},
   "outputs": [],
   "source": [
    "yearly_adv_df.write_parquet(\"../../parquets/batting-yearly-adv.parquet\")"
   ]
  }
 ],
 "metadata": {
  "kernelspec": {
   "display_name": ".venv",
   "language": "python",
   "name": "python3"
  },
  "language_info": {
   "codemirror_mode": {
    "name": "ipython",
    "version": 3
   },
   "file_extension": ".py",
   "mimetype": "text/x-python",
   "name": "python",
   "nbconvert_exporter": "python",
   "pygments_lexer": "ipython3",
   "version": "3.12.3"
  }
 },
 "nbformat": 4,
 "nbformat_minor": 5
}
