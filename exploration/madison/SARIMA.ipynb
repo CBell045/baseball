{
 "cells": [
  {
   "cell_type": "code",
   "execution_count": 1,
   "id": "79c6c1ec",
   "metadata": {},
   "outputs": [],
   "source": [
    "import polars as pl\n",
    "import pyarrow as pa\n",
    "from statsmodels.tsa.arima.model import ARIMA\n",
    "import matplotlib.pyplot as plt\n",
    "from statsmodels.graphics.tsaplots import plot_acf, plot_pacf\n",
    "import matplotlib.pyplot as plt\n",
    "import pandas as pd\n"
   ]
  },
  {
   "cell_type": "code",
   "execution_count": 2,
   "id": "c27f508f",
   "metadata": {},
   "outputs": [],
   "source": [
    "df = pl.read_parquet(r'C:\\Users\\AG4UNA4\\Downloads\\HW3\\Q4\\parquets\\batting-yearly-adv.parquet').select(\"id\",\"year\", \"b_ba\")\n",
    "# df = df.filter(pl.col(\"id\") == \"gricr001\")\n",
    "# display(df.sort(\"year\"))"
   ]
  },
  {
   "cell_type": "code",
   "execution_count": null,
   "id": "edfe6490",
   "metadata": {},
   "outputs": [],
   "source": [
    "all_predictions = []\n",
    "\n",
    "playerids = df['id'].unique()\n",
    "\n",
    "for player_id in playerids:\n",
    "    \n",
    "    player_data = df.filter(pl.col('id') == player_id).to_pandas()\n",
    "    \n",
    "\n",
    "    player_data = player_data.sort_values('year')\n",
    "    \n",
    "    # Set  'year'  as index\n",
    "    player_data.set_index('year', inplace=True)\n",
    "\n",
    "    player_data.dropna(inplace=True)\n",
    "    \n",
    "    # Exclude the last year's data for model fitting\n",
    "    if len(player_data) > 1:\n",
    "        try:\n",
    "            last_year = player_data.index[-1]\n",
    "            data_for_model = player_data.iloc[:-1]\n",
    "            model = ARIMA(data_for_model['b_ba'], order=(1, 1, 1))\n",
    "            model_fit = model.fit()\n",
    "            forecast = model_fit.forecast(steps=1).iloc[0]\n",
    "            player_data.loc[last_year, 'forecasted_b_ba'] = forecast\n",
    "            \n",
    "            # Forecast an additional year\n",
    "            next_year = last_year + 1\n",
    "            additional_forecast = model_fit.forecast(steps=2).iloc[1]\n",
    "            player_data.loc[next_year] = [player_id, None, additional_forecast]\n",
    "        except Exception as e:\n",
    "            print(f\"Error fitting ARIMA model for ID {player_id}: {e}\")\n",
    "    \n",
    "    # Reset the index to make 'year' a column again\n",
    "    player_data.reset_index(inplace=True)\n",
    "    \n",
    "    # Append the player's data with predictions to the list\n",
    "    all_predictions.append(player_data)\n",
    "\n",
    "# Concatenate all the player data into a single DataFrame\n",
    "final_predictions_df = pd.concat(all_predictions, ignore_index=True)\n",
    "\n",
    "# Calculate the error where both 'b_ba' and 'forecasted_b_ba' are not NaN\n",
    "final_predictions_df['Error'] = final_predictions_df.apply(\n",
    "    lambda row: row['b_ba'] - row['forecasted_b_ba'] if pd.notna(row['b_ba']) and pd.notna(row['forecasted_b_ba']) else None,\n",
    "    axis=1\n",
    ")\n"
   ]
  },
  {
   "cell_type": "code",
   "execution_count": 4,
   "id": "6cfaebd4",
   "metadata": {},
   "outputs": [
    {
     "name": "stdout",
     "output_type": "stream",
     "text": [
      "       year        id      b_ba  forecasted_b_ba     Error\n",
      "0      1946  johnc101  0.000000              NaN       NaN\n",
      "1      1973  sharb102  0.268657              NaN       NaN\n",
      "2      1974  sharb102  0.254601              NaN       NaN\n",
      "3      1975  sharb102  0.254197              NaN       NaN\n",
      "4      1976  sharb102  0.244444         0.254197 -0.009752\n",
      "...     ...       ...       ...              ...       ...\n",
      "98866  1973  manga101  0.212560              NaN       NaN\n",
      "98867  1974  manga101  0.232432              NaN       NaN\n",
      "98868  1975  manga101  0.220183              NaN       NaN\n",
      "98869  1976  manga101  0.166667         0.228975 -0.062308\n",
      "98870  1977  manga101       NaN         0.233297       NaN\n",
      "\n",
      "[98871 rows x 5 columns]\n"
     ]
    }
   ],
   "source": [
    "print(final_predictions_df)"
   ]
  },
  {
   "cell_type": "code",
   "execution_count": null,
   "id": "e567e51b",
   "metadata": {},
   "outputs": [],
   "source": [
    "from statsmodels.tsa.statespace.sarimax import SARIMAX\n",
    "\n",
    "all_predictions = []\n",
    "\n",
    "playerids = df['id'].unique()\n",
    "\n",
    "for player_id in playerids:\n",
    "    \n",
    "    player_data = df.filter(pl.col('id') == player_id).to_pandas()\n",
    "    \n",
    "    player_data = player_data.sort_values('year')\n",
    "    \n",
    "    # Set 'year' as index\n",
    "    player_data.set_index('year', inplace=True)\n",
    "\n",
    "    player_data.dropna(inplace=True)\n",
    "    \n",
    "    # Exclude the last year's data for model fitting\n",
    "    if len(player_data) > 1:\n",
    "        try:\n",
    "            last_year = player_data.index[-1]\n",
    "            data_for_model = player_data.iloc[:-1]\n",
    "            \n",
    "            # Fit a SARIMA model\n",
    "            model = SARIMAX(data_for_model['b_ba'], order=(1, 1, 1), seasonal_order=(1, 1, 1, 12))\n",
    "            model_fit = model.fit(disp=False)\n",
    "            \n",
    "            forecast = model_fit.forecast(steps=1).iloc[0]\n",
    "            player_data.loc[last_year, 'forecasted_b_ba'] = forecast\n",
    "            \n",
    "            # Forecast an additional year\n",
    "            next_year = last_year + 1\n",
    "            additional_forecast = model_fit.forecast(steps=2).iloc[1]\n",
    "            player_data.loc[next_year] = [player_id, None, additional_forecast]\n",
    "        except Exception as e:\n",
    "            print(f\"Error fitting SARIMA model for ID {player_id}: {e}\")\n",
    "    \n",
    "    # Reset the index to make 'year' a column again\n",
    "    player_data.reset_index(inplace=True)\n",
    "    \n",
    "    # Append the player's data with predictions to the list\n",
    "    all_predictions.append(player_data)\n",
    "\n",
    "# Concatenate all the player data into a single DataFrame\n",
    "final_predictions_sarima_df = pd.concat(all_predictions, ignore_index=True)\n",
    "\n",
    "# Calculate the error where both 'b_ba' and 'forecasted_b_ba' are not NaN\n",
    "final_predictions_sarima_df['Error'] = final_predictions_sarima_df.apply(\n",
    "    lambda row: row['b_ba'] - row['forecasted_b_ba'] if pd.notna(row['b_ba']) and pd.notna(row['forecasted_b_ba']) else None,\n",
    "    axis=1\n",
    ")\n"
   ]
  },
  {
   "cell_type": "code",
   "execution_count": 6,
   "id": "230c2ddc",
   "metadata": {},
   "outputs": [
    {
     "name": "stdout",
     "output_type": "stream",
     "text": [
      "        year        id      b_ba  forecasted_b_ba     Error\n",
      "0       2013  hamib001  0.368421              NaN       NaN\n",
      "1       2014  hamib001  0.250444              NaN       NaN\n",
      "2       2015  hamib001  0.225728              NaN       NaN\n",
      "3       2016  hamib001  0.260341              NaN       NaN\n",
      "4       2017  hamib001  0.247423              NaN       NaN\n",
      "...      ...       ...       ...              ...       ...\n",
      "100464  1987  esasn001  0.271676              NaN       NaN\n",
      "100465  1988  esasn001  0.242967              NaN       NaN\n",
      "100466  1989  esasn001  0.276596              NaN       NaN\n",
      "100467  1990  esasn001  0.171429         0.276596 -0.105167\n",
      "100468  1991  esasn001       NaN         0.276596       NaN\n",
      "\n",
      "[100469 rows x 5 columns]\n"
     ]
    }
   ],
   "source": [
    "print(final_predictions_sarima_df)"
   ]
  },
  {
   "cell_type": "code",
   "execution_count": 7,
   "id": "84562522",
   "metadata": {},
   "outputs": [],
   "source": [
    "final_predictions_sarima_df.to_parquet(r'C:\\Users\\AG4UNA4\\Downloads\\HW3\\Q4\\parquets\\final_predictions_sarima_df.parquet', index=False)\n",
    "final_predictions_df.to_parquet(r'C:\\Users\\AG4UNA4\\Downloads\\HW3\\Q4\\parquets\\final_predictions_df.parquet', index=False)"
   ]
  },
  {
   "cell_type": "code",
   "execution_count": null,
   "id": "d03b1a5a",
   "metadata": {},
   "outputs": [
    {
     "data": {
      "image/png": "[encoded data removed]",
      "text/plain": [
       "<Figure size 1200x600 with 1 Axes>"
      ]
     },
     "metadata": {},
     "output_type": "display_data"
    },
    {
     "data": {
      "image/png": "[encoded data removed]",
      "text/plain": [
       "<Figure size 1200x600 with 1 Axes>"
      ]
     },
     "metadata": {},
     "output_type": "display_data"
    }
   ],
   "source": [
    "def pltACF (df, lags=10):\n",
    "    b_ba_series = df.to_pandas()['b_ba']\n",
    "    plt.figure(figsize=(12, 6))\n",
    "    plt.subplot(121)\n",
    "    plot_acf(b_ba_series, lags=10, ax=plt.gca())\n",
    "    plt.title('Autocorrelation Function (ACF)')\n",
    "\n",
    "    plt.tight_layout()\n",
    "    plt.show()\n",
    "    \n",
    "def pltPACF (df, lags=10):\n",
    "    b_ba_series = df.to_pandas()['b_ba']\n",
    "    plt.figure(figsize=(12, 6))\n",
    "    plt.subplot(122)\n",
    "    plot_pacf(b_ba_series, lags=5, ax=plt.gca(), method='ywm')\n",
    "    plt.title('Partial Autocorrelation Function (PACF)')\n",
    "\n",
    "    plt.tight_layout()\n",
    "    plt.show()\n",
    "\n",
    "\n",
    "pltPACF(df)\n",
    "pltACF(df)"
   ]
  },
  {
   "cell_type": "code",
   "execution_count": null,
   "id": "d0e9ecc3",
   "metadata": {},
   "outputs": [
    {
     "ename": "NameError",
     "evalue": "name 'time_series' is not defined",
     "output_type": "error",
     "traceback": [
      "\u001b[31m---------------------------------------------------------------------------\u001b[39m",
      "\u001b[31mNameError\u001b[39m                                 Traceback (most recent call last)",
      "\u001b[36mCell\u001b[39m\u001b[36m \u001b[39m\u001b[32mIn[10]\u001b[39m\u001b[32m, line 2\u001b[39m\n\u001b[32m      1\u001b[39m \u001b[38;5;66;03m# Set the 'year' column as the index\u001b[39;00m\n\u001b[32m----> \u001b[39m\u001b[32m2\u001b[39m \u001b[43mtime_series\u001b[49m.set_index(\u001b[33m\"\u001b[39m\u001b[33myear\u001b[39m\u001b[33m\"\u001b[39m, inplace=\u001b[38;5;28;01mTrue\u001b[39;00m)\n\u001b[32m      4\u001b[39m \u001b[38;5;66;03m# Drop rows with NaN values\u001b[39;00m\n\u001b[32m      5\u001b[39m time_series.dropna(inplace=\u001b[38;5;28;01mTrue\u001b[39;00m)\n",
      "\u001b[31mNameError\u001b[39m: name 'time_series' is not defined"
     ]
    }
   ],
   "source": [
    "\n",
    "# Set the 'year' column as the index\n",
    "time_series.set_index(\"year\", inplace=True)\n",
    "\n",
    "# Drop rows with NaN values\n",
    "time_series.dropna(inplace=True)\n",
    "\n",
    "# Fit an ARIMA model (order can be adjusted based on the data)\n",
    "model = ARIMA(time_series['b_ba'], order=(1, 1, 1))\n",
    "model_fit = model.fit()\n",
    "\n",
    "# Print the summary of the model\n",
    "print(model_fit.summary())\n",
    "\n",
    "# Plot the original data and the fitted values\n",
    "plt.figure(figsize=(10, 6))\n",
    "plt.plot(time_series, label='Original Data')\n",
    "plt.plot(model_fit.fittedvalues, label='Fitted Values', color='red')\n",
    "plt.legend()\n",
    "plt.title('ARIMA Model Fit')\n",
    "plt.show()\n",
    "plt.show()\n",
    "print('cat')\n"
   ]
  }
 ],
 "metadata": {
  "kernelspec": {
   "display_name": "Python 3",
   "language": "python",
   "name": "python3"
  },
  "language_info": {
   "codemirror_mode": {
    "name": "ipython",
    "version": 3
   },
   "file_extension": ".py",
   "mimetype": "text/x-python",
   "name": "python",
   "nbconvert_exporter": "python",
   "pygments_lexer": "ipython3",
   "version": "3.12.6"
  }
 },
 "nbformat": 4,
 "nbformat_minor": 5
}
