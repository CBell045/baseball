{
 "cells": [
  {
   "cell_type": "markdown",
   "metadata": {},
   "source": [
    "TODO: \n",
    "- Filter out the last year for every player\n",
    "- Save a new result csv with batting average for every player by year\n",
    "- Edit the home page to display those results. I guess? "
   ]
  },
  {
   "cell_type": "code",
   "execution_count": 25,
   "metadata": {},
   "outputs": [
    {
     "data": {
      "text/html": [
       "<div><style>\n",
       ".dataframe > thead > tr,\n",
       ".dataframe > tbody > tr {\n",
       "  text-align: right;\n",
       "  white-space: pre-wrap;\n",
       "}\n",
       "</style>\n",
       "<small>shape: (96_747, 2)</small><table border=\"1\" class=\"dataframe\"><thead><tr><th>name</th><th>id</th></tr><tr><td>str</td><td>str</td></tr></thead><tbody><tr><td>&quot;John Anderson&quot;</td><td>&quot;andej101&quot;</td></tr><tr><td>&quot;Jimmy Barrett&quot;</td><td>&quot;barrj103&quot;</td></tr><tr><td>&quot;Shad Barry&quot;</td><td>&quot;barrs101&quot;</td></tr><tr><td>&quot;Shad Barry&quot;</td><td>&quot;barrs101&quot;</td></tr><tr><td>&quot;Harry Bay&quot;</td><td>&quot;bay-h101&quot;</td></tr><tr><td>&hellip;</td><td>&hellip;</td></tr><tr><td>&quot;Christian Yelich&quot;</td><td>&quot;yelic001&quot;</td></tr><tr><td>&quot;Alex Young&quot;</td><td>&quot;youna002&quot;</td></tr><tr><td>&quot;Alex Young&quot;</td><td>&quot;youna002&quot;</td></tr><tr><td>&quot;Rob Zastryzny&quot;</td><td>&quot;zastr001&quot;</td></tr><tr><td>&quot;Seby Zavala&quot;</td><td>&quot;zavas001&quot;</td></tr></tbody></table></div>"
      ],
      "text/plain": [
       "shape: (96_747, 2)\n",
       "┌──────────────────┬──────────┐\n",
       "│ name             ┆ id       │\n",
       "│ ---              ┆ ---      │\n",
       "│ str              ┆ str      │\n",
       "╞══════════════════╪══════════╡\n",
       "│ John Anderson    ┆ andej101 │\n",
       "│ Jimmy Barrett    ┆ barrj103 │\n",
       "│ Shad Barry       ┆ barrs101 │\n",
       "│ Shad Barry       ┆ barrs101 │\n",
       "│ Harry Bay        ┆ bay-h101 │\n",
       "│ …                ┆ …        │\n",
       "│ Christian Yelich ┆ yelic001 │\n",
       "│ Alex Young       ┆ youna002 │\n",
       "│ Alex Young       ┆ youna002 │\n",
       "│ Rob Zastryzny    ┆ zastr001 │\n",
       "│ Seby Zavala      ┆ zavas001 │\n",
       "└──────────────────┴──────────┘"
      ]
     },
     "execution_count": 25,
     "metadata": {},
     "output_type": "execute_result"
    }
   ],
   "source": [
    "import polars as pl\n",
    "players = (\n",
    "    pl.scan_parquet(\"../../parquets/allplayers.parquet\")\n",
    "    .with_columns(\n",
    "        (pl.col(\"first\") + pl.lit(\" \") + pl.col(\"last\")).alias(\"name\"),\n",
    "        pl.count(\"season\").over(\"id\").alias(\"count\"),\n",
    "    )\n",
    "    .filter(pl.col(\"count\") > 5)\n",
    "    .select(\n",
    "        pl.col(\"name\"),\n",
    "        pl.col(\"id\"),\n",
    "        )\n",
    ")\n",
    "players.collect()"
   ]
  },
  {
   "cell_type": "code",
   "execution_count": 26,
   "metadata": {},
   "outputs": [
    {
     "data": {
      "text/html": [
       "<div><style>\n",
       ".dataframe > thead > tr,\n",
       ".dataframe > tbody > tr {\n",
       "  text-align: right;\n",
       "  white-space: pre-wrap;\n",
       "}\n",
       "</style>\n",
       "<small>shape: (14, 6)</small><table border=\"1\" class=\"dataframe\"><thead><tr><th>id</th><th>year</th><th>b_h</th><th>b_ab</th><th>avg</th><th>count</th></tr><tr><td>str</td><td>i32</td><td>i64</td><td>i64</td><td>f64</td><td>u32</td></tr></thead><tbody><tr><td>&quot;freef001&quot;</td><td>2018</td><td>195</td><td>636</td><td>0.306604</td><td>14</td></tr><tr><td>&quot;freef001&quot;</td><td>2021</td><td>198</td><td>658</td><td>0.300912</td><td>14</td></tr><tr><td>&quot;freef001&quot;</td><td>2014</td><td>176</td><td>608</td><td>0.289474</td><td>14</td></tr><tr><td>&quot;freef001&quot;</td><td>2017</td><td>135</td><td>440</td><td>0.306818</td><td>14</td></tr><tr><td>&quot;freef001&quot;</td><td>2012</td><td>143</td><td>544</td><td>0.262868</td><td>14</td></tr><tr><td>&hellip;</td><td>&hellip;</td><td>&hellip;</td><td>&hellip;</td><td>&hellip;</td><td>&hellip;</td></tr><tr><td>&quot;freef001&quot;</td><td>2022</td><td>204</td><td>627</td><td>0.325359</td><td>14</td></tr><tr><td>&quot;freef001&quot;</td><td>2015</td><td>115</td><td>416</td><td>0.276442</td><td>14</td></tr><tr><td>&quot;freef001&quot;</td><td>2020</td><td>85</td><td>257</td><td>0.330739</td><td>14</td></tr><tr><td>&quot;freef001&quot;</td><td>2011</td><td>161</td><td>571</td><td>0.281961</td><td>14</td></tr><tr><td>&quot;freef001&quot;</td><td>2023</td><td>212</td><td>648</td><td>0.32716</td><td>14</td></tr></tbody></table></div>"
      ],
      "text/plain": [
       "shape: (14, 6)\n",
       "┌──────────┬──────┬─────┬──────┬──────────┬───────┐\n",
       "│ id       ┆ year ┆ b_h ┆ b_ab ┆ avg      ┆ count │\n",
       "│ ---      ┆ ---  ┆ --- ┆ ---  ┆ ---      ┆ ---   │\n",
       "│ str      ┆ i32  ┆ i64 ┆ i64  ┆ f64      ┆ u32   │\n",
       "╞══════════╪══════╪═════╪══════╪══════════╪═══════╡\n",
       "│ freef001 ┆ 2018 ┆ 195 ┆ 636  ┆ 0.306604 ┆ 14    │\n",
       "│ freef001 ┆ 2021 ┆ 198 ┆ 658  ┆ 0.300912 ┆ 14    │\n",
       "│ freef001 ┆ 2014 ┆ 176 ┆ 608  ┆ 0.289474 ┆ 14    │\n",
       "│ freef001 ┆ 2017 ┆ 135 ┆ 440  ┆ 0.306818 ┆ 14    │\n",
       "│ freef001 ┆ 2012 ┆ 143 ┆ 544  ┆ 0.262868 ┆ 14    │\n",
       "│ …        ┆ …    ┆ …   ┆ …    ┆ …        ┆ …     │\n",
       "│ freef001 ┆ 2022 ┆ 204 ┆ 627  ┆ 0.325359 ┆ 14    │\n",
       "│ freef001 ┆ 2015 ┆ 115 ┆ 416  ┆ 0.276442 ┆ 14    │\n",
       "│ freef001 ┆ 2020 ┆ 85  ┆ 257  ┆ 0.330739 ┆ 14    │\n",
       "│ freef001 ┆ 2011 ┆ 161 ┆ 571  ┆ 0.281961 ┆ 14    │\n",
       "│ freef001 ┆ 2023 ┆ 212 ┆ 648  ┆ 0.32716  ┆ 14    │\n",
       "└──────────┴──────┴─────┴──────┴──────────┴───────┘"
      ]
     },
     "execution_count": 26,
     "metadata": {},
     "output_type": "execute_result"
    }
   ],
   "source": [
    "import polars as pl\n",
    "batting = (\n",
    "    pl.scan_parquet(\"../../parquets/batting.parquet\")\n",
    "    .with_columns(\n",
    "        pl.col(\"date\").cast(pl.String)\n",
    "        .str.strptime(pl.Date, \"%Y%m%d\")\n",
    "        .dt.year()\n",
    "        .alias(\"year\")\n",
    "    )\n",
    "    .group_by(\n",
    "        \"id\", \"year\"\n",
    "    )\n",
    "    .agg(pl.col(\"b_h\").sum(), pl.col(\"b_ab\").sum())\n",
    "    .with_columns((pl.col(\"b_h\") / pl.col(\"b_ab\")).alias(\"avg\"))\n",
    "    .filter(pl.col(\"b_ab\") > 100)\n",
    "    .with_columns(\n",
    "        pl.count(\"year\").over(\"id\").alias(\"count\")\n",
    "    )\n",
    "    .filter(pl.col(\"id\")==\"freef001\")\n",
    "    # .select(\n",
    "    #     pl.col(\"id\").alias(\"unique_id\"),\n",
    "    #     pl.col(\"year\").alias(\"ds\"),\n",
    "    #     pl.col(\"avg\").alias(\"y\"),\n",
    "    # )\n",
    ").collect()\n",
    "batting"
   ]
  },
  {
   "cell_type": "code",
   "execution_count": 5,
   "metadata": {},
   "outputs": [
    {
     "name": "stderr",
     "output_type": "stream",
     "text": [
      "/Users/chadbell/github/baseball/.venv/lib/python3.12/site-packages/tqdm/auto.py:21: TqdmWarning: IProgress not found. Please update jupyter and ipywidgets. See https://ipywidgets.readthedocs.io/en/stable/user_install.html\n",
      "  from .autonotebook import tqdm as notebook_tqdm\n"
     ]
    }
   ],
   "source": [
    "import statsforecast.models\n",
    "models = [\n",
    "    statsforecast.models.AutoARIMA(),\n",
    "    # statsforecast.models.AutoETS(),\n",
    "    # statsforecast.models.AutoRegressive(10),\n",
    "    # statsforecast.models.HoltWinters(),\n",
    "    # statsforecast.models.HistoricAverage(),\n",
    "]"
   ]
  },
  {
   "cell_type": "code",
   "execution_count": 6,
   "metadata": {},
   "outputs": [],
   "source": [
    "# Instantiate StatsForecast class as sf\n",
    "sf = statsforecast.StatsForecast( \n",
    "    models=models,\n",
    "    freq=1, \n",
    "    n_jobs=-1,\n",
    "    verbose=True,\n",
    ")"
   ]
  },
  {
   "cell_type": "code",
   "execution_count": 7,
   "metadata": {},
   "outputs": [
    {
     "name": "stderr",
     "output_type": "stream",
     "text": [
      "Forecast: 100%|██████████| 1/1 [00:00<00:00, 15.42it/s]\n"
     ]
    },
    {
     "data": {
      "text/html": [
       "<div><style>\n",
       ".dataframe > thead > tr,\n",
       ".dataframe > tbody > tr {\n",
       "  text-align: right;\n",
       "  white-space: pre-wrap;\n",
       "}\n",
       "</style>\n",
       "<small>shape: (1, 5)</small><table border=\"1\" class=\"dataframe\"><thead><tr><th>unique_id</th><th>ds</th><th>AutoARIMA</th><th>AutoARIMA-lo-90</th><th>AutoARIMA-hi-90</th></tr><tr><td>str</td><td>i64</td><td>f64</td><td>f64</td><td>f64</td></tr></thead><tbody><tr><td>&quot;freef001&quot;</td><td>2025</td><td>0.300002</td><td>0.265624</td><td>0.33438</td></tr></tbody></table></div>"
      ],
      "text/plain": [
       "shape: (1, 5)\n",
       "┌───────────┬──────┬───────────┬─────────────────┬─────────────────┐\n",
       "│ unique_id ┆ ds   ┆ AutoARIMA ┆ AutoARIMA-lo-90 ┆ AutoARIMA-hi-90 │\n",
       "│ ---       ┆ ---  ┆ ---       ┆ ---             ┆ ---             │\n",
       "│ str       ┆ i64  ┆ f64       ┆ f64             ┆ f64             │\n",
       "╞═══════════╪══════╪═══════════╪═════════════════╪═════════════════╡\n",
       "│ freef001  ┆ 2025 ┆ 0.300002  ┆ 0.265624        ┆ 0.33438         │\n",
       "└───────────┴──────┴───────────┴─────────────────┴─────────────────┘"
      ]
     },
     "execution_count": 7,
     "metadata": {},
     "output_type": "execute_result"
    }
   ],
   "source": [
    "forecasts_df = sf.forecast(df=batting, h=1, level=[90])\n",
    "forecasts_df.head()"
   ]
  },
  {
   "cell_type": "code",
   "execution_count": 8,
   "metadata": {},
   "outputs": [
    {
     "data": {
      "text/html": [
       "<div><style>\n",
       ".dataframe > thead > tr,\n",
       ".dataframe > tbody > tr {\n",
       "  text-align: right;\n",
       "  white-space: pre-wrap;\n",
       "}\n",
       "</style>\n",
       "<small>shape: (1, 5)</small><table border=\"1\" class=\"dataframe\"><thead><tr><th>unique_id</th><th>ds</th><th>AutoARIMA</th><th>AutoARIMA-lo-90</th><th>AutoARIMA-hi-90</th></tr><tr><td>str</td><td>i64</td><td>f64</td><td>f64</td><td>f64</td></tr></thead><tbody><tr><td>&quot;freef001&quot;</td><td>2025</td><td>0.300002</td><td>0.265624</td><td>0.33438</td></tr></tbody></table></div>"
      ],
      "text/plain": [
       "shape: (1, 5)\n",
       "┌───────────┬──────┬───────────┬─────────────────┬─────────────────┐\n",
       "│ unique_id ┆ ds   ┆ AutoARIMA ┆ AutoARIMA-lo-90 ┆ AutoARIMA-hi-90 │\n",
       "│ ---       ┆ ---  ┆ ---       ┆ ---             ┆ ---             │\n",
       "│ str       ┆ i64  ┆ f64       ┆ f64             ┆ f64             │\n",
       "╞═══════════╪══════╪═══════════╪═════════════════╪═════════════════╡\n",
       "│ freef001  ┆ 2025 ┆ 0.300002  ┆ 0.265624        ┆ 0.33438         │\n",
       "└───────────┴──────┴───────────┴─────────────────┴─────────────────┘"
      ]
     },
     "execution_count": 8,
     "metadata": {},
     "output_type": "execute_result"
    }
   ],
   "source": [
    "forecasts_df"
   ]
  },
  {
   "cell_type": "code",
   "execution_count": 9,
   "metadata": {},
   "outputs": [
    {
     "data": {
      "text/html": [
       "<div><style>\n",
       ".dataframe > thead > tr,\n",
       ".dataframe > tbody > tr {\n",
       "  text-align: right;\n",
       "  white-space: pre-wrap;\n",
       "}\n",
       "</style>\n",
       "<small>shape: (1, 6)</small><table border=\"1\" class=\"dataframe\"><thead><tr><th>name</th><th>unique_id</th><th>ds</th><th>AutoARIMA</th><th>AutoARIMA-lo-90</th><th>AutoARIMA-hi-90</th></tr><tr><td>str</td><td>str</td><td>i64</td><td>f64</td><td>f64</td><td>f64</td></tr></thead><tbody><tr><td>&quot;Freddie Freeman&quot;</td><td>&quot;freef001&quot;</td><td>2025</td><td>0.300002</td><td>0.265624</td><td>0.33438</td></tr></tbody></table></div>"
      ],
      "text/plain": [
       "shape: (1, 6)\n",
       "┌─────────────────┬───────────┬──────┬───────────┬─────────────────┬─────────────────┐\n",
       "│ name            ┆ unique_id ┆ ds   ┆ AutoARIMA ┆ AutoARIMA-lo-90 ┆ AutoARIMA-hi-90 │\n",
       "│ ---             ┆ ---       ┆ ---  ┆ ---       ┆ ---             ┆ ---             │\n",
       "│ str             ┆ str       ┆ i64  ┆ f64       ┆ f64             ┆ f64             │\n",
       "╞═════════════════╪═══════════╪══════╪═══════════╪═════════════════╪═════════════════╡\n",
       "│ Freddie Freeman ┆ freef001  ┆ 2025 ┆ 0.300002  ┆ 0.265624        ┆ 0.33438         │\n",
       "└─────────────────┴───────────┴──────┴───────────┴─────────────────┴─────────────────┘"
      ]
     },
     "execution_count": 9,
     "metadata": {},
     "output_type": "execute_result"
    }
   ],
   "source": [
    "results = (\n",
    "    forecasts_df\n",
    "    .join(pl.read_parquet(\"../../parquets/allplayers.parquet\").unique(\"id\"), left_on=\"unique_id\", right_on=\"id\", how=\"left\")\n",
    "    .with_columns((pl.col(\"first\") + pl.lit(\" \") + pl.col(\"last\")).alias(\"name\"))\n",
    "    .select(\n",
    "        \"name\",\n",
    "        \"unique_id\",\n",
    "        \"ds\",\n",
    "        \"AutoARIMA\",\n",
    "        \"AutoARIMA-lo-90\",\n",
    "        \"AutoARIMA-hi-90\",\n",
    "    )\n",
    "    )\n",
    "results.write_parquet(\"arima_forecasts.parquet\")\n",
    "results"
   ]
  }
 ],
 "metadata": {
  "kernelspec": {
   "display_name": ".venv",
   "language": "python",
   "name": "python3"
  },
  "language_info": {
   "codemirror_mode": {
    "name": "ipython",
    "version": 3
   },
   "file_extension": ".py",
   "mimetype": "text/x-python",
   "name": "python",
   "nbconvert_exporter": "python",
   "pygments_lexer": "ipython3",
   "version": "3.12.7"
  }
 },
 "nbformat": 4,
 "nbformat_minor": 2
}
