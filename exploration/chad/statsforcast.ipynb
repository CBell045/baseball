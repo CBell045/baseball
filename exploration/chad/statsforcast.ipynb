{
 "cells": [
  {
   "cell_type": "code",
   "execution_count": 42,
   "metadata": {},
   "outputs": [
    {
     "data": {
      "text/html": [
       "<div><style>\n",
       ".dataframe > thead > tr,\n",
       ".dataframe > tbody > tr {\n",
       "  text-align: right;\n",
       "  white-space: pre-wrap;\n",
       "}\n",
       "</style>\n",
       "<small>shape: (23, 25)</small><table border=\"1\" class=\"dataframe\"><thead><tr><th>id</th><th>last</th><th>first</th><th>bat</th><th>throw</th><th>team</th><th>g</th><th>g_p</th><th>g_sp</th><th>g_rp</th><th>g_c</th><th>g_1b</th><th>g_2b</th><th>g_3b</th><th>g_ss</th><th>g_lf</th><th>g_cf</th><th>g_rf</th><th>g_of</th><th>g_dh</th><th>g_ph</th><th>g_pr</th><th>first_g</th><th>last_g</th><th>season</th></tr><tr><td>str</td><td>str</td><td>str</td><td>str</td><td>str</td><td>str</td><td>i64</td><td>i64</td><td>i64</td><td>i64</td><td>i64</td><td>i64</td><td>i64</td><td>i64</td><td>i64</td><td>i64</td><td>i64</td><td>i64</td><td>i64</td><td>i64</td><td>i64</td><td>i64</td><td>i64</td><td>i64</td><td>i64</td></tr></thead><tbody><tr><td>&quot;freef001&quot;</td><td>&quot;Freeman&quot;</td><td>&quot;Freddie&quot;</td><td>&quot;L&quot;</td><td>&quot;R&quot;</td><td>&quot;ATL&quot;</td><td>20</td><td>0</td><td>0</td><td>0</td><td>0</td><td>12</td><td>0</td><td>0</td><td>0</td><td>0</td><td>0</td><td>0</td><td>0</td><td>0</td><td>11</td><td>2</td><td>20100901</td><td>20101002</td><td>2010</td></tr><tr><td>&quot;freef001&quot;</td><td>&quot;Freeman&quot;</td><td>&quot;Freddie&quot;</td><td>&quot;L&quot;</td><td>&quot;R&quot;</td><td>&quot;ATL&quot;</td><td>157</td><td>0</td><td>0</td><td>0</td><td>0</td><td>156</td><td>0</td><td>0</td><td>0</td><td>0</td><td>0</td><td>0</td><td>0</td><td>0</td><td>1</td><td>0</td><td>20110331</td><td>20110928</td><td>2011</td></tr><tr><td>&quot;freef001&quot;</td><td>&quot;Freeman&quot;</td><td>&quot;Freddie&quot;</td><td>&quot;L&quot;</td><td>&quot;R&quot;</td><td>&quot;ATL&quot;</td><td>148</td><td>0</td><td>0</td><td>0</td><td>0</td><td>147</td><td>0</td><td>0</td><td>0</td><td>0</td><td>0</td><td>0</td><td>0</td><td>0</td><td>2</td><td>0</td><td>20120405</td><td>20121005</td><td>2012</td></tr><tr><td>&quot;freef001&quot;</td><td>&quot;Freeman&quot;</td><td>&quot;Freddie&quot;</td><td>&quot;L&quot;</td><td>&quot;R&quot;</td><td>&quot;ATL&quot;</td><td>151</td><td>0</td><td>0</td><td>0</td><td>0</td><td>151</td><td>0</td><td>0</td><td>0</td><td>0</td><td>0</td><td>0</td><td>0</td><td>0</td><td>0</td><td>1</td><td>20130401</td><td>20131007</td><td>2013</td></tr><tr><td>&quot;freef001&quot;</td><td>&quot;Freeman&quot;</td><td>&quot;Freddie&quot;</td><td>&quot;L&quot;</td><td>&quot;R&quot;</td><td>&quot;NLS&quot;</td><td>0</td><td>0</td><td>0</td><td>0</td><td>0</td><td>0</td><td>0</td><td>0</td><td>0</td><td>0</td><td>0</td><td>0</td><td>0</td><td>0</td><td>0</td><td>0</td><td>0</td><td>0</td><td>2013</td></tr><tr><td>&hellip;</td><td>&hellip;</td><td>&hellip;</td><td>&hellip;</td><td>&hellip;</td><td>&hellip;</td><td>&hellip;</td><td>&hellip;</td><td>&hellip;</td><td>&hellip;</td><td>&hellip;</td><td>&hellip;</td><td>&hellip;</td><td>&hellip;</td><td>&hellip;</td><td>&hellip;</td><td>&hellip;</td><td>&hellip;</td><td>&hellip;</td><td>&hellip;</td><td>&hellip;</td><td>&hellip;</td><td>&hellip;</td><td>&hellip;</td><td>&hellip;</td></tr><tr><td>&quot;freef001&quot;</td><td>&quot;Freeman&quot;</td><td>&quot;Freddie&quot;</td><td>&quot;L&quot;</td><td>&quot;R&quot;</td><td>&quot;NLS&quot;</td><td>1</td><td>0</td><td>0</td><td>0</td><td>0</td><td>0</td><td>0</td><td>0</td><td>0</td><td>0</td><td>0</td><td>0</td><td>0</td><td>0</td><td>1</td><td>0</td><td>20220719</td><td>20220719</td><td>2022</td></tr><tr><td>&quot;freef001&quot;</td><td>&quot;Freeman&quot;</td><td>&quot;Freddie&quot;</td><td>&quot;L&quot;</td><td>&quot;R&quot;</td><td>&quot;LAN&quot;</td><td>164</td><td>0</td><td>0</td><td>0</td><td>0</td><td>164</td><td>0</td><td>0</td><td>0</td><td>0</td><td>0</td><td>0</td><td>0</td><td>0</td><td>0</td><td>0</td><td>20230330</td><td>20231011</td><td>2023</td></tr><tr><td>&quot;freef001&quot;</td><td>&quot;Freeman&quot;</td><td>&quot;Freddie&quot;</td><td>&quot;L&quot;</td><td>&quot;R&quot;</td><td>&quot;NLS&quot;</td><td>1</td><td>0</td><td>0</td><td>0</td><td>0</td><td>1</td><td>0</td><td>0</td><td>0</td><td>0</td><td>0</td><td>0</td><td>0</td><td>0</td><td>0</td><td>0</td><td>20230711</td><td>20230711</td><td>2023</td></tr><tr><td>&quot;freef001&quot;</td><td>&quot;Freeman&quot;</td><td>&quot;Freddie&quot;</td><td>&quot;L&quot;</td><td>&quot;R&quot;</td><td>&quot;LAN&quot;</td><td>160</td><td>0</td><td>0</td><td>0</td><td>0</td><td>160</td><td>0</td><td>0</td><td>0</td><td>0</td><td>0</td><td>0</td><td>0</td><td>0</td><td>0</td><td>0</td><td>20240320</td><td>20241030</td><td>2024</td></tr><tr><td>&quot;freef001&quot;</td><td>&quot;Freeman&quot;</td><td>&quot;Freddie&quot;</td><td>&quot;L&quot;</td><td>&quot;R&quot;</td><td>&quot;NLS&quot;</td><td>1</td><td>0</td><td>0</td><td>0</td><td>0</td><td>1</td><td>0</td><td>0</td><td>0</td><td>0</td><td>0</td><td>0</td><td>0</td><td>0</td><td>1</td><td>0</td><td>20240716</td><td>20240716</td><td>2024</td></tr></tbody></table></div>"
      ],
      "text/plain": [
       "shape: (23, 25)\n",
       "┌──────────┬─────────┬─────────┬─────┬───┬──────┬──────────┬──────────┬────────┐\n",
       "│ id       ┆ last    ┆ first   ┆ bat ┆ … ┆ g_pr ┆ first_g  ┆ last_g   ┆ season │\n",
       "│ ---      ┆ ---     ┆ ---     ┆ --- ┆   ┆ ---  ┆ ---      ┆ ---      ┆ ---    │\n",
       "│ str      ┆ str     ┆ str     ┆ str ┆   ┆ i64  ┆ i64      ┆ i64      ┆ i64    │\n",
       "╞══════════╪═════════╪═════════╪═════╪═══╪══════╪══════════╪══════════╪════════╡\n",
       "│ freef001 ┆ Freeman ┆ Freddie ┆ L   ┆ … ┆ 2    ┆ 20100901 ┆ 20101002 ┆ 2010   │\n",
       "│ freef001 ┆ Freeman ┆ Freddie ┆ L   ┆ … ┆ 0    ┆ 20110331 ┆ 20110928 ┆ 2011   │\n",
       "│ freef001 ┆ Freeman ┆ Freddie ┆ L   ┆ … ┆ 0    ┆ 20120405 ┆ 20121005 ┆ 2012   │\n",
       "│ freef001 ┆ Freeman ┆ Freddie ┆ L   ┆ … ┆ 1    ┆ 20130401 ┆ 20131007 ┆ 2013   │\n",
       "│ freef001 ┆ Freeman ┆ Freddie ┆ L   ┆ … ┆ 0    ┆ 0        ┆ 0        ┆ 2013   │\n",
       "│ …        ┆ …       ┆ …       ┆ …   ┆ … ┆ …    ┆ …        ┆ …        ┆ …      │\n",
       "│ freef001 ┆ Freeman ┆ Freddie ┆ L   ┆ … ┆ 0    ┆ 20220719 ┆ 20220719 ┆ 2022   │\n",
       "│ freef001 ┆ Freeman ┆ Freddie ┆ L   ┆ … ┆ 0    ┆ 20230330 ┆ 20231011 ┆ 2023   │\n",
       "│ freef001 ┆ Freeman ┆ Freddie ┆ L   ┆ … ┆ 0    ┆ 20230711 ┆ 20230711 ┆ 2023   │\n",
       "│ freef001 ┆ Freeman ┆ Freddie ┆ L   ┆ … ┆ 0    ┆ 20240320 ┆ 20241030 ┆ 2024   │\n",
       "│ freef001 ┆ Freeman ┆ Freddie ┆ L   ┆ … ┆ 0    ┆ 20240716 ┆ 20240716 ┆ 2024   │\n",
       "└──────────┴─────────┴─────────┴─────┴───┴──────┴──────────┴──────────┴────────┘"
      ]
     },
     "execution_count": 42,
     "metadata": {},
     "output_type": "execute_result"
    }
   ],
   "source": [
    "(pl.scan_parquet(\"../../parquets/allplayers.parquet\"\n",
    "                )\n",
    "                \n",
    "    .filter(pl.col(\"id\")==\"freef001\")\n",
    "                ).collect()"
   ]
  },
  {
   "cell_type": "code",
   "execution_count": 46,
   "metadata": {},
   "outputs": [
    {
     "data": {
      "text/html": [
       "<div><style>\n",
       ".dataframe > thead > tr,\n",
       ".dataframe > tbody > tr {\n",
       "  text-align: right;\n",
       "  white-space: pre-wrap;\n",
       "}\n",
       "</style>\n",
       "<small>shape: (4_205, 2)</small><table border=\"1\" class=\"dataframe\"><thead><tr><th>name</th><th>id</th></tr><tr><td>str</td><td>str</td></tr></thead><tbody><tr><td>&quot;A. J. Minter&quot;</td><td>&quot;minta001&quot;</td></tr><tr><td>&quot;A.J. Burnett&quot;</td><td>&quot;burna001&quot;</td></tr><tr><td>&quot;A.J. Ellis&quot;</td><td>&quot;ellia001&quot;</td></tr><tr><td>&quot;A.J. Minter&quot;</td><td>&quot;minta001&quot;</td></tr><tr><td>&quot;A.J. Pierzynski&quot;</td><td>&quot;piera001&quot;</td></tr><tr><td>&hellip;</td><td>&hellip;</td></tr><tr><td>&quot;Zack Taylor&quot;</td><td>&quot;taylz101&quot;</td></tr><tr><td>&quot;Zack Wheat&quot;</td><td>&quot;wheaz101&quot;</td></tr><tr><td>&quot;Zack Wheeler&quot;</td><td>&quot;wheez001&quot;</td></tr><tr><td>&quot;Zeke Bonura&quot;</td><td>&quot;bonuz101&quot;</td></tr><tr><td>&quot;Zoilo Versalles&quot;</td><td>&quot;versz101&quot;</td></tr></tbody></table></div>"
      ],
      "text/plain": [
       "shape: (4_205, 2)\n",
       "┌─────────────────┬──────────┐\n",
       "│ name            ┆ id       │\n",
       "│ ---             ┆ ---      │\n",
       "│ str             ┆ str      │\n",
       "╞═════════════════╪══════════╡\n",
       "│ A. J. Minter    ┆ minta001 │\n",
       "│ A.J. Burnett    ┆ burna001 │\n",
       "│ A.J. Ellis      ┆ ellia001 │\n",
       "│ A.J. Minter     ┆ minta001 │\n",
       "│ A.J. Pierzynski ┆ piera001 │\n",
       "│ …               ┆ …        │\n",
       "│ Zack Taylor     ┆ taylz101 │\n",
       "│ Zack Wheat      ┆ wheaz101 │\n",
       "│ Zack Wheeler    ┆ wheez001 │\n",
       "│ Zeke Bonura     ┆ bonuz101 │\n",
       "│ Zoilo Versalles ┆ versz101 │\n",
       "└─────────────────┴──────────┘"
      ]
     },
     "execution_count": 46,
     "metadata": {},
     "output_type": "execute_result"
    }
   ],
   "source": [
    "players = (\n",
    "    pl.scan_parquet(\"../../parquets/allplayers.parquet\")\n",
    "    .filter(pl.col(\"g\")>30)\n",
    "    .with_columns(\n",
    "        (pl.col(\"first\") + pl.lit(\" \") + pl.col(\"last\")).alias(\"name\"),\n",
    "        pl.count(\"season\").over(\"id\").alias(\"count\"),\n",
    "    )\n",
    "    .filter(pl.col(\"name\").is_not_null())\n",
    "    .filter(pl.col(\"count\") > 5)\n",
    "    .select(\n",
    "        pl.col(\"name\"),\n",
    "        pl.col(\"id\"),\n",
    "    )\n",
    "    .unique()\n",
    "    .sort(\"name\")\n",
    ").collect()\n",
    "players"
   ]
  },
  {
   "cell_type": "code",
   "execution_count": 28,
   "metadata": {},
   "outputs": [
    {
     "data": {
      "text/html": [
       "<div><style>\n",
       ".dataframe > thead > tr,\n",
       ".dataframe > tbody > tr {\n",
       "  text-align: right;\n",
       "  white-space: pre-wrap;\n",
       "}\n",
       "</style>\n",
       "<small>shape: (96_747, 2)</small><table border=\"1\" class=\"dataframe\"><thead><tr><th>name</th><th>id</th></tr><tr><td>str</td><td>str</td></tr></thead><tbody><tr><td>&quot;John Anderson&quot;</td><td>&quot;andej101&quot;</td></tr><tr><td>&quot;Jimmy Barrett&quot;</td><td>&quot;barrj103&quot;</td></tr><tr><td>&quot;Shad Barry&quot;</td><td>&quot;barrs101&quot;</td></tr><tr><td>&quot;Shad Barry&quot;</td><td>&quot;barrs101&quot;</td></tr><tr><td>&quot;Harry Bay&quot;</td><td>&quot;bay-h101&quot;</td></tr><tr><td>&hellip;</td><td>&hellip;</td></tr><tr><td>&quot;Christian Yelich&quot;</td><td>&quot;yelic001&quot;</td></tr><tr><td>&quot;Alex Young&quot;</td><td>&quot;youna002&quot;</td></tr><tr><td>&quot;Alex Young&quot;</td><td>&quot;youna002&quot;</td></tr><tr><td>&quot;Rob Zastryzny&quot;</td><td>&quot;zastr001&quot;</td></tr><tr><td>&quot;Seby Zavala&quot;</td><td>&quot;zavas001&quot;</td></tr></tbody></table></div>"
      ],
      "text/plain": [
       "shape: (96_747, 2)\n",
       "┌──────────────────┬──────────┐\n",
       "│ name             ┆ id       │\n",
       "│ ---              ┆ ---      │\n",
       "│ str              ┆ str      │\n",
       "╞══════════════════╪══════════╡\n",
       "│ John Anderson    ┆ andej101 │\n",
       "│ Jimmy Barrett    ┆ barrj103 │\n",
       "│ Shad Barry       ┆ barrs101 │\n",
       "│ Shad Barry       ┆ barrs101 │\n",
       "│ Harry Bay        ┆ bay-h101 │\n",
       "│ …                ┆ …        │\n",
       "│ Christian Yelich ┆ yelic001 │\n",
       "│ Alex Young       ┆ youna002 │\n",
       "│ Alex Young       ┆ youna002 │\n",
       "│ Rob Zastryzny    ┆ zastr001 │\n",
       "│ Seby Zavala      ┆ zavas001 │\n",
       "└──────────────────┴──────────┘"
      ]
     },
     "execution_count": 28,
     "metadata": {},
     "output_type": "execute_result"
    }
   ],
   "source": [
    "import polars as pl\n",
    "players = (\n",
    "    pl.scan_parquet(\"../../parquets/allplayers.parquet\")\n",
    "    .with_columns(\n",
    "        (pl.col(\"first\") + pl.lit(\" \") + pl.col(\"last\")).alias(\"name\"),\n",
    "        pl.count(\"season\").over(\"id\").alias(\"count\"),\n",
    "    )\n",
    "    .filter(pl.col(\"count\") > 5)\n",
    "    .select(\n",
    "        pl.col(\"name\"),\n",
    "        pl.col(\"id\"),\n",
    "        )\n",
    ")\n",
    "players.collect()"
   ]
  },
  {
   "cell_type": "code",
   "execution_count": 32,
   "metadata": {},
   "outputs": [
    {
     "data": {
      "text/html": [
       "<div><style>\n",
       ".dataframe > thead > tr,\n",
       ".dataframe > tbody > tr {\n",
       "  text-align: right;\n",
       "  white-space: pre-wrap;\n",
       "}\n",
       "</style>\n",
       "<small>shape: (14, 3)</small><table border=\"1\" class=\"dataframe\"><thead><tr><th>unique_id</th><th>ds</th><th>y</th></tr><tr><td>str</td><td>i32</td><td>f64</td></tr></thead><tbody><tr><td>&quot;freef001&quot;</td><td>2014</td><td>0.289474</td></tr><tr><td>&quot;freef001&quot;</td><td>2017</td><td>0.306818</td></tr><tr><td>&quot;freef001&quot;</td><td>2024</td><td>0.278992</td></tr><tr><td>&quot;freef001&quot;</td><td>2012</td><td>0.262868</td></tr><tr><td>&quot;freef001&quot;</td><td>2013</td><td>0.319224</td></tr><tr><td>&hellip;</td><td>&hellip;</td><td>&hellip;</td></tr><tr><td>&quot;freef001&quot;</td><td>2019</td><td>0.291262</td></tr><tr><td>&quot;freef001&quot;</td><td>2020</td><td>0.330739</td></tr><tr><td>&quot;freef001&quot;</td><td>2021</td><td>0.300912</td></tr><tr><td>&quot;freef001&quot;</td><td>2011</td><td>0.281961</td></tr><tr><td>&quot;freef001&quot;</td><td>2023</td><td>0.32716</td></tr></tbody></table></div>"
      ],
      "text/plain": [
       "shape: (14, 3)\n",
       "┌───────────┬──────┬──────────┐\n",
       "│ unique_id ┆ ds   ┆ y        │\n",
       "│ ---       ┆ ---  ┆ ---      │\n",
       "│ str       ┆ i32  ┆ f64      │\n",
       "╞═══════════╪══════╪══════════╡\n",
       "│ freef001  ┆ 2014 ┆ 0.289474 │\n",
       "│ freef001  ┆ 2017 ┆ 0.306818 │\n",
       "│ freef001  ┆ 2024 ┆ 0.278992 │\n",
       "│ freef001  ┆ 2012 ┆ 0.262868 │\n",
       "│ freef001  ┆ 2013 ┆ 0.319224 │\n",
       "│ …         ┆ …    ┆ …        │\n",
       "│ freef001  ┆ 2019 ┆ 0.291262 │\n",
       "│ freef001  ┆ 2020 ┆ 0.330739 │\n",
       "│ freef001  ┆ 2021 ┆ 0.300912 │\n",
       "│ freef001  ┆ 2011 ┆ 0.281961 │\n",
       "│ freef001  ┆ 2023 ┆ 0.32716  │\n",
       "└───────────┴──────┴──────────┘"
      ]
     },
     "execution_count": 32,
     "metadata": {},
     "output_type": "execute_result"
    }
   ],
   "source": [
    "import polars as pl\n",
    "batting = (\n",
    "    pl.scan_parquet(\"../../parquets/batting.parquet\")\n",
    "    .with_columns(\n",
    "        pl.col(\"date\").cast(pl.String)\n",
    "        .str.strptime(pl.Date, \"%Y%m%d\")\n",
    "        .dt.year()\n",
    "        .alias(\"year\")\n",
    "    )\n",
    "    .group_by(\n",
    "        \"id\", \"year\"\n",
    "    )\n",
    "    .agg(pl.col(\"b_h\").sum(), pl.col(\"b_ab\").sum())\n",
    "    .with_columns((pl.col(\"b_h\") / pl.col(\"b_ab\")).alias(\"avg\"))\n",
    "    .filter(pl.col(\"b_ab\") > 100)\n",
    "    .with_columns(\n",
    "        pl.count(\"year\").over(\"id\").alias(\"count\")\n",
    "    )\n",
    "    .filter(pl.col(\"id\")==\"freef001\")\n",
    "    .select(\n",
    "        pl.col(\"id\").alias(\"unique_id\"),\n",
    "        pl.col(\"year\").alias(\"ds\"),\n",
    "        pl.col(\"avg\").alias(\"y\"),\n",
    "    )\n",
    ").collect()\n",
    "batting"
   ]
  },
  {
   "cell_type": "code",
   "execution_count": 30,
   "metadata": {},
   "outputs": [],
   "source": [
    "import statsforecast.models\n",
    "models = [\n",
    "    statsforecast.models.AutoARIMA(),\n",
    "    # statsforecast.models.AutoETS(),\n",
    "    # statsforecast.models.AutoRegressive(10),\n",
    "    # statsforecast.models.HoltWinters(),\n",
    "    # statsforecast.models.HistoricAverage(),\n",
    "]"
   ]
  },
  {
   "cell_type": "code",
   "execution_count": 33,
   "metadata": {},
   "outputs": [],
   "source": [
    "# Instantiate StatsForecast class as sf\n",
    "sf = statsforecast.StatsForecast( \n",
    "    models=models,\n",
    "    freq=1, \n",
    "    n_jobs=-1,\n",
    "    verbose=True,\n",
    ")"
   ]
  },
  {
   "cell_type": "code",
   "execution_count": 37,
   "metadata": {},
   "outputs": [
    {
     "name": "stderr",
     "output_type": "stream",
     "text": [
      "Forecast:   0%|          | 0/1 [00:00<?, ?it/s]"
     ]
    },
    {
     "name": "stderr",
     "output_type": "stream",
     "text": [
      "Forecast: 100%|██████████| 1/1 [00:00<00:00, 12.61it/s]\n"
     ]
    },
    {
     "data": {
      "text/html": [
       "<div><style>\n",
       ".dataframe > thead > tr,\n",
       ".dataframe > tbody > tr {\n",
       "  text-align: right;\n",
       "  white-space: pre-wrap;\n",
       "}\n",
       "</style>\n",
       "<small>shape: (1, 5)</small><table border=\"1\" class=\"dataframe\"><thead><tr><th>unique_id</th><th>ds</th><th>AutoARIMA</th><th>AutoARIMA-lo-75</th><th>AutoARIMA-hi-75</th></tr><tr><td>str</td><td>i64</td><td>f64</td><td>f64</td><td>f64</td></tr></thead><tbody><tr><td>&quot;freef001&quot;</td><td>2025</td><td>0.300002</td><td>0.275959</td><td>0.324044</td></tr></tbody></table></div>"
      ],
      "text/plain": [
       "shape: (1, 5)\n",
       "┌───────────┬──────┬───────────┬─────────────────┬─────────────────┐\n",
       "│ unique_id ┆ ds   ┆ AutoARIMA ┆ AutoARIMA-lo-75 ┆ AutoARIMA-hi-75 │\n",
       "│ ---       ┆ ---  ┆ ---       ┆ ---             ┆ ---             │\n",
       "│ str       ┆ i64  ┆ f64       ┆ f64             ┆ f64             │\n",
       "╞═══════════╪══════╪═══════════╪═════════════════╪═════════════════╡\n",
       "│ freef001  ┆ 2025 ┆ 0.300002  ┆ 0.275959        ┆ 0.324044        │\n",
       "└───────────┴──────┴───────────┴─────────────────┴─────────────────┘"
      ]
     },
     "execution_count": 37,
     "metadata": {},
     "output_type": "execute_result"
    }
   ],
   "source": [
    "forecasts_df = sf.forecast(df=batting, h=1, level=[75])\n",
    "forecasts_df.head()"
   ]
  },
  {
   "cell_type": "code",
   "execution_count": 8,
   "metadata": {},
   "outputs": [
    {
     "data": {
      "text/html": [
       "<div><style>\n",
       ".dataframe > thead > tr,\n",
       ".dataframe > tbody > tr {\n",
       "  text-align: right;\n",
       "  white-space: pre-wrap;\n",
       "}\n",
       "</style>\n",
       "<small>shape: (1, 5)</small><table border=\"1\" class=\"dataframe\"><thead><tr><th>unique_id</th><th>ds</th><th>AutoARIMA</th><th>AutoARIMA-lo-90</th><th>AutoARIMA-hi-90</th></tr><tr><td>str</td><td>i64</td><td>f64</td><td>f64</td><td>f64</td></tr></thead><tbody><tr><td>&quot;freef001&quot;</td><td>2025</td><td>0.300002</td><td>0.265624</td><td>0.33438</td></tr></tbody></table></div>"
      ],
      "text/plain": [
       "shape: (1, 5)\n",
       "┌───────────┬──────┬───────────┬─────────────────┬─────────────────┐\n",
       "│ unique_id ┆ ds   ┆ AutoARIMA ┆ AutoARIMA-lo-90 ┆ AutoARIMA-hi-90 │\n",
       "│ ---       ┆ ---  ┆ ---       ┆ ---             ┆ ---             │\n",
       "│ str       ┆ i64  ┆ f64       ┆ f64             ┆ f64             │\n",
       "╞═══════════╪══════╪═══════════╪═════════════════╪═════════════════╡\n",
       "│ freef001  ┆ 2025 ┆ 0.300002  ┆ 0.265624        ┆ 0.33438         │\n",
       "└───────────┴──────┴───────────┴─────────────────┴─────────────────┘"
      ]
     },
     "execution_count": 8,
     "metadata": {},
     "output_type": "execute_result"
    }
   ],
   "source": [
    "forecasts_df"
   ]
  },
  {
   "cell_type": "code",
   "execution_count": 9,
   "metadata": {},
   "outputs": [
    {
     "data": {
      "text/html": [
       "<div><style>\n",
       ".dataframe > thead > tr,\n",
       ".dataframe > tbody > tr {\n",
       "  text-align: right;\n",
       "  white-space: pre-wrap;\n",
       "}\n",
       "</style>\n",
       "<small>shape: (1, 6)</small><table border=\"1\" class=\"dataframe\"><thead><tr><th>name</th><th>unique_id</th><th>ds</th><th>AutoARIMA</th><th>AutoARIMA-lo-90</th><th>AutoARIMA-hi-90</th></tr><tr><td>str</td><td>str</td><td>i64</td><td>f64</td><td>f64</td><td>f64</td></tr></thead><tbody><tr><td>&quot;Freddie Freeman&quot;</td><td>&quot;freef001&quot;</td><td>2025</td><td>0.300002</td><td>0.265624</td><td>0.33438</td></tr></tbody></table></div>"
      ],
      "text/plain": [
       "shape: (1, 6)\n",
       "┌─────────────────┬───────────┬──────┬───────────┬─────────────────┬─────────────────┐\n",
       "│ name            ┆ unique_id ┆ ds   ┆ AutoARIMA ┆ AutoARIMA-lo-90 ┆ AutoARIMA-hi-90 │\n",
       "│ ---             ┆ ---       ┆ ---  ┆ ---       ┆ ---             ┆ ---             │\n",
       "│ str             ┆ str       ┆ i64  ┆ f64       ┆ f64             ┆ f64             │\n",
       "╞═════════════════╪═══════════╪══════╪═══════════╪═════════════════╪═════════════════╡\n",
       "│ Freddie Freeman ┆ freef001  ┆ 2025 ┆ 0.300002  ┆ 0.265624        ┆ 0.33438         │\n",
       "└─────────────────┴───────────┴──────┴───────────┴─────────────────┴─────────────────┘"
      ]
     },
     "execution_count": 9,
     "metadata": {},
     "output_type": "execute_result"
    }
   ],
   "source": [
    "results = (\n",
    "    forecasts_df\n",
    "    .join(pl.read_parquet(\"../../parquets/allplayers.parquet\").unique(\"id\"), left_on=\"unique_id\", right_on=\"id\", how=\"left\")\n",
    "    .with_columns((pl.col(\"first\") + pl.lit(\" \") + pl.col(\"last\")).alias(\"name\"))\n",
    "    .select(\n",
    "        \"name\",\n",
    "        \"unique_id\",\n",
    "        \"ds\",\n",
    "        \"AutoARIMA\",\n",
    "        \"AutoARIMA-lo-90\",\n",
    "        \"AutoARIMA-hi-90\",\n",
    "    )\n",
    "    )\n",
    "results.write_parquet(\"arima_forecasts.parquet\")\n",
    "results"
   ]
  }
 ],
 "metadata": {
  "kernelspec": {
   "display_name": ".venv",
   "language": "python",
   "name": "python3"
  },
  "language_info": {
   "codemirror_mode": {
    "name": "ipython",
    "version": 3
   },
   "file_extension": ".py",
   "mimetype": "text/x-python",
   "name": "python",
   "nbconvert_exporter": "python",
   "pygments_lexer": "ipython3",
   "version": "3.12.7"
  }
 },
 "nbformat": 4,
 "nbformat_minor": 2
}
