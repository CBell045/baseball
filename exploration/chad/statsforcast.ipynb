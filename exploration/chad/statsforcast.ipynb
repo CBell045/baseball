{
 "cells": [
  {
   "cell_type": "code",
   "execution_count": 53,
   "metadata": {},
   "outputs": [
    {
     "data": {
      "text/html": [
       "<div><style>\n",
       ".dataframe > thead > tr,\n",
       ".dataframe > tbody > tr {\n",
       "  text-align: right;\n",
       "  white-space: pre-wrap;\n",
       "}\n",
       "</style>\n",
       "<small>shape: (15_264, 3)</small><table border=\"1\" class=\"dataframe\"><thead><tr><th>unique_id</th><th>ds</th><th>y</th></tr><tr><td>str</td><td>i32</td><td>f64</td></tr></thead><tbody><tr><td>&quot;sciom001&quot;</td><td>1980</td><td>0.253731</td></tr><tr><td>&quot;ellib103&quot;</td><td>1947</td><td>0.316637</td></tr><tr><td>&quot;hartg103&quot;</td><td>1941</td><td>0.294118</td></tr><tr><td>&quot;gehrc101&quot;</td><td>1941</td><td>0.222727</td></tr><tr><td>&quot;smitl002&quot;</td><td>1984</td><td>0.25</td></tr><tr><td>&hellip;</td><td>&hellip;</td><td>&hellip;</td></tr><tr><td>&quot;singk001&quot;</td><td>1976</td><td>0.277574</td></tr><tr><td>&quot;gutir001&quot;</td><td>1998</td><td>0.261477</td></tr><tr><td>&quot;altuj001&quot;</td><td>2014</td><td>0.340909</td></tr><tr><td>&quot;bagwj001&quot;</td><td>1992</td><td>0.273038</td></tr><tr><td>&quot;gonzc001&quot;</td><td>2017</td><td>0.263158</td></tr></tbody></table></div>"
      ],
      "text/plain": [
       "shape: (15_264, 3)\n",
       "┌───────────┬──────┬──────────┐\n",
       "│ unique_id ┆ ds   ┆ y        │\n",
       "│ ---       ┆ ---  ┆ ---      │\n",
       "│ str       ┆ i32  ┆ f64      │\n",
       "╞═══════════╪══════╪══════════╡\n",
       "│ sciom001  ┆ 1980 ┆ 0.253731 │\n",
       "│ ellib103  ┆ 1947 ┆ 0.316637 │\n",
       "│ hartg103  ┆ 1941 ┆ 0.294118 │\n",
       "│ gehrc101  ┆ 1941 ┆ 0.222727 │\n",
       "│ smitl002  ┆ 1984 ┆ 0.25     │\n",
       "│ …         ┆ …    ┆ …        │\n",
       "│ singk001  ┆ 1976 ┆ 0.277574 │\n",
       "│ gutir001  ┆ 1998 ┆ 0.261477 │\n",
       "│ altuj001  ┆ 2014 ┆ 0.340909 │\n",
       "│ bagwj001  ┆ 1992 ┆ 0.273038 │\n",
       "│ gonzc001  ┆ 2017 ┆ 0.263158 │\n",
       "└───────────┴──────┴──────────┘"
      ]
     },
     "execution_count": 53,
     "metadata": {},
     "output_type": "execute_result"
    }
   ],
   "source": [
    "import statsforecast\n",
    "import polars as pl\n",
    "batting = (\n",
    "    pl.scan_parquet(\"../../parquets/batting.parquet\")\n",
    "    .with_columns(\n",
    "        pl.col(\"date\").cast(pl.String)\n",
    "        .str.strptime(pl.Date, \"%Y%m%d\")\n",
    "        .dt.year()\n",
    "        .alias(\"year\")\n",
    "    )\n",
    "    .group_by(\n",
    "        \"id\", \"year\"\n",
    "    )\n",
    "    .agg(pl.col(\"b_h\").sum(), pl.col(\"b_ab\").sum())\n",
    "    .with_columns((pl.col(\"b_h\") / pl.col(\"b_ab\")).alias(\"avg\"))\n",
    "    .filter(pl.col(\"b_ab\") > 100)\n",
    "    .with_columns(\n",
    "        pl.count(\"year\").over(\"id\").alias(\"count\")\n",
    "    )\n",
    "    .filter(pl.col(\"count\") > 10)\n",
    "    .select(\n",
    "        pl.col(\"id\").alias(\"unique_id\"),\n",
    "        pl.col(\"year\").alias(\"ds\"),\n",
    "        pl.col(\"avg\").alias(\"y\"),\n",
    "    )\n",
    ").collect()\n",
    "batting"
   ]
  },
  {
   "cell_type": "code",
   "execution_count": 54,
   "metadata": {},
   "outputs": [],
   "source": [
    "models = [\n",
    "    statsforecast.models.AutoARIMA(),\n",
    "    # statsforecast.models.AutoETS(),\n",
    "    # statsforecast.models.AutoRegressive(10),\n",
    "    # statsforecast.models.HoltWinters(),\n",
    "    # statsforecast.models.HistoricAverage(),\n",
    "]"
   ]
  },
  {
   "cell_type": "code",
   "execution_count": 55,
   "metadata": {},
   "outputs": [],
   "source": [
    "# Instantiate StatsForecast class as sf\n",
    "sf = statsforecast.StatsForecast( \n",
    "    models=models,\n",
    "    freq=1, \n",
    "    n_jobs=-1,\n",
    "    verbose=True,\n",
    ")"
   ]
  },
  {
   "cell_type": "code",
   "execution_count": 56,
   "metadata": {},
   "outputs": [
    {
     "name": "stderr",
     "output_type": "stream",
     "text": [
      "Forecast: 100%|██████████| 800/800 [Elapsed: 00:13]\n"
     ]
    },
    {
     "data": {
      "text/html": [
       "<div><style>\n",
       ".dataframe > thead > tr,\n",
       ".dataframe > tbody > tr {\n",
       "  text-align: right;\n",
       "  white-space: pre-wrap;\n",
       "}\n",
       "</style>\n",
       "<small>shape: (5, 5)</small><table border=\"1\" class=\"dataframe\"><thead><tr><th>unique_id</th><th>ds</th><th>AutoARIMA</th><th>AutoARIMA-lo-90</th><th>AutoARIMA-hi-90</th></tr><tr><td>str</td><td>i64</td><td>f64</td><td>f64</td><td>f64</td></tr></thead><tbody><tr><td>&quot;aaroh101&quot;</td><td>1977</td><td>0.231344</td><td>0.188532</td><td>0.274156</td></tr><tr><td>&quot;aaroh101&quot;</td><td>1978</td><td>0.230063</td><td>0.182198</td><td>0.277929</td></tr><tr><td>&quot;aaroh101&quot;</td><td>1979</td><td>0.230703</td><td>0.173066</td><td>0.288341</td></tr><tr><td>&quot;abreb001&quot;</td><td>2015</td><td>0.24812</td><td>0.211297</td><td>0.284944</td></tr><tr><td>&quot;abreb001&quot;</td><td>2016</td><td>0.24812</td><td>0.196044</td><td>0.300197</td></tr></tbody></table></div>"
      ],
      "text/plain": [
       "shape: (5, 5)\n",
       "┌───────────┬──────┬───────────┬─────────────────┬─────────────────┐\n",
       "│ unique_id ┆ ds   ┆ AutoARIMA ┆ AutoARIMA-lo-90 ┆ AutoARIMA-hi-90 │\n",
       "│ ---       ┆ ---  ┆ ---       ┆ ---             ┆ ---             │\n",
       "│ str       ┆ i64  ┆ f64       ┆ f64             ┆ f64             │\n",
       "╞═══════════╪══════╪═══════════╪═════════════════╪═════════════════╡\n",
       "│ aaroh101  ┆ 1977 ┆ 0.231344  ┆ 0.188532        ┆ 0.274156        │\n",
       "│ aaroh101  ┆ 1978 ┆ 0.230063  ┆ 0.182198        ┆ 0.277929        │\n",
       "│ aaroh101  ┆ 1979 ┆ 0.230703  ┆ 0.173066        ┆ 0.288341        │\n",
       "│ abreb001  ┆ 2015 ┆ 0.24812   ┆ 0.211297        ┆ 0.284944        │\n",
       "│ abreb001  ┆ 2016 ┆ 0.24812   ┆ 0.196044        ┆ 0.300197        │\n",
       "└───────────┴──────┴───────────┴─────────────────┴─────────────────┘"
      ]
     },
     "execution_count": 56,
     "metadata": {},
     "output_type": "execute_result"
    }
   ],
   "source": [
    "forecasts_df = sf.forecast(df=batting, h=3, level=[90])\n",
    "forecasts_df.head()"
   ]
  },
  {
   "cell_type": "code",
   "execution_count": 57,
   "metadata": {},
   "outputs": [
    {
     "data": {
      "text/html": [
       "<div><style>\n",
       ".dataframe > thead > tr,\n",
       ".dataframe > tbody > tr {\n",
       "  text-align: right;\n",
       "  white-space: pre-wrap;\n",
       "}\n",
       "</style>\n",
       "<small>shape: (3, 5)</small><table border=\"1\" class=\"dataframe\"><thead><tr><th>unique_id</th><th>ds</th><th>AutoARIMA</th><th>AutoARIMA-lo-90</th><th>AutoARIMA-hi-90</th></tr><tr><td>str</td><td>i64</td><td>f64</td><td>f64</td><td>f64</td></tr></thead><tbody><tr><td>&quot;freef001&quot;</td><td>2025</td><td>0.300002</td><td>0.265624</td><td>0.33438</td></tr><tr><td>&quot;freef001&quot;</td><td>2026</td><td>0.300002</td><td>0.265624</td><td>0.33438</td></tr><tr><td>&quot;freef001&quot;</td><td>2027</td><td>0.300002</td><td>0.265624</td><td>0.33438</td></tr></tbody></table></div>"
      ],
      "text/plain": [
       "shape: (3, 5)\n",
       "┌───────────┬──────┬───────────┬─────────────────┬─────────────────┐\n",
       "│ unique_id ┆ ds   ┆ AutoARIMA ┆ AutoARIMA-lo-90 ┆ AutoARIMA-hi-90 │\n",
       "│ ---       ┆ ---  ┆ ---       ┆ ---             ┆ ---             │\n",
       "│ str       ┆ i64  ┆ f64       ┆ f64             ┆ f64             │\n",
       "╞═══════════╪══════╪═══════════╪═════════════════╪═════════════════╡\n",
       "│ freef001  ┆ 2025 ┆ 0.300002  ┆ 0.265624        ┆ 0.33438         │\n",
       "│ freef001  ┆ 2026 ┆ 0.300002  ┆ 0.265624        ┆ 0.33438         │\n",
       "│ freef001  ┆ 2027 ┆ 0.300002  ┆ 0.265624        ┆ 0.33438         │\n",
       "└───────────┴──────┴───────────┴─────────────────┴─────────────────┘"
      ]
     },
     "execution_count": 57,
     "metadata": {},
     "output_type": "execute_result"
    }
   ],
   "source": [
    "forecasts_df.filter(pl.col(\"unique_id\") == \"freef001\")"
   ]
  }
 ],
 "metadata": {
  "kernelspec": {
   "display_name": ".venv",
   "language": "python",
   "name": "python3"
  },
  "language_info": {
   "codemirror_mode": {
    "name": "ipython",
    "version": 3
   },
   "file_extension": ".py",
   "mimetype": "text/x-python",
   "name": "python",
   "nbconvert_exporter": "python",
   "pygments_lexer": "ipython3",
   "version": "3.12.7"
  }
 },
 "nbformat": 4,
 "nbformat_minor": 2
}
