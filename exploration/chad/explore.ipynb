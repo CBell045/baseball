{
 "cells": [
  {
   "cell_type": "code",
   "execution_count": 1,
   "metadata": {},
   "outputs": [],
   "source": [
    "import polars as pl"
   ]
  },
  {
   "cell_type": "code",
   "execution_count": 2,
   "metadata": {},
   "outputs": [],
   "source": [
    "batting = pl.scan_csv('csvs/batting.csv', infer_schema_length=None)\n",
    "players = pl.scan_csv('csvs/allplayers.csv', infer_schema_length=None)"
   ]
  },
  {
   "cell_type": "code",
   "execution_count": 40,
   "metadata": {},
   "outputs": [
    {
     "data": {
      "text/html": [
       "<div><style>\n",
       ".dataframe > thead > tr,\n",
       ".dataframe > tbody > tr {\n",
       "  text-align: right;\n",
       "  white-space: pre-wrap;\n",
       "}\n",
       "</style>\n",
       "<small>shape: (1, 39)</small><table border=\"1\" class=\"dataframe\"><thead><tr><th>gid</th><th>id</th><th>team</th><th>b_lp</th><th>b_seq</th><th>stattype</th><th>b_pa</th><th>b_ab</th><th>b_r</th><th>b_h</th><th>b_d</th><th>b_t</th><th>b_hr</th><th>b_rbi</th><th>b_sh</th><th>b_sf</th><th>b_hbp</th><th>b_w</th><th>b_iw</th><th>b_k</th><th>b_sb</th><th>b_cs</th><th>b_gdp</th><th>b_xi</th><th>b_roe</th><th>dh</th><th>ph</th><th>pr</th><th>date</th><th>number</th><th>site</th><th>vishome</th><th>opp</th><th>win</th><th>loss</th><th>tie</th><th>gametype</th><th>box</th><th>pbp</th></tr><tr><td>u32</td><td>u32</td><td>u32</td><td>u32</td><td>u32</td><td>u32</td><td>u32</td><td>u32</td><td>u32</td><td>u32</td><td>u32</td><td>u32</td><td>u32</td><td>u32</td><td>u32</td><td>u32</td><td>u32</td><td>u32</td><td>u32</td><td>u32</td><td>u32</td><td>u32</td><td>u32</td><td>u32</td><td>u32</td><td>u32</td><td>u32</td><td>u32</td><td>u32</td><td>u32</td><td>u32</td><td>u32</td><td>u32</td><td>u32</td><td>u32</td><td>u32</td><td>u32</td><td>u32</td><td>u32</td></tr></thead><tbody><tr><td>5615443</td><td>5615443</td><td>5615443</td><td>5172866</td><td>5175755</td><td>5615443</td><td>5561088</td><td>5598087</td><td>5599568</td><td>5601665</td><td>5593306</td><td>5592679</td><td>5594720</td><td>5542768</td><td>5589309</td><td>5273093</td><td>5588928</td><td>5590493</td><td>5301589</td><td>5479007</td><td>5590086</td><td>5284689</td><td>5278502</td><td>5544992</td><td>5262822</td><td>144264</td><td>465033</td><td>84049</td><td>5615443</td><td>5371111</td><td>5615443</td><td>5615443</td><td>5615443</td><td>5615443</td><td>5615443</td><td>5615443</td><td>5615443</td><td>5593150</td><td>5264645</td></tr></tbody></table></div>"
      ],
      "text/plain": [
       "shape: (1, 39)\n",
       "┌─────────┬─────────┬─────────┬─────────┬───┬─────────┬──────────┬─────────┬─────────┐\n",
       "│ gid     ┆ id      ┆ team    ┆ b_lp    ┆ … ┆ tie     ┆ gametype ┆ box     ┆ pbp     │\n",
       "│ ---     ┆ ---     ┆ ---     ┆ ---     ┆   ┆ ---     ┆ ---      ┆ ---     ┆ ---     │\n",
       "│ u32     ┆ u32     ┆ u32     ┆ u32     ┆   ┆ u32     ┆ u32      ┆ u32     ┆ u32     │\n",
       "╞═════════╪═════════╪═════════╪═════════╪═══╪═════════╪══════════╪═════════╪═════════╡\n",
       "│ 5615443 ┆ 5615443 ┆ 5615443 ┆ 5172866 ┆ … ┆ 5615443 ┆ 5615443  ┆ 5593150 ┆ 5264645 │\n",
       "└─────────┴─────────┴─────────┴─────────┴───┴─────────┴──────────┴─────────┴─────────┘"
      ]
     },
     "execution_count": 40,
     "metadata": {},
     "output_type": "execute_result"
    }
   ],
   "source": [
    "batting.count().collect()"
   ]
  },
  {
   "cell_type": "code",
   "execution_count": 8,
   "metadata": {},
   "outputs": [
    {
     "data": {
      "text/html": [
       "<div><style>\n",
       ".dataframe > thead > tr,\n",
       ".dataframe > tbody > tr {\n",
       "  text-align: right;\n",
       "  white-space: pre-wrap;\n",
       "}\n",
       "</style>\n",
       "<small>shape: (5, 39)</small><table border=\"1\" class=\"dataframe\"><thead><tr><th>gid</th><th>id</th><th>team</th><th>b_lp</th><th>b_seq</th><th>stattype</th><th>b_pa</th><th>b_ab</th><th>b_r</th><th>b_h</th><th>b_d</th><th>b_t</th><th>b_hr</th><th>b_rbi</th><th>b_sh</th><th>b_sf</th><th>b_hbp</th><th>b_w</th><th>b_iw</th><th>b_k</th><th>b_sb</th><th>b_cs</th><th>b_gdp</th><th>b_xi</th><th>b_roe</th><th>dh</th><th>ph</th><th>pr</th><th>date</th><th>number</th><th>site</th><th>vishome</th><th>opp</th><th>win</th><th>loss</th><th>tie</th><th>gametype</th><th>box</th><th>pbp</th></tr><tr><td>str</td><td>str</td><td>str</td><td>i64</td><td>str</td><td>str</td><td>i64</td><td>i64</td><td>i64</td><td>i64</td><td>i64</td><td>i64</td><td>i64</td><td>i64</td><td>i64</td><td>i64</td><td>i64</td><td>i64</td><td>i64</td><td>i64</td><td>i64</td><td>i64</td><td>i64</td><td>i64</td><td>i64</td><td>i64</td><td>i64</td><td>i64</td><td>i64</td><td>i64</td><td>str</td><td>str</td><td>str</td><td>i64</td><td>i64</td><td>i64</td><td>str</td><td>str</td><td>str</td></tr></thead><tbody><tr><td>&quot;NYA202410300&quot;</td><td>&quot;coleg001&quot;</td><td>&quot;NYA&quot;</td><td>null</td><td>null</td><td>&quot;value&quot;</td><td>0</td><td>0</td><td>0</td><td>0</td><td>0</td><td>0</td><td>0</td><td>0</td><td>0</td><td>0</td><td>0</td><td>0</td><td>0</td><td>0</td><td>0</td><td>0</td><td>0</td><td>0</td><td>0</td><td>null</td><td>null</td><td>null</td><td>20241030</td><td>0</td><td>&quot;NYC21&quot;</td><td>&quot;h&quot;</td><td>&quot;LAN&quot;</td><td>0</td><td>1</td><td>0</td><td>&quot;worldseries&quot;</td><td>&quot;y&quot;</td><td>&quot;y&quot;</td></tr><tr><td>&quot;NYA202410300&quot;</td><td>&quot;holmc001&quot;</td><td>&quot;NYA&quot;</td><td>null</td><td>null</td><td>&quot;value&quot;</td><td>0</td><td>0</td><td>0</td><td>0</td><td>0</td><td>0</td><td>0</td><td>0</td><td>0</td><td>0</td><td>0</td><td>0</td><td>0</td><td>0</td><td>0</td><td>0</td><td>0</td><td>0</td><td>0</td><td>null</td><td>null</td><td>null</td><td>20241030</td><td>0</td><td>&quot;NYC21&quot;</td><td>&quot;h&quot;</td><td>&quot;LAN&quot;</td><td>0</td><td>1</td><td>0</td><td>&quot;worldseries&quot;</td><td>&quot;y&quot;</td><td>&quot;y&quot;</td></tr><tr><td>&quot;NYA202410300&quot;</td><td>&quot;kahnt001&quot;</td><td>&quot;NYA&quot;</td><td>null</td><td>null</td><td>&quot;value&quot;</td><td>0</td><td>0</td><td>0</td><td>0</td><td>0</td><td>0</td><td>0</td><td>0</td><td>0</td><td>0</td><td>0</td><td>0</td><td>0</td><td>0</td><td>0</td><td>0</td><td>0</td><td>0</td><td>0</td><td>null</td><td>null</td><td>null</td><td>20241030</td><td>0</td><td>&quot;NYC21&quot;</td><td>&quot;h&quot;</td><td>&quot;LAN&quot;</td><td>0</td><td>1</td><td>0</td><td>&quot;worldseries&quot;</td><td>&quot;y&quot;</td><td>&quot;y&quot;</td></tr><tr><td>&quot;NYA202410300&quot;</td><td>&quot;weavl001&quot;</td><td>&quot;NYA&quot;</td><td>null</td><td>null</td><td>&quot;value&quot;</td><td>0</td><td>0</td><td>0</td><td>0</td><td>0</td><td>0</td><td>0</td><td>0</td><td>0</td><td>0</td><td>0</td><td>0</td><td>0</td><td>0</td><td>0</td><td>0</td><td>0</td><td>0</td><td>0</td><td>null</td><td>null</td><td>null</td><td>20241030</td><td>0</td><td>&quot;NYC21&quot;</td><td>&quot;h&quot;</td><td>&quot;LAN&quot;</td><td>0</td><td>1</td><td>0</td><td>&quot;worldseries&quot;</td><td>&quot;y&quot;</td><td>&quot;y&quot;</td></tr><tr><td>&quot;NYA202410300&quot;</td><td>&quot;leitm002&quot;</td><td>&quot;NYA&quot;</td><td>null</td><td>null</td><td>&quot;value&quot;</td><td>0</td><td>0</td><td>0</td><td>0</td><td>0</td><td>0</td><td>0</td><td>0</td><td>0</td><td>0</td><td>0</td><td>0</td><td>0</td><td>0</td><td>0</td><td>0</td><td>0</td><td>0</td><td>0</td><td>null</td><td>null</td><td>null</td><td>20241030</td><td>0</td><td>&quot;NYC21&quot;</td><td>&quot;h&quot;</td><td>&quot;LAN&quot;</td><td>0</td><td>1</td><td>0</td><td>&quot;worldseries&quot;</td><td>&quot;y&quot;</td><td>&quot;y&quot;</td></tr></tbody></table></div>"
      ],
      "text/plain": [
       "shape: (5, 39)\n",
       "┌──────────────┬──────────┬──────┬──────┬───┬─────┬─────────────┬─────┬─────┐\n",
       "│ gid          ┆ id       ┆ team ┆ b_lp ┆ … ┆ tie ┆ gametype    ┆ box ┆ pbp │\n",
       "│ ---          ┆ ---      ┆ ---  ┆ ---  ┆   ┆ --- ┆ ---         ┆ --- ┆ --- │\n",
       "│ str          ┆ str      ┆ str  ┆ i64  ┆   ┆ i64 ┆ str         ┆ str ┆ str │\n",
       "╞══════════════╪══════════╪══════╪══════╪═══╪═════╪═════════════╪═════╪═════╡\n",
       "│ NYA202410300 ┆ coleg001 ┆ NYA  ┆ null ┆ … ┆ 0   ┆ worldseries ┆ y   ┆ y   │\n",
       "│ NYA202410300 ┆ holmc001 ┆ NYA  ┆ null ┆ … ┆ 0   ┆ worldseries ┆ y   ┆ y   │\n",
       "│ NYA202410300 ┆ kahnt001 ┆ NYA  ┆ null ┆ … ┆ 0   ┆ worldseries ┆ y   ┆ y   │\n",
       "│ NYA202410300 ┆ weavl001 ┆ NYA  ┆ null ┆ … ┆ 0   ┆ worldseries ┆ y   ┆ y   │\n",
       "│ NYA202410300 ┆ leitm002 ┆ NYA  ┆ null ┆ … ┆ 0   ┆ worldseries ┆ y   ┆ y   │\n",
       "└──────────────┴──────────┴──────┴──────┴───┴─────┴─────────────┴─────┴─────┘"
      ]
     },
     "execution_count": 8,
     "metadata": {},
     "output_type": "execute_result"
    }
   ],
   "source": [
    "batting.tail(5).collect()"
   ]
  },
  {
   "cell_type": "code",
   "execution_count": 17,
   "metadata": {},
   "outputs": [
    {
     "data": {
      "text/html": [
       "<div><style>\n",
       ".dataframe > thead > tr,\n",
       ".dataframe > tbody > tr {\n",
       "  text-align: right;\n",
       "  white-space: pre-wrap;\n",
       "}\n",
       "</style>\n",
       "<small>shape: (5, 25)</small><table border=\"1\" class=\"dataframe\"><thead><tr><th>id</th><th>last</th><th>first</th><th>bat</th><th>throw</th><th>team</th><th>g</th><th>g_p</th><th>g_sp</th><th>g_rp</th><th>g_c</th><th>g_1b</th><th>g_2b</th><th>g_3b</th><th>g_ss</th><th>g_lf</th><th>g_cf</th><th>g_rf</th><th>g_of</th><th>g_dh</th><th>g_ph</th><th>g_pr</th><th>first_g</th><th>last_g</th><th>season</th></tr><tr><td>str</td><td>str</td><td>str</td><td>str</td><td>str</td><td>str</td><td>i64</td><td>i64</td><td>i64</td><td>i64</td><td>i64</td><td>i64</td><td>i64</td><td>i64</td><td>i64</td><td>i64</td><td>i64</td><td>i64</td><td>i64</td><td>i64</td><td>i64</td><td>i64</td><td>i64</td><td>i64</td><td>i64</td></tr></thead><tbody><tr><td>&quot;zefer001&quot;</td><td>&quot;Zeferjahn&quot;</td><td>&quot;Ryan&quot;</td><td>&quot;R&quot;</td><td>&quot;R&quot;</td><td>&quot;ANA&quot;</td><td>12</td><td>12</td><td>0</td><td>12</td><td>0</td><td>0</td><td>0</td><td>0</td><td>0</td><td>0</td><td>0</td><td>0</td><td>0</td><td>0</td><td>0</td><td>0</td><td>20240825</td><td>20240928</td><td>2024</td></tr><tr><td>&quot;zerpa001&quot;</td><td>&quot;Zerpa&quot;</td><td>&quot;Angel&quot;</td><td>&quot;L&quot;</td><td>&quot;L&quot;</td><td>&quot;KCA&quot;</td><td>65</td><td>65</td><td>0</td><td>65</td><td>0</td><td>0</td><td>0</td><td>0</td><td>0</td><td>0</td><td>0</td><td>0</td><td>0</td><td>0</td><td>0</td><td>0</td><td>20240328</td><td>20241010</td><td>2024</td></tr><tr><td>&quot;zubet001&quot;</td><td>&quot;Zuber&quot;</td><td>&quot;Tyler&quot;</td><td>&quot;R&quot;</td><td>&quot;R&quot;</td><td>&quot;TBA&quot;</td><td>2</td><td>2</td><td>0</td><td>2</td><td>0</td><td>0</td><td>0</td><td>0</td><td>0</td><td>0</td><td>0</td><td>0</td><td>0</td><td>0</td><td>0</td><td>0</td><td>20240722</td><td>20240728</td><td>2024</td></tr><tr><td>&quot;zuluy001&quot;</td><td>&quot;Zulueta&quot;</td><td>&quot;Yosver&quot;</td><td>&quot;R&quot;</td><td>&quot;R&quot;</td><td>&quot;CIN&quot;</td><td>12</td><td>12</td><td>0</td><td>12</td><td>0</td><td>0</td><td>0</td><td>0</td><td>0</td><td>0</td><td>0</td><td>0</td><td>0</td><td>0</td><td>0</td><td>0</td><td>20240625</td><td>20240924</td><td>2024</td></tr><tr><td>&quot;zunig001&quot;</td><td>&quot;Zuniga&quot;</td><td>&quot;Guillo&quot;</td><td>&quot;R&quot;</td><td>&quot;R&quot;</td><td>&quot;ANA&quot;</td><td>15</td><td>15</td><td>0</td><td>15</td><td>0</td><td>0</td><td>0</td><td>0</td><td>0</td><td>0</td><td>0</td><td>0</td><td>0</td><td>0</td><td>0</td><td>0</td><td>20240328</td><td>20240929</td><td>2024</td></tr></tbody></table></div>"
      ],
      "text/plain": [
       "shape: (5, 25)\n",
       "┌──────────┬───────────┬────────┬─────┬───┬──────┬──────────┬──────────┬────────┐\n",
       "│ id       ┆ last      ┆ first  ┆ bat ┆ … ┆ g_pr ┆ first_g  ┆ last_g   ┆ season │\n",
       "│ ---      ┆ ---       ┆ ---    ┆ --- ┆   ┆ ---  ┆ ---      ┆ ---      ┆ ---    │\n",
       "│ str      ┆ str       ┆ str    ┆ str ┆   ┆ i64  ┆ i64      ┆ i64      ┆ i64    │\n",
       "╞══════════╪═══════════╪════════╪═════╪═══╪══════╪══════════╪══════════╪════════╡\n",
       "│ zefer001 ┆ Zeferjahn ┆ Ryan   ┆ R   ┆ … ┆ 0    ┆ 20240825 ┆ 20240928 ┆ 2024   │\n",
       "│ zerpa001 ┆ Zerpa     ┆ Angel  ┆ L   ┆ … ┆ 0    ┆ 20240328 ┆ 20241010 ┆ 2024   │\n",
       "│ zubet001 ┆ Zuber     ┆ Tyler  ┆ R   ┆ … ┆ 0    ┆ 20240722 ┆ 20240728 ┆ 2024   │\n",
       "│ zuluy001 ┆ Zulueta   ┆ Yosver ┆ R   ┆ … ┆ 0    ┆ 20240625 ┆ 20240924 ┆ 2024   │\n",
       "│ zunig001 ┆ Zuniga    ┆ Guillo ┆ R   ┆ … ┆ 0    ┆ 20240328 ┆ 20240929 ┆ 2024   │\n",
       "└──────────┴───────────┴────────┴─────┴───┴──────┴──────────┴──────────┴────────┘"
      ]
     },
     "execution_count": 17,
     "metadata": {},
     "output_type": "execute_result"
    }
   ],
   "source": [
    "players.tail().collect()"
   ]
  },
  {
   "cell_type": "code",
   "execution_count": 21,
   "metadata": {},
   "outputs": [
    {
     "data": {
      "text/html": [
       "<div><style>\n",
       ".dataframe > thead > tr,\n",
       ".dataframe > tbody > tr {\n",
       "  text-align: right;\n",
       "  white-space: pre-wrap;\n",
       "}\n",
       "</style>\n",
       "<small>shape: (23, 25)</small><table border=\"1\" class=\"dataframe\"><thead><tr><th>id</th><th>last</th><th>first</th><th>bat</th><th>throw</th><th>team</th><th>g</th><th>g_p</th><th>g_sp</th><th>g_rp</th><th>g_c</th><th>g_1b</th><th>g_2b</th><th>g_3b</th><th>g_ss</th><th>g_lf</th><th>g_cf</th><th>g_rf</th><th>g_of</th><th>g_dh</th><th>g_ph</th><th>g_pr</th><th>first_g</th><th>last_g</th><th>season</th></tr><tr><td>str</td><td>str</td><td>str</td><td>str</td><td>str</td><td>str</td><td>i64</td><td>i64</td><td>i64</td><td>i64</td><td>i64</td><td>i64</td><td>i64</td><td>i64</td><td>i64</td><td>i64</td><td>i64</td><td>i64</td><td>i64</td><td>i64</td><td>i64</td><td>i64</td><td>i64</td><td>i64</td><td>i64</td></tr></thead><tbody><tr><td>&quot;freef001&quot;</td><td>&quot;Freeman&quot;</td><td>&quot;Freddie&quot;</td><td>&quot;L&quot;</td><td>&quot;R&quot;</td><td>&quot;ATL&quot;</td><td>20</td><td>0</td><td>0</td><td>0</td><td>0</td><td>12</td><td>0</td><td>0</td><td>0</td><td>0</td><td>0</td><td>0</td><td>0</td><td>0</td><td>11</td><td>2</td><td>20100901</td><td>20101002</td><td>2010</td></tr><tr><td>&quot;freef001&quot;</td><td>&quot;Freeman&quot;</td><td>&quot;Freddie&quot;</td><td>&quot;L&quot;</td><td>&quot;R&quot;</td><td>&quot;ATL&quot;</td><td>157</td><td>0</td><td>0</td><td>0</td><td>0</td><td>156</td><td>0</td><td>0</td><td>0</td><td>0</td><td>0</td><td>0</td><td>0</td><td>0</td><td>1</td><td>0</td><td>20110331</td><td>20110928</td><td>2011</td></tr><tr><td>&quot;freef001&quot;</td><td>&quot;Freeman&quot;</td><td>&quot;Freddie&quot;</td><td>&quot;L&quot;</td><td>&quot;R&quot;</td><td>&quot;ATL&quot;</td><td>148</td><td>0</td><td>0</td><td>0</td><td>0</td><td>147</td><td>0</td><td>0</td><td>0</td><td>0</td><td>0</td><td>0</td><td>0</td><td>0</td><td>2</td><td>0</td><td>20120405</td><td>20121005</td><td>2012</td></tr><tr><td>&quot;freef001&quot;</td><td>&quot;Freeman&quot;</td><td>&quot;Freddie&quot;</td><td>&quot;L&quot;</td><td>&quot;R&quot;</td><td>&quot;ATL&quot;</td><td>151</td><td>0</td><td>0</td><td>0</td><td>0</td><td>151</td><td>0</td><td>0</td><td>0</td><td>0</td><td>0</td><td>0</td><td>0</td><td>0</td><td>0</td><td>1</td><td>20130401</td><td>20131007</td><td>2013</td></tr><tr><td>&quot;freef001&quot;</td><td>&quot;Freeman&quot;</td><td>&quot;Freddie&quot;</td><td>&quot;L&quot;</td><td>&quot;R&quot;</td><td>&quot;NLS&quot;</td><td>0</td><td>0</td><td>0</td><td>0</td><td>0</td><td>0</td><td>0</td><td>0</td><td>0</td><td>0</td><td>0</td><td>0</td><td>0</td><td>0</td><td>0</td><td>0</td><td>0</td><td>0</td><td>2013</td></tr><tr><td>&hellip;</td><td>&hellip;</td><td>&hellip;</td><td>&hellip;</td><td>&hellip;</td><td>&hellip;</td><td>&hellip;</td><td>&hellip;</td><td>&hellip;</td><td>&hellip;</td><td>&hellip;</td><td>&hellip;</td><td>&hellip;</td><td>&hellip;</td><td>&hellip;</td><td>&hellip;</td><td>&hellip;</td><td>&hellip;</td><td>&hellip;</td><td>&hellip;</td><td>&hellip;</td><td>&hellip;</td><td>&hellip;</td><td>&hellip;</td><td>&hellip;</td></tr><tr><td>&quot;freef001&quot;</td><td>&quot;Freeman&quot;</td><td>&quot;Freddie&quot;</td><td>&quot;L&quot;</td><td>&quot;R&quot;</td><td>&quot;NLS&quot;</td><td>1</td><td>0</td><td>0</td><td>0</td><td>0</td><td>0</td><td>0</td><td>0</td><td>0</td><td>0</td><td>0</td><td>0</td><td>0</td><td>0</td><td>1</td><td>0</td><td>20220719</td><td>20220719</td><td>2022</td></tr><tr><td>&quot;freef001&quot;</td><td>&quot;Freeman&quot;</td><td>&quot;Freddie&quot;</td><td>&quot;L&quot;</td><td>&quot;R&quot;</td><td>&quot;LAN&quot;</td><td>164</td><td>0</td><td>0</td><td>0</td><td>0</td><td>164</td><td>0</td><td>0</td><td>0</td><td>0</td><td>0</td><td>0</td><td>0</td><td>0</td><td>0</td><td>0</td><td>20230330</td><td>20231011</td><td>2023</td></tr><tr><td>&quot;freef001&quot;</td><td>&quot;Freeman&quot;</td><td>&quot;Freddie&quot;</td><td>&quot;L&quot;</td><td>&quot;R&quot;</td><td>&quot;NLS&quot;</td><td>1</td><td>0</td><td>0</td><td>0</td><td>0</td><td>1</td><td>0</td><td>0</td><td>0</td><td>0</td><td>0</td><td>0</td><td>0</td><td>0</td><td>0</td><td>0</td><td>20230711</td><td>20230711</td><td>2023</td></tr><tr><td>&quot;freef001&quot;</td><td>&quot;Freeman&quot;</td><td>&quot;Freddie&quot;</td><td>&quot;L&quot;</td><td>&quot;R&quot;</td><td>&quot;LAN&quot;</td><td>160</td><td>0</td><td>0</td><td>0</td><td>0</td><td>160</td><td>0</td><td>0</td><td>0</td><td>0</td><td>0</td><td>0</td><td>0</td><td>0</td><td>0</td><td>0</td><td>20240320</td><td>20241030</td><td>2024</td></tr><tr><td>&quot;freef001&quot;</td><td>&quot;Freeman&quot;</td><td>&quot;Freddie&quot;</td><td>&quot;L&quot;</td><td>&quot;R&quot;</td><td>&quot;NLS&quot;</td><td>1</td><td>0</td><td>0</td><td>0</td><td>0</td><td>1</td><td>0</td><td>0</td><td>0</td><td>0</td><td>0</td><td>0</td><td>0</td><td>0</td><td>1</td><td>0</td><td>20240716</td><td>20240716</td><td>2024</td></tr></tbody></table></div>"
      ],
      "text/plain": [
       "shape: (23, 25)\n",
       "┌──────────┬─────────┬─────────┬─────┬───┬──────┬──────────┬──────────┬────────┐\n",
       "│ id       ┆ last    ┆ first   ┆ bat ┆ … ┆ g_pr ┆ first_g  ┆ last_g   ┆ season │\n",
       "│ ---      ┆ ---     ┆ ---     ┆ --- ┆   ┆ ---  ┆ ---      ┆ ---      ┆ ---    │\n",
       "│ str      ┆ str     ┆ str     ┆ str ┆   ┆ i64  ┆ i64      ┆ i64      ┆ i64    │\n",
       "╞══════════╪═════════╪═════════╪═════╪═══╪══════╪══════════╪══════════╪════════╡\n",
       "│ freef001 ┆ Freeman ┆ Freddie ┆ L   ┆ … ┆ 2    ┆ 20100901 ┆ 20101002 ┆ 2010   │\n",
       "│ freef001 ┆ Freeman ┆ Freddie ┆ L   ┆ … ┆ 0    ┆ 20110331 ┆ 20110928 ┆ 2011   │\n",
       "│ freef001 ┆ Freeman ┆ Freddie ┆ L   ┆ … ┆ 0    ┆ 20120405 ┆ 20121005 ┆ 2012   │\n",
       "│ freef001 ┆ Freeman ┆ Freddie ┆ L   ┆ … ┆ 1    ┆ 20130401 ┆ 20131007 ┆ 2013   │\n",
       "│ freef001 ┆ Freeman ┆ Freddie ┆ L   ┆ … ┆ 0    ┆ 0        ┆ 0        ┆ 2013   │\n",
       "│ …        ┆ …       ┆ …       ┆ …   ┆ … ┆ …    ┆ …        ┆ …        ┆ …      │\n",
       "│ freef001 ┆ Freeman ┆ Freddie ┆ L   ┆ … ┆ 0    ┆ 20220719 ┆ 20220719 ┆ 2022   │\n",
       "│ freef001 ┆ Freeman ┆ Freddie ┆ L   ┆ … ┆ 0    ┆ 20230330 ┆ 20231011 ┆ 2023   │\n",
       "│ freef001 ┆ Freeman ┆ Freddie ┆ L   ┆ … ┆ 0    ┆ 20230711 ┆ 20230711 ┆ 2023   │\n",
       "│ freef001 ┆ Freeman ┆ Freddie ┆ L   ┆ … ┆ 0    ┆ 20240320 ┆ 20241030 ┆ 2024   │\n",
       "│ freef001 ┆ Freeman ┆ Freddie ┆ L   ┆ … ┆ 0    ┆ 20240716 ┆ 20240716 ┆ 2024   │\n",
       "└──────────┴─────────┴─────────┴─────┴───┴──────┴──────────┴──────────┴────────┘"
      ]
     },
     "execution_count": 21,
     "metadata": {},
     "output_type": "execute_result"
    }
   ],
   "source": [
    "players.filter((pl.col(\"last\") == \"Freeman\") & (pl.col(\"first\")==\"Freddie\")).collect()"
   ]
  },
  {
   "cell_type": "code",
   "execution_count": 24,
   "metadata": {},
   "outputs": [
    {
     "data": {
      "text/html": [
       "<div><style>\n",
       ".dataframe > thead > tr,\n",
       ".dataframe > tbody > tr {\n",
       "  text-align: right;\n",
       "  white-space: pre-wrap;\n",
       "}\n",
       "</style>\n",
       "<small>shape: (2_101, 39)</small><table border=\"1\" class=\"dataframe\"><thead><tr><th>gid</th><th>id</th><th>team</th><th>b_lp</th><th>b_seq</th><th>stattype</th><th>b_pa</th><th>b_ab</th><th>b_r</th><th>b_h</th><th>b_d</th><th>b_t</th><th>b_hr</th><th>b_rbi</th><th>b_sh</th><th>b_sf</th><th>b_hbp</th><th>b_w</th><th>b_iw</th><th>b_k</th><th>b_sb</th><th>b_cs</th><th>b_gdp</th><th>b_xi</th><th>b_roe</th><th>dh</th><th>ph</th><th>pr</th><th>date</th><th>number</th><th>site</th><th>vishome</th><th>opp</th><th>win</th><th>loss</th><th>tie</th><th>gametype</th><th>box</th><th>pbp</th></tr><tr><td>str</td><td>str</td><td>str</td><td>i64</td><td>str</td><td>str</td><td>i64</td><td>i64</td><td>i64</td><td>i64</td><td>i64</td><td>i64</td><td>i64</td><td>i64</td><td>i64</td><td>i64</td><td>i64</td><td>i64</td><td>i64</td><td>i64</td><td>i64</td><td>i64</td><td>i64</td><td>i64</td><td>i64</td><td>i64</td><td>i64</td><td>i64</td><td>i64</td><td>i64</td><td>str</td><td>str</td><td>str</td><td>i64</td><td>i64</td><td>i64</td><td>str</td><td>str</td><td>str</td></tr></thead><tbody><tr><td>&quot;ATL201009010&quot;</td><td>&quot;freef001&quot;</td><td>&quot;ATL&quot;</td><td>6</td><td>&quot;1&quot;</td><td>&quot;value&quot;</td><td>3</td><td>3</td><td>0</td><td>0</td><td>0</td><td>0</td><td>0</td><td>0</td><td>0</td><td>0</td><td>0</td><td>0</td><td>0</td><td>1</td><td>0</td><td>0</td><td>1</td><td>0</td><td>0</td><td>null</td><td>null</td><td>null</td><td>20100901</td><td>0</td><td>&quot;ATL02&quot;</td><td>&quot;h&quot;</td><td>&quot;NYN&quot;</td><td>1</td><td>0</td><td>0</td><td>&quot;regular&quot;</td><td>&quot;y&quot;</td><td>&quot;y&quot;</td></tr><tr><td>&quot;FLO201009030&quot;</td><td>&quot;freef001&quot;</td><td>&quot;ATL&quot;</td><td>9</td><td>&quot;7&quot;</td><td>&quot;value&quot;</td><td>1</td><td>1</td><td>0</td><td>0</td><td>0</td><td>0</td><td>0</td><td>0</td><td>0</td><td>0</td><td>0</td><td>0</td><td>0</td><td>0</td><td>0</td><td>0</td><td>0</td><td>0</td><td>0</td><td>null</td><td>1</td><td>null</td><td>20100903</td><td>0</td><td>&quot;MIA01&quot;</td><td>&quot;v&quot;</td><td>&quot;FLO&quot;</td><td>0</td><td>1</td><td>0</td><td>&quot;regular&quot;</td><td>&quot;y&quot;</td><td>&quot;y&quot;</td></tr><tr><td>&quot;FLO201009040&quot;</td><td>&quot;freef001&quot;</td><td>&quot;ATL&quot;</td><td>8</td><td>&quot;3&quot;</td><td>&quot;value&quot;</td><td>1</td><td>1</td><td>0</td><td>0</td><td>0</td><td>0</td><td>0</td><td>0</td><td>0</td><td>0</td><td>0</td><td>0</td><td>0</td><td>1</td><td>0</td><td>0</td><td>0</td><td>0</td><td>0</td><td>null</td><td>1</td><td>null</td><td>20100904</td><td>0</td><td>&quot;MIA01&quot;</td><td>&quot;v&quot;</td><td>&quot;FLO&quot;</td><td>1</td><td>0</td><td>0</td><td>&quot;regular&quot;</td><td>&quot;y&quot;</td><td>&quot;y&quot;</td></tr><tr><td>&quot;FLO201009050&quot;</td><td>&quot;freef001&quot;</td><td>&quot;ATL&quot;</td><td>9</td><td>&quot;4&quot;</td><td>&quot;value&quot;</td><td>2</td><td>2</td><td>0</td><td>1</td><td>0</td><td>0</td><td>0</td><td>0</td><td>0</td><td>0</td><td>0</td><td>0</td><td>0</td><td>0</td><td>0</td><td>0</td><td>0</td><td>0</td><td>0</td><td>null</td><td>1</td><td>null</td><td>20100905</td><td>0</td><td>&quot;MIA01&quot;</td><td>&quot;v&quot;</td><td>&quot;FLO&quot;</td><td>0</td><td>1</td><td>0</td><td>&quot;regular&quot;</td><td>&quot;y&quot;</td><td>&quot;y&quot;</td></tr><tr><td>&quot;PIT201009060&quot;</td><td>&quot;freef001&quot;</td><td>&quot;ATL&quot;</td><td>9</td><td>&quot;2&quot;</td><td>&quot;value&quot;</td><td>1</td><td>1</td><td>0</td><td>0</td><td>0</td><td>0</td><td>0</td><td>0</td><td>0</td><td>0</td><td>0</td><td>0</td><td>0</td><td>0</td><td>0</td><td>0</td><td>0</td><td>0</td><td>0</td><td>null</td><td>1</td><td>null</td><td>20100906</td><td>0</td><td>&quot;PIT08&quot;</td><td>&quot;v&quot;</td><td>&quot;PIT&quot;</td><td>0</td><td>1</td><td>0</td><td>&quot;regular&quot;</td><td>&quot;y&quot;</td><td>&quot;y&quot;</td></tr><tr><td>&hellip;</td><td>&hellip;</td><td>&hellip;</td><td>&hellip;</td><td>&hellip;</td><td>&hellip;</td><td>&hellip;</td><td>&hellip;</td><td>&hellip;</td><td>&hellip;</td><td>&hellip;</td><td>&hellip;</td><td>&hellip;</td><td>&hellip;</td><td>&hellip;</td><td>&hellip;</td><td>&hellip;</td><td>&hellip;</td><td>&hellip;</td><td>&hellip;</td><td>&hellip;</td><td>&hellip;</td><td>&hellip;</td><td>&hellip;</td><td>&hellip;</td><td>&hellip;</td><td>&hellip;</td><td>&hellip;</td><td>&hellip;</td><td>&hellip;</td><td>&hellip;</td><td>&hellip;</td><td>&hellip;</td><td>&hellip;</td><td>&hellip;</td><td>&hellip;</td><td>&hellip;</td><td>&hellip;</td><td>&hellip;</td></tr><tr><td>&quot;LAN202410250&quot;</td><td>&quot;freef001&quot;</td><td>&quot;LAN&quot;</td><td>3</td><td>&quot;1&quot;</td><td>&quot;value&quot;</td><td>5</td><td>5</td><td>1</td><td>2</td><td>0</td><td>1</td><td>1</td><td>4</td><td>0</td><td>0</td><td>0</td><td>0</td><td>0</td><td>0</td><td>0</td><td>0</td><td>0</td><td>0</td><td>0</td><td>null</td><td>null</td><td>null</td><td>20241025</td><td>0</td><td>&quot;LOS03&quot;</td><td>&quot;h&quot;</td><td>&quot;NYA&quot;</td><td>1</td><td>0</td><td>0</td><td>&quot;worldseries&quot;</td><td>&quot;y&quot;</td><td>&quot;y&quot;</td></tr><tr><td>&quot;LAN202410260&quot;</td><td>&quot;freef001&quot;</td><td>&quot;LAN&quot;</td><td>4</td><td>&quot;1&quot;</td><td>&quot;value&quot;</td><td>4</td><td>4</td><td>1</td><td>1</td><td>0</td><td>0</td><td>1</td><td>1</td><td>0</td><td>0</td><td>0</td><td>0</td><td>0</td><td>0</td><td>0</td><td>0</td><td>0</td><td>0</td><td>0</td><td>null</td><td>null</td><td>null</td><td>20241026</td><td>0</td><td>&quot;LOS03&quot;</td><td>&quot;h&quot;</td><td>&quot;NYA&quot;</td><td>1</td><td>0</td><td>0</td><td>&quot;worldseries&quot;</td><td>&quot;y&quot;</td><td>&quot;y&quot;</td></tr><tr><td>&quot;NYA202410280&quot;</td><td>&quot;freef001&quot;</td><td>&quot;LAN&quot;</td><td>3</td><td>&quot;1&quot;</td><td>&quot;value&quot;</td><td>4</td><td>3</td><td>1</td><td>1</td><td>0</td><td>0</td><td>1</td><td>2</td><td>0</td><td>0</td><td>0</td><td>1</td><td>0</td><td>0</td><td>0</td><td>0</td><td>0</td><td>0</td><td>1</td><td>null</td><td>null</td><td>null</td><td>20241028</td><td>0</td><td>&quot;NYC21&quot;</td><td>&quot;v&quot;</td><td>&quot;NYA&quot;</td><td>1</td><td>0</td><td>0</td><td>&quot;worldseries&quot;</td><td>&quot;y&quot;</td><td>&quot;y&quot;</td></tr><tr><td>&quot;NYA202410290&quot;</td><td>&quot;freef001&quot;</td><td>&quot;LAN&quot;</td><td>3</td><td>&quot;1&quot;</td><td>&quot;value&quot;</td><td>4</td><td>4</td><td>1</td><td>1</td><td>0</td><td>0</td><td>1</td><td>3</td><td>0</td><td>0</td><td>0</td><td>0</td><td>0</td><td>0</td><td>0</td><td>0</td><td>0</td><td>0</td><td>0</td><td>null</td><td>null</td><td>null</td><td>20241029</td><td>0</td><td>&quot;NYC21&quot;</td><td>&quot;v&quot;</td><td>&quot;NYA&quot;</td><td>0</td><td>1</td><td>0</td><td>&quot;worldseries&quot;</td><td>&quot;y&quot;</td><td>&quot;y&quot;</td></tr><tr><td>&quot;NYA202410300&quot;</td><td>&quot;freef001&quot;</td><td>&quot;LAN&quot;</td><td>3</td><td>&quot;1&quot;</td><td>&quot;value&quot;</td><td>5</td><td>4</td><td>1</td><td>1</td><td>0</td><td>0</td><td>0</td><td>2</td><td>0</td><td>0</td><td>0</td><td>1</td><td>0</td><td>1</td><td>0</td><td>0</td><td>0</td><td>0</td><td>0</td><td>null</td><td>null</td><td>null</td><td>20241030</td><td>0</td><td>&quot;NYC21&quot;</td><td>&quot;v&quot;</td><td>&quot;NYA&quot;</td><td>1</td><td>0</td><td>0</td><td>&quot;worldseries&quot;</td><td>&quot;y&quot;</td><td>&quot;y&quot;</td></tr></tbody></table></div>"
      ],
      "text/plain": [
       "shape: (2_101, 39)\n",
       "┌──────────────┬──────────┬──────┬──────┬───┬─────┬─────────────┬─────┬─────┐\n",
       "│ gid          ┆ id       ┆ team ┆ b_lp ┆ … ┆ tie ┆ gametype    ┆ box ┆ pbp │\n",
       "│ ---          ┆ ---      ┆ ---  ┆ ---  ┆   ┆ --- ┆ ---         ┆ --- ┆ --- │\n",
       "│ str          ┆ str      ┆ str  ┆ i64  ┆   ┆ i64 ┆ str         ┆ str ┆ str │\n",
       "╞══════════════╪══════════╪══════╪══════╪═══╪═════╪═════════════╪═════╪═════╡\n",
       "│ ATL201009010 ┆ freef001 ┆ ATL  ┆ 6    ┆ … ┆ 0   ┆ regular     ┆ y   ┆ y   │\n",
       "│ FLO201009030 ┆ freef001 ┆ ATL  ┆ 9    ┆ … ┆ 0   ┆ regular     ┆ y   ┆ y   │\n",
       "│ FLO201009040 ┆ freef001 ┆ ATL  ┆ 8    ┆ … ┆ 0   ┆ regular     ┆ y   ┆ y   │\n",
       "│ FLO201009050 ┆ freef001 ┆ ATL  ┆ 9    ┆ … ┆ 0   ┆ regular     ┆ y   ┆ y   │\n",
       "│ PIT201009060 ┆ freef001 ┆ ATL  ┆ 9    ┆ … ┆ 0   ┆ regular     ┆ y   ┆ y   │\n",
       "│ …            ┆ …        ┆ …    ┆ …    ┆ … ┆ …   ┆ …           ┆ …   ┆ …   │\n",
       "│ LAN202410250 ┆ freef001 ┆ LAN  ┆ 3    ┆ … ┆ 0   ┆ worldseries ┆ y   ┆ y   │\n",
       "│ LAN202410260 ┆ freef001 ┆ LAN  ┆ 4    ┆ … ┆ 0   ┆ worldseries ┆ y   ┆ y   │\n",
       "│ NYA202410280 ┆ freef001 ┆ LAN  ┆ 3    ┆ … ┆ 0   ┆ worldseries ┆ y   ┆ y   │\n",
       "│ NYA202410290 ┆ freef001 ┆ LAN  ┆ 3    ┆ … ┆ 0   ┆ worldseries ┆ y   ┆ y   │\n",
       "│ NYA202410300 ┆ freef001 ┆ LAN  ┆ 3    ┆ … ┆ 0   ┆ worldseries ┆ y   ┆ y   │\n",
       "└──────────────┴──────────┴──────┴──────┴───┴─────┴─────────────┴─────┴─────┘"
      ]
     },
     "execution_count": 24,
     "metadata": {},
     "output_type": "execute_result"
    }
   ],
   "source": [
    "batting.filter(pl.col(\"id\")==\"freef001\").collect()"
   ]
  },
  {
   "cell_type": "code",
   "execution_count": 17,
   "metadata": {},
   "outputs": [
    {
     "data": {
      "text/html": [
       "<div><style>\n",
       ".dataframe > thead > tr,\n",
       ".dataframe > tbody > tr {\n",
       "  text-align: right;\n",
       "  white-space: pre-wrap;\n",
       "}\n",
       "</style>\n",
       "<small>shape: (124, 4)</small><table border=\"1\" class=\"dataframe\"><thead><tr><th>year</th><th>b_h</th><th>b_ab</th><th>avg</th></tr><tr><td>i32</td><td>i64</td><td>i64</td><td>f64</td></tr></thead><tbody><tr><td>1901</td><td>21279</td><td>78375</td><td>0.271502</td></tr><tr><td>1902</td><td>20769</td><td>77694</td><td>0.267318</td></tr><tr><td>1903</td><td>20237</td><td>77259</td><td>0.261937</td></tr><tr><td>1904</td><td>20543</td><td>83301</td><td>0.246612</td></tr><tr><td>1905</td><td>20475</td><td>82649</td><td>0.247734</td></tr><tr><td>&hellip;</td><td>&hellip;</td><td>&hellip;</td><td>&hellip;</td></tr><tr><td>2020</td><td>15269</td><td>62575</td><td>0.244011</td></tr><tr><td>2021</td><td>40113</td><td>164516</td><td>0.243824</td></tr><tr><td>2022</td><td>40258</td><td>166229</td><td>0.242184</td></tr><tr><td>2023</td><td>41517</td><td>167232</td><td>0.24826</td></tr><tr><td>2024</td><td>40495</td><td>166603</td><td>0.243063</td></tr></tbody></table></div>"
      ],
      "text/plain": [
       "shape: (124, 4)\n",
       "┌──────┬───────┬────────┬──────────┐\n",
       "│ year ┆ b_h   ┆ b_ab   ┆ avg      │\n",
       "│ ---  ┆ ---   ┆ ---    ┆ ---      │\n",
       "│ i32  ┆ i64   ┆ i64    ┆ f64      │\n",
       "╞══════╪═══════╪════════╪══════════╡\n",
       "│ 1901 ┆ 21279 ┆ 78375  ┆ 0.271502 │\n",
       "│ 1902 ┆ 20769 ┆ 77694  ┆ 0.267318 │\n",
       "│ 1903 ┆ 20237 ┆ 77259  ┆ 0.261937 │\n",
       "│ 1904 ┆ 20543 ┆ 83301  ┆ 0.246612 │\n",
       "│ 1905 ┆ 20475 ┆ 82649  ┆ 0.247734 │\n",
       "│ …    ┆ …     ┆ …      ┆ …        │\n",
       "│ 2020 ┆ 15269 ┆ 62575  ┆ 0.244011 │\n",
       "│ 2021 ┆ 40113 ┆ 164516 ┆ 0.243824 │\n",
       "│ 2022 ┆ 40258 ┆ 166229 ┆ 0.242184 │\n",
       "│ 2023 ┆ 41517 ┆ 167232 ┆ 0.24826  │\n",
       "│ 2024 ┆ 40495 ┆ 166603 ┆ 0.243063 │\n",
       "└──────┴───────┴────────┴──────────┘"
      ]
     },
     "execution_count": 17,
     "metadata": {},
     "output_type": "execute_result"
    }
   ],
   "source": [
    "# League wide batting average per year\n",
    "df = (\n",
    "    batting\n",
    "    .with_columns(pl.col(\"date\").cast(pl.String).str.strptime(pl.Date, \"%Y%m%d\").dt.year().alias(\"year\"))\n",
    "    .group_by(\"year\")\n",
    "    .agg(pl.col(\"b_h\").sum(), pl.col(\"b_ab\").sum())\n",
    "    .with_columns((pl.col(\"b_h\") / pl.col(\"b_ab\")).alias(\"avg\"))\n",
    "    .sort(\"year\")\n",
    "    .collect()\n",
    ")\n",
    "df"
   ]
  },
  {
   "cell_type": "code",
   "execution_count": 15,
   "metadata": {},
   "outputs": [
    {
     "ename": "ValueError",
     "evalue": "Mime type rendering requires nbformat>=4.2.0 but it is not installed",
     "output_type": "error",
     "traceback": [
      "\u001b[31m---------------------------------------------------------------------------\u001b[39m",
      "\u001b[31mValueError\u001b[39m                                Traceback (most recent call last)",
      "\u001b[36mFile \u001b[39m\u001b[32m~/github/baseball/.venv/lib/python3.12/site-packages/IPython/core/formatters.py:984\u001b[39m, in \u001b[36mIPythonDisplayFormatter.__call__\u001b[39m\u001b[34m(self, obj)\u001b[39m\n\u001b[32m    982\u001b[39m method = get_real_method(obj, \u001b[38;5;28mself\u001b[39m.print_method)\n\u001b[32m    983\u001b[39m \u001b[38;5;28;01mif\u001b[39;00m method \u001b[38;5;129;01mis\u001b[39;00m \u001b[38;5;129;01mnot\u001b[39;00m \u001b[38;5;28;01mNone\u001b[39;00m:\n\u001b[32m--> \u001b[39m\u001b[32m984\u001b[39m     \u001b[43mmethod\u001b[49m\u001b[43m(\u001b[49m\u001b[43m)\u001b[49m\n\u001b[32m    985\u001b[39m     \u001b[38;5;28;01mreturn\u001b[39;00m \u001b[38;5;28;01mTrue\u001b[39;00m\n",
      "\u001b[36mFile \u001b[39m\u001b[32m~/github/baseball/.venv/lib/python3.12/site-packages/plotly/basedatatypes.py:833\u001b[39m, in \u001b[36mBaseFigure._ipython_display_\u001b[39m\u001b[34m(self)\u001b[39m\n\u001b[32m    830\u001b[39m \u001b[38;5;28;01mimport\u001b[39;00m\u001b[38;5;250m \u001b[39m\u001b[34;01mplotly\u001b[39;00m\u001b[34;01m.\u001b[39;00m\u001b[34;01mio\u001b[39;00m\u001b[38;5;250m \u001b[39m\u001b[38;5;28;01mas\u001b[39;00m\u001b[38;5;250m \u001b[39m\u001b[34;01mpio\u001b[39;00m\n\u001b[32m    832\u001b[39m \u001b[38;5;28;01mif\u001b[39;00m pio.renderers.render_on_display \u001b[38;5;129;01mand\u001b[39;00m pio.renderers.default:\n\u001b[32m--> \u001b[39m\u001b[32m833\u001b[39m     \u001b[43mpio\u001b[49m\u001b[43m.\u001b[49m\u001b[43mshow\u001b[49m\u001b[43m(\u001b[49m\u001b[38;5;28;43mself\u001b[39;49m\u001b[43m)\u001b[49m\n\u001b[32m    834\u001b[39m \u001b[38;5;28;01melse\u001b[39;00m:\n\u001b[32m    835\u001b[39m     \u001b[38;5;28mprint\u001b[39m(\u001b[38;5;28mrepr\u001b[39m(\u001b[38;5;28mself\u001b[39m))\n",
      "\u001b[36mFile \u001b[39m\u001b[32m~/github/baseball/.venv/lib/python3.12/site-packages/plotly/io/_renderers.py:425\u001b[39m, in \u001b[36mshow\u001b[39m\u001b[34m(fig, renderer, validate, **kwargs)\u001b[39m\n\u001b[32m    420\u001b[39m     \u001b[38;5;28;01mraise\u001b[39;00m \u001b[38;5;167;01mValueError\u001b[39;00m(\n\u001b[32m    421\u001b[39m         \u001b[33m\"\u001b[39m\u001b[33mMime type rendering requires ipython but it is not installed\u001b[39m\u001b[33m\"\u001b[39m\n\u001b[32m    422\u001b[39m     )\n\u001b[32m    424\u001b[39m \u001b[38;5;28;01mif\u001b[39;00m \u001b[38;5;129;01mnot\u001b[39;00m nbformat \u001b[38;5;129;01mor\u001b[39;00m Version(nbformat.__version__) < Version(\u001b[33m\"\u001b[39m\u001b[33m4.2.0\u001b[39m\u001b[33m\"\u001b[39m):\n\u001b[32m--> \u001b[39m\u001b[32m425\u001b[39m     \u001b[38;5;28;01mraise\u001b[39;00m \u001b[38;5;167;01mValueError\u001b[39;00m(\n\u001b[32m    426\u001b[39m         \u001b[33m\"\u001b[39m\u001b[33mMime type rendering requires nbformat>=4.2.0 but it is not installed\u001b[39m\u001b[33m\"\u001b[39m\n\u001b[32m    427\u001b[39m     )\n\u001b[32m    429\u001b[39m display_jupyter_version_warnings()\n\u001b[32m    431\u001b[39m ipython_display.display(bundle, raw=\u001b[38;5;28;01mTrue\u001b[39;00m)\n",
      "\u001b[31mValueError\u001b[39m: Mime type rendering requires nbformat>=4.2.0 but it is not installed"
     ]
    },
    {
     "data": {
      "application/vnd.plotly.v1+json": {
       "config": {
        "plotlyServerURL": "https://plot.ly"
       },
       "data": [
        {
         "hovertemplate": "year=%{x}<br>avg=%{y}<extra></extra>",
         "legendgroup": "",
         "line": {
          "color": "#636efa",
          "dash": "solid",
          "shape": "spline"
         },
         "marker": {
          "symbol": "circle"
         },
         "mode": "lines",
         "name": "",
         "orientation": "v",
         "showlegend": false,
         "type": "scatter",
         "x": {
          "bdata": "bQcAAG4HAABvBwAAcAcAAHEHAAByBwAAcwcAAHQHAAB1BwAAdgcAAHcHAAB4BwAAeQcAAHoHAAB7BwAAfAcAAH0HAAB+BwAAfwcAAIAHAACBBwAAggcAAIMHAACEBwAAhQcAAIYHAACHBwAAiAcAAIkHAACKBwAAiwcAAIwHAACNBwAAjgcAAI8HAACQBwAAkQcAAJIHAACTBwAAlAcAAJUHAACWBwAAlwcAAJgHAACZBwAAmgcAAJsHAACcBwAAnQcAAJ4HAACfBwAAoAcAAKEHAACiBwAAowcAAKQHAAClBwAApgcAAKcHAACoBwAAqQcAAKoHAACrBwAArAcAAK0HAACuBwAArwcAALAHAACxBwAAsgcAALMHAAC0BwAAtQcAALYHAAC3BwAAuAcAALkHAAC6BwAAuwcAALwHAAC9BwAAvgcAAL8HAADABwAAwQcAAMIHAADDBwAAxAcAAMUHAADGBwAAxwcAAMgHAADJBwAAygcAAMsHAADMBwAAzQcAAM4HAADPBwAA0AcAANEHAADSBwAA0wcAANQHAADVBwAA1gcAANcHAADYBwAA2QcAANoHAADbBwAA3AcAAN0HAADeBwAA3wcAAOAHAADhBwAA4gcAAOMHAADkBwAA5QcAAOYHAADnBwAA6AcAAA==",
          "dtype": "i4"
         },
         "xaxis": "x",
         "y": {
          "bdata": "t/H5kUtg0T+UXhC0vBvRP8Hqo+mTw9A/6QipwfiQzz84GP25wrXPP01aYof+iM8/CIlELVNvzz/EudpcMKDOP1BCL2FNO88/OUUGQRvYzz/6qMtpgg3RP6qaHK8BN9E/CtQX2FeV0D9URupob1bQP97LNeGXDtA/ukWGM+K8zz9aZ8IKuPHPPwOOqYZkRtA/2Wva7qHh0D9zJ2vxywPSPxs2B5Gd0tI/uUAPZ16n0j9JljKOYXbSP/dLC5/tldI/8/rBDBPH0j9az2CznxnSPxnqeAGIM9I/WsnQJPIn0j800oegV6LSPyzTQGfm/9I/AE38pXHN0T/kILoeU7zRPwFkAYMOQtE/6N17en7Y0T/DbsvzI9DRPzpZOrg/M9I/OXBcGvvz0T9FTIUPqLLRP4QbJ06nv9E/05cSLttd0T8hVjxd9BPRP6LxCobVsNA/ySGBjaMC0T89Uqi4T0vRP0NSI/vvQ9E/CLYRQw8J0T8ZHEUmgm/RP9mMvvBuWtE/2e1HJfhN0T+CUS/+ofzQP6I2z8sVt9A/6WWYdQkl0D/U0L7hJenQP6LCXfyvtdA/Bolh0t2J0D+YfD6CqojQPwHMKWhjeNA/T505zIuD0D+DqXSqA3PQPx9aXRypYdA/M65lKq2E0D974CEAknvQP0xoL6G9hM8/wX0iBk4H0D9O5bmO+m3PPxwstdXJyM8/JWpqYSwDzz8NFD1l50/OP8HRs2JFxM8/K+NFnjZA0D8IOj2UoeXPP5G+//E5Lc8/tqlQO39r0D82Hj0hhWvQPwfp8oh8e9A/3xbg4+9Z0D+ePy8d3eXQP5/RTNFIg9A/uVPhJ3/90D99wc1d1O/QP6+KUElUV9A/5GQJOPm20D9YOz6MIK7QP1yNm1CloNA/xqstd8Fx0D98qs3+s3zQP9X+cDjI0tA/f7wCAJZB0D+S2fD3QUXQP/rYxSKcftA/4TpGxsZb0D9AgaFf7V3QPwrNFFsS+NA/YPzo3zNE0T9n6fd2vw7RP0rAAczWP9E/9C9X7lwN0T+rJM7yTAPRP/IHQbFAVdE/Er6ViaFJ0T9iRVKMX93QP2maCS+KvdA/tNMdY+vj0D+SQ5AzUgbRP+GuWLIL69A/2zom0/U40T8z88FVGCbRP7flZLIz3tA/SHoS9ijI0D9IqPYl3HHQP7x232YJU9A/4T3N9HlD0D/H3sa1/DLQP9VzIGYmENA/ZMhMQttB0D/eBO4AplDQP+FYpPSdSdA/T9l7mkmvzz8uhblmWR/QP93sGTHCO88/wv9OjKI1zz+v/V9u4v/OPwy64QD7xs8/uHjU964czz8=",
          "dtype": "f8"
         },
         "yaxis": "y"
        }
       ],
       "layout": {
        "legend": {
         "tracegroupgap": 0
        },
        "template": {
         "data": {
          "bar": [
           {
            "error_x": {
             "color": "#2a3f5f"
            },
            "error_y": {
             "color": "#2a3f5f"
            },
            "marker": {
             "line": {
              "color": "#E5ECF6",
              "width": 0.5
             },
             "pattern": {
              "fillmode": "overlay",
              "size": 10,
              "solidity": 0.2
             }
            },
            "type": "bar"
           }
          ],
          "barpolar": [
           {
            "marker": {
             "line": {
              "color": "#E5ECF6",
              "width": 0.5
             },
             "pattern": {
              "fillmode": "overlay",
              "size": 10,
              "solidity": 0.2
             }
            },
            "type": "barpolar"
           }
          ],
          "carpet": [
           {
            "aaxis": {
             "endlinecolor": "#2a3f5f",
             "gridcolor": "white",
             "linecolor": "white",
             "minorgridcolor": "white",
             "startlinecolor": "#2a3f5f"
            },
            "baxis": {
             "endlinecolor": "#2a3f5f",
             "gridcolor": "white",
             "linecolor": "white",
             "minorgridcolor": "white",
             "startlinecolor": "#2a3f5f"
            },
            "type": "carpet"
           }
          ],
          "choropleth": [
           {
            "colorbar": {
             "outlinewidth": 0,
             "ticks": ""
            },
            "type": "choropleth"
           }
          ],
          "contour": [
           {
            "colorbar": {
             "outlinewidth": 0,
             "ticks": ""
            },
            "colorscale": [
             [
              0,
              "#0d0887"
             ],
             [
              0.1111111111111111,
              "#46039f"
             ],
             [
              0.2222222222222222,
              "#7201a8"
             ],
             [
              0.3333333333333333,
              "#9c179e"
             ],
             [
              0.4444444444444444,
              "#bd3786"
             ],
             [
              0.5555555555555556,
              "#d8576b"
             ],
             [
              0.6666666666666666,
              "#ed7953"
             ],
             [
              0.7777777777777778,
              "#fb9f3a"
             ],
             [
              0.8888888888888888,
              "#fdca26"
             ],
             [
              1,
              "#f0f921"
             ]
            ],
            "type": "contour"
           }
          ],
          "contourcarpet": [
           {
            "colorbar": {
             "outlinewidth": 0,
             "ticks": ""
            },
            "type": "contourcarpet"
           }
          ],
          "heatmap": [
           {
            "colorbar": {
             "outlinewidth": 0,
             "ticks": ""
            },
            "colorscale": [
             [
              0,
              "#0d0887"
             ],
             [
              0.1111111111111111,
              "#46039f"
             ],
             [
              0.2222222222222222,
              "#7201a8"
             ],
             [
              0.3333333333333333,
              "#9c179e"
             ],
             [
              0.4444444444444444,
              "#bd3786"
             ],
             [
              0.5555555555555556,
              "#d8576b"
             ],
             [
              0.6666666666666666,
              "#ed7953"
             ],
             [
              0.7777777777777778,
              "#fb9f3a"
             ],
             [
              0.8888888888888888,
              "#fdca26"
             ],
             [
              1,
              "#f0f921"
             ]
            ],
            "type": "heatmap"
           }
          ],
          "histogram": [
           {
            "marker": {
             "pattern": {
              "fillmode": "overlay",
              "size": 10,
              "solidity": 0.2
             }
            },
            "type": "histogram"
           }
          ],
          "histogram2d": [
           {
            "colorbar": {
             "outlinewidth": 0,
             "ticks": ""
            },
            "colorscale": [
             [
              0,
              "#0d0887"
             ],
             [
              0.1111111111111111,
              "#46039f"
             ],
             [
              0.2222222222222222,
              "#7201a8"
             ],
             [
              0.3333333333333333,
              "#9c179e"
             ],
             [
              0.4444444444444444,
              "#bd3786"
             ],
             [
              0.5555555555555556,
              "#d8576b"
             ],
             [
              0.6666666666666666,
              "#ed7953"
             ],
             [
              0.7777777777777778,
              "#fb9f3a"
             ],
             [
              0.8888888888888888,
              "#fdca26"
             ],
             [
              1,
              "#f0f921"
             ]
            ],
            "type": "histogram2d"
           }
          ],
          "histogram2dcontour": [
           {
            "colorbar": {
             "outlinewidth": 0,
             "ticks": ""
            },
            "colorscale": [
             [
              0,
              "#0d0887"
             ],
             [
              0.1111111111111111,
              "#46039f"
             ],
             [
              0.2222222222222222,
              "#7201a8"
             ],
             [
              0.3333333333333333,
              "#9c179e"
             ],
             [
              0.4444444444444444,
              "#bd3786"
             ],
             [
              0.5555555555555556,
              "#d8576b"
             ],
             [
              0.6666666666666666,
              "#ed7953"
             ],
             [
              0.7777777777777778,
              "#fb9f3a"
             ],
             [
              0.8888888888888888,
              "#fdca26"
             ],
             [
              1,
              "#f0f921"
             ]
            ],
            "type": "histogram2dcontour"
           }
          ],
          "mesh3d": [
           {
            "colorbar": {
             "outlinewidth": 0,
             "ticks": ""
            },
            "type": "mesh3d"
           }
          ],
          "parcoords": [
           {
            "line": {
             "colorbar": {
              "outlinewidth": 0,
              "ticks": ""
             }
            },
            "type": "parcoords"
           }
          ],
          "pie": [
           {
            "automargin": true,
            "type": "pie"
           }
          ],
          "scatter": [
           {
            "fillpattern": {
             "fillmode": "overlay",
             "size": 10,
             "solidity": 0.2
            },
            "type": "scatter"
           }
          ],
          "scatter3d": [
           {
            "line": {
             "colorbar": {
              "outlinewidth": 0,
              "ticks": ""
             }
            },
            "marker": {
             "colorbar": {
              "outlinewidth": 0,
              "ticks": ""
             }
            },
            "type": "scatter3d"
           }
          ],
          "scattercarpet": [
           {
            "marker": {
             "colorbar": {
              "outlinewidth": 0,
              "ticks": ""
             }
            },
            "type": "scattercarpet"
           }
          ],
          "scattergeo": [
           {
            "marker": {
             "colorbar": {
              "outlinewidth": 0,
              "ticks": ""
             }
            },
            "type": "scattergeo"
           }
          ],
          "scattergl": [
           {
            "marker": {
             "colorbar": {
              "outlinewidth": 0,
              "ticks": ""
             }
            },
            "type": "scattergl"
           }
          ],
          "scattermap": [
           {
            "marker": {
             "colorbar": {
              "outlinewidth": 0,
              "ticks": ""
             }
            },
            "type": "scattermap"
           }
          ],
          "scattermapbox": [
           {
            "marker": {
             "colorbar": {
              "outlinewidth": 0,
              "ticks": ""
             }
            },
            "type": "scattermapbox"
           }
          ],
          "scatterpolar": [
           {
            "marker": {
             "colorbar": {
              "outlinewidth": 0,
              "ticks": ""
             }
            },
            "type": "scatterpolar"
           }
          ],
          "scatterpolargl": [
           {
            "marker": {
             "colorbar": {
              "outlinewidth": 0,
              "ticks": ""
             }
            },
            "type": "scatterpolargl"
           }
          ],
          "scatterternary": [
           {
            "marker": {
             "colorbar": {
              "outlinewidth": 0,
              "ticks": ""
             }
            },
            "type": "scatterternary"
           }
          ],
          "surface": [
           {
            "colorbar": {
             "outlinewidth": 0,
             "ticks": ""
            },
            "colorscale": [
             [
              0,
              "#0d0887"
             ],
             [
              0.1111111111111111,
              "#46039f"
             ],
             [
              0.2222222222222222,
              "#7201a8"
             ],
             [
              0.3333333333333333,
              "#9c179e"
             ],
             [
              0.4444444444444444,
              "#bd3786"
             ],
             [
              0.5555555555555556,
              "#d8576b"
             ],
             [
              0.6666666666666666,
              "#ed7953"
             ],
             [
              0.7777777777777778,
              "#fb9f3a"
             ],
             [
              0.8888888888888888,
              "#fdca26"
             ],
             [
              1,
              "#f0f921"
             ]
            ],
            "type": "surface"
           }
          ],
          "table": [
           {
            "cells": {
             "fill": {
              "color": "#EBF0F8"
             },
             "line": {
              "color": "white"
             }
            },
            "header": {
             "fill": {
              "color": "#C8D4E3"
             },
             "line": {
              "color": "white"
             }
            },
            "type": "table"
           }
          ]
         },
         "layout": {
          "annotationdefaults": {
           "arrowcolor": "#2a3f5f",
           "arrowhead": 0,
           "arrowwidth": 1
          },
          "autotypenumbers": "strict",
          "coloraxis": {
           "colorbar": {
            "outlinewidth": 0,
            "ticks": ""
           }
          },
          "colorscale": {
           "diverging": [
            [
             0,
             "#8e0152"
            ],
            [
             0.1,
             "#c51b7d"
            ],
            [
             0.2,
             "#de77ae"
            ],
            [
             0.3,
             "#f1b6da"
            ],
            [
             0.4,
             "#fde0ef"
            ],
            [
             0.5,
             "#f7f7f7"
            ],
            [
             0.6,
             "#e6f5d0"
            ],
            [
             0.7,
             "#b8e186"
            ],
            [
             0.8,
             "#7fbc41"
            ],
            [
             0.9,
             "#4d9221"
            ],
            [
             1,
             "#276419"
            ]
           ],
           "sequential": [
            [
             0,
             "#0d0887"
            ],
            [
             0.1111111111111111,
             "#46039f"
            ],
            [
             0.2222222222222222,
             "#7201a8"
            ],
            [
             0.3333333333333333,
             "#9c179e"
            ],
            [
             0.4444444444444444,
             "#bd3786"
            ],
            [
             0.5555555555555556,
             "#d8576b"
            ],
            [
             0.6666666666666666,
             "#ed7953"
            ],
            [
             0.7777777777777778,
             "#fb9f3a"
            ],
            [
             0.8888888888888888,
             "#fdca26"
            ],
            [
             1,
             "#f0f921"
            ]
           ],
           "sequentialminus": [
            [
             0,
             "#0d0887"
            ],
            [
             0.1111111111111111,
             "#46039f"
            ],
            [
             0.2222222222222222,
             "#7201a8"
            ],
            [
             0.3333333333333333,
             "#9c179e"
            ],
            [
             0.4444444444444444,
             "#bd3786"
            ],
            [
             0.5555555555555556,
             "#d8576b"
            ],
            [
             0.6666666666666666,
             "#ed7953"
            ],
            [
             0.7777777777777778,
             "#fb9f3a"
            ],
            [
             0.8888888888888888,
             "#fdca26"
            ],
            [
             1,
             "#f0f921"
            ]
           ]
          },
          "colorway": [
           "#636efa",
           "#EF553B",
           "#00cc96",
           "#ab63fa",
           "#FFA15A",
           "#19d3f3",
           "#FF6692",
           "#B6E880",
           "#FF97FF",
           "#FECB52"
          ],
          "font": {
           "color": "#2a3f5f"
          },
          "geo": {
           "bgcolor": "white",
           "lakecolor": "white",
           "landcolor": "#E5ECF6",
           "showlakes": true,
           "showland": true,
           "subunitcolor": "white"
          },
          "hoverlabel": {
           "align": "left"
          },
          "hovermode": "closest",
          "mapbox": {
           "style": "light"
          },
          "paper_bgcolor": "white",
          "plot_bgcolor": "#E5ECF6",
          "polar": {
           "angularaxis": {
            "gridcolor": "white",
            "linecolor": "white",
            "ticks": ""
           },
           "bgcolor": "#E5ECF6",
           "radialaxis": {
            "gridcolor": "white",
            "linecolor": "white",
            "ticks": ""
           }
          },
          "scene": {
           "xaxis": {
            "backgroundcolor": "#E5ECF6",
            "gridcolor": "white",
            "gridwidth": 2,
            "linecolor": "white",
            "showbackground": true,
            "ticks": "",
            "zerolinecolor": "white"
           },
           "yaxis": {
            "backgroundcolor": "#E5ECF6",
            "gridcolor": "white",
            "gridwidth": 2,
            "linecolor": "white",
            "showbackground": true,
            "ticks": "",
            "zerolinecolor": "white"
           },
           "zaxis": {
            "backgroundcolor": "#E5ECF6",
            "gridcolor": "white",
            "gridwidth": 2,
            "linecolor": "white",
            "showbackground": true,
            "ticks": "",
            "zerolinecolor": "white"
           }
          },
          "shapedefaults": {
           "line": {
            "color": "#2a3f5f"
           }
          },
          "ternary": {
           "aaxis": {
            "gridcolor": "white",
            "linecolor": "white",
            "ticks": ""
           },
           "baxis": {
            "gridcolor": "white",
            "linecolor": "white",
            "ticks": ""
           },
           "bgcolor": "#E5ECF6",
           "caxis": {
            "gridcolor": "white",
            "linecolor": "white",
            "ticks": ""
           }
          },
          "title": {
           "x": 0.05
          },
          "xaxis": {
           "automargin": true,
           "gridcolor": "white",
           "linecolor": "white",
           "ticks": "",
           "title": {
            "standoff": 15
           },
           "zerolinecolor": "white",
           "zerolinewidth": 2
          },
          "yaxis": {
           "automargin": true,
           "gridcolor": "white",
           "linecolor": "white",
           "ticks": "",
           "title": {
            "standoff": 15
           },
           "zerolinecolor": "white",
           "zerolinewidth": 2
          }
         }
        },
        "title": {
         "text": "League wide batting average per year"
        },
        "xaxis": {
         "anchor": "y",
         "domain": [
          0,
          1
         ],
         "title": {
          "text": "year"
         }
        },
        "yaxis": {
         "anchor": "x",
         "domain": [
          0,
          1
         ],
         "title": {
          "text": "avg"
         }
        }
       }
      },
      "text/html": [
       "<div>                        <script type=\"text/javascript\">window.PlotlyConfig = {MathJaxConfig: 'local'};</script>\n",
       "        <script charset=\"utf-8\" src=\"https://cdn.plot.ly/plotly-3.0.0.min.js\"></script>                <div id=\"c9992f9c-c11f-4e95-9f4d-b39d18662b90\" class=\"plotly-graph-div\" style=\"height:100%; width:100%;\"></div>            <script type=\"text/javascript\">                window.PLOTLYENV=window.PLOTLYENV || {};                                if (document.getElementById(\"c9992f9c-c11f-4e95-9f4d-b39d18662b90\")) {                    Plotly.newPlot(                        \"c9992f9c-c11f-4e95-9f4d-b39d18662b90\",                        [{\"hovertemplate\":\"year=%{x}\\u003cbr\\u003eavg=%{y}\\u003cextra\\u003e\\u003c\\u002fextra\\u003e\",\"legendgroup\":\"\",\"line\":{\"color\":\"#636efa\",\"dash\":\"solid\",\"shape\":\"spline\"},\"marker\":{\"symbol\":\"circle\"},\"mode\":\"lines\",\"name\":\"\",\"orientation\":\"v\",\"showlegend\":false,\"x\":{\"dtype\":\"i4\",\"bdata\":\"bQcAAG4HAABvBwAAcAcAAHEHAAByBwAAcwcAAHQHAAB1BwAAdgcAAHcHAAB4BwAAeQcAAHoHAAB7BwAAfAcAAH0HAAB+BwAAfwcAAIAHAACBBwAAggcAAIMHAACEBwAAhQcAAIYHAACHBwAAiAcAAIkHAACKBwAAiwcAAIwHAACNBwAAjgcAAI8HAACQBwAAkQcAAJIHAACTBwAAlAcAAJUHAACWBwAAlwcAAJgHAACZBwAAmgcAAJsHAACcBwAAnQcAAJ4HAACfBwAAoAcAAKEHAACiBwAAowcAAKQHAAClBwAApgcAAKcHAACoBwAAqQcAAKoHAACrBwAArAcAAK0HAACuBwAArwcAALAHAACxBwAAsgcAALMHAAC0BwAAtQcAALYHAAC3BwAAuAcAALkHAAC6BwAAuwcAALwHAAC9BwAAvgcAAL8HAADABwAAwQcAAMIHAADDBwAAxAcAAMUHAADGBwAAxwcAAMgHAADJBwAAygcAAMsHAADMBwAAzQcAAM4HAADPBwAA0AcAANEHAADSBwAA0wcAANQHAADVBwAA1gcAANcHAADYBwAA2QcAANoHAADbBwAA3AcAAN0HAADeBwAA3wcAAOAHAADhBwAA4gcAAOMHAADkBwAA5QcAAOYHAADnBwAA6AcAAA==\"},\"xaxis\":\"x\",\"y\":{\"dtype\":\"f8\",\"bdata\":\"t\\u002fH5kUtg0T+UXhC0vBvRP8Hqo+mTw9A\\u002f6QipwfiQzz84GP25wrXPP01aYof+iM8\\u002fCIlELVNvzz\\u002fEudpcMKDOP1BCL2FNO88\\u002fOUUGQRvYzz\\u002f6qMtpgg3RP6qaHK8BN9E\\u002fCtQX2FeV0D9URupob1bQP97LNeGXDtA\\u002fukWGM+K8zz9aZ8IKuPHPPwOOqYZkRtA\\u002f2Wva7qHh0D9zJ2vxywPSPxs2B5Gd0tI\\u002fuUAPZ16n0j9JljKOYXbSP\\u002fdLC5\\u002ftldI\\u002f8\\u002frBDBPH0j9az2CznxnSPxnqeAGIM9I\\u002fWsnQJPIn0j800oegV6LSPyzTQGfm\\u002f9I\\u002fAE38pXHN0T\\u002fkILoeU7zRPwFkAYMOQtE\\u002f6N17en7Y0T\\u002fDbsvzI9DRPzpZOrg\\u002fM9I\\u002fOXBcGvvz0T9FTIUPqLLRP4QbJ06nv9E\\u002f05cSLttd0T8hVjxd9BPRP6LxCobVsNA\\u002fySGBjaMC0T89Uqi4T0vRP0NSI\\u002fvvQ9E\\u002fCLYRQw8J0T8ZHEUmgm\\u002fRP9mMvvBuWtE\\u002f2e1HJfhN0T+CUS\\u002f+ofzQP6I2z8sVt9A\\u002f6WWYdQkl0D\\u002fU0L7hJenQP6LCXfyvtdA\\u002fBolh0t2J0D+YfD6CqojQPwHMKWhjeNA\\u002fT505zIuD0D+DqXSqA3PQPx9aXRypYdA\\u002fM65lKq2E0D974CEAknvQP0xoL6G9hM8\\u002fwX0iBk4H0D9O5bmO+m3PPxwstdXJyM8\\u002fJWpqYSwDzz8NFD1l50\\u002fOP8HRs2JFxM8\\u002fK+NFnjZA0D8IOj2UoeXPP5G+\\u002f\\u002fE5Lc8\\u002ftqlQO39r0D82Hj0hhWvQPwfp8oh8e9A\\u002f3xbg4+9Z0D+ePy8d3eXQP5\\u002fRTNFIg9A\\u002fuVPhJ3\\u002f90D99wc1d1O\\u002fQP6+KUElUV9A\\u002f5GQJOPm20D9YOz6MIK7QP1yNm1CloNA\\u002fxqstd8Fx0D98qs3+s3zQP9X+cDjI0tA\\u002ff7wCAJZB0D+S2fD3QUXQP\\u002frYxSKcftA\\u002f4TpGxsZb0D9AgaFf7V3QPwrNFFsS+NA\\u002fYPzo3zNE0T9n6fd2vw7RP0rAAczWP9E\\u002f9C9X7lwN0T+rJM7yTAPRP\\u002fIHQbFAVdE\\u002fEr6ViaFJ0T9iRVKMX93QP2maCS+KvdA\\u002ftNMdY+vj0D+SQ5AzUgbRP+GuWLIL69A\\u002f2zom0\\u002fU40T8z88FVGCbRP7flZLIz3tA\\u002fSHoS9ijI0D9IqPYl3HHQP7x232YJU9A\\u002f4T3N9HlD0D\\u002fH3sa1\\u002fDLQP9VzIGYmENA\\u002fZMhMQttB0D\\u002feBO4AplDQP+FYpPSdSdA\\u002fT9l7mkmvzz8uhblmWR\\u002fQP93sGTHCO88\\u002fwv9OjKI1zz+v\\u002fV9u4v\\u002fOPwy64QD7xs8\\u002fuHjU964czz8=\"},\"yaxis\":\"y\",\"type\":\"scatter\"}],                        {\"template\":{\"data\":{\"histogram2dcontour\":[{\"type\":\"histogram2dcontour\",\"colorbar\":{\"outlinewidth\":0,\"ticks\":\"\"},\"colorscale\":[[0.0,\"#0d0887\"],[0.1111111111111111,\"#46039f\"],[0.2222222222222222,\"#7201a8\"],[0.3333333333333333,\"#9c179e\"],[0.4444444444444444,\"#bd3786\"],[0.5555555555555556,\"#d8576b\"],[0.6666666666666666,\"#ed7953\"],[0.7777777777777778,\"#fb9f3a\"],[0.8888888888888888,\"#fdca26\"],[1.0,\"#f0f921\"]]}],\"choropleth\":[{\"type\":\"choropleth\",\"colorbar\":{\"outlinewidth\":0,\"ticks\":\"\"}}],\"histogram2d\":[{\"type\":\"histogram2d\",\"colorbar\":{\"outlinewidth\":0,\"ticks\":\"\"},\"colorscale\":[[0.0,\"#0d0887\"],[0.1111111111111111,\"#46039f\"],[0.2222222222222222,\"#7201a8\"],[0.3333333333333333,\"#9c179e\"],[0.4444444444444444,\"#bd3786\"],[0.5555555555555556,\"#d8576b\"],[0.6666666666666666,\"#ed7953\"],[0.7777777777777778,\"#fb9f3a\"],[0.8888888888888888,\"#fdca26\"],[1.0,\"#f0f921\"]]}],\"heatmap\":[{\"type\":\"heatmap\",\"colorbar\":{\"outlinewidth\":0,\"ticks\":\"\"},\"colorscale\":[[0.0,\"#0d0887\"],[0.1111111111111111,\"#46039f\"],[0.2222222222222222,\"#7201a8\"],[0.3333333333333333,\"#9c179e\"],[0.4444444444444444,\"#bd3786\"],[0.5555555555555556,\"#d8576b\"],[0.6666666666666666,\"#ed7953\"],[0.7777777777777778,\"#fb9f3a\"],[0.8888888888888888,\"#fdca26\"],[1.0,\"#f0f921\"]]}],\"contourcarpet\":[{\"type\":\"contourcarpet\",\"colorbar\":{\"outlinewidth\":0,\"ticks\":\"\"}}],\"contour\":[{\"type\":\"contour\",\"colorbar\":{\"outlinewidth\":0,\"ticks\":\"\"},\"colorscale\":[[0.0,\"#0d0887\"],[0.1111111111111111,\"#46039f\"],[0.2222222222222222,\"#7201a8\"],[0.3333333333333333,\"#9c179e\"],[0.4444444444444444,\"#bd3786\"],[0.5555555555555556,\"#d8576b\"],[0.6666666666666666,\"#ed7953\"],[0.7777777777777778,\"#fb9f3a\"],[0.8888888888888888,\"#fdca26\"],[1.0,\"#f0f921\"]]}],\"surface\":[{\"type\":\"surface\",\"colorbar\":{\"outlinewidth\":0,\"ticks\":\"\"},\"colorscale\":[[0.0,\"#0d0887\"],[0.1111111111111111,\"#46039f\"],[0.2222222222222222,\"#7201a8\"],[0.3333333333333333,\"#9c179e\"],[0.4444444444444444,\"#bd3786\"],[0.5555555555555556,\"#d8576b\"],[0.6666666666666666,\"#ed7953\"],[0.7777777777777778,\"#fb9f3a\"],[0.8888888888888888,\"#fdca26\"],[1.0,\"#f0f921\"]]}],\"mesh3d\":[{\"type\":\"mesh3d\",\"colorbar\":{\"outlinewidth\":0,\"ticks\":\"\"}}],\"scatter\":[{\"fillpattern\":{\"fillmode\":\"overlay\",\"size\":10,\"solidity\":0.2},\"type\":\"scatter\"}],\"parcoords\":[{\"type\":\"parcoords\",\"line\":{\"colorbar\":{\"outlinewidth\":0,\"ticks\":\"\"}}}],\"scatterpolargl\":[{\"type\":\"scatterpolargl\",\"marker\":{\"colorbar\":{\"outlinewidth\":0,\"ticks\":\"\"}}}],\"bar\":[{\"error_x\":{\"color\":\"#2a3f5f\"},\"error_y\":{\"color\":\"#2a3f5f\"},\"marker\":{\"line\":{\"color\":\"#E5ECF6\",\"width\":0.5},\"pattern\":{\"fillmode\":\"overlay\",\"size\":10,\"solidity\":0.2}},\"type\":\"bar\"}],\"scattergeo\":[{\"type\":\"scattergeo\",\"marker\":{\"colorbar\":{\"outlinewidth\":0,\"ticks\":\"\"}}}],\"scatterpolar\":[{\"type\":\"scatterpolar\",\"marker\":{\"colorbar\":{\"outlinewidth\":0,\"ticks\":\"\"}}}],\"histogram\":[{\"marker\":{\"pattern\":{\"fillmode\":\"overlay\",\"size\":10,\"solidity\":0.2}},\"type\":\"histogram\"}],\"scattergl\":[{\"type\":\"scattergl\",\"marker\":{\"colorbar\":{\"outlinewidth\":0,\"ticks\":\"\"}}}],\"scatter3d\":[{\"type\":\"scatter3d\",\"line\":{\"colorbar\":{\"outlinewidth\":0,\"ticks\":\"\"}},\"marker\":{\"colorbar\":{\"outlinewidth\":0,\"ticks\":\"\"}}}],\"scattermap\":[{\"type\":\"scattermap\",\"marker\":{\"colorbar\":{\"outlinewidth\":0,\"ticks\":\"\"}}}],\"scattermapbox\":[{\"type\":\"scattermapbox\",\"marker\":{\"colorbar\":{\"outlinewidth\":0,\"ticks\":\"\"}}}],\"scatterternary\":[{\"type\":\"scatterternary\",\"marker\":{\"colorbar\":{\"outlinewidth\":0,\"ticks\":\"\"}}}],\"scattercarpet\":[{\"type\":\"scattercarpet\",\"marker\":{\"colorbar\":{\"outlinewidth\":0,\"ticks\":\"\"}}}],\"carpet\":[{\"aaxis\":{\"endlinecolor\":\"#2a3f5f\",\"gridcolor\":\"white\",\"linecolor\":\"white\",\"minorgridcolor\":\"white\",\"startlinecolor\":\"#2a3f5f\"},\"baxis\":{\"endlinecolor\":\"#2a3f5f\",\"gridcolor\":\"white\",\"linecolor\":\"white\",\"minorgridcolor\":\"white\",\"startlinecolor\":\"#2a3f5f\"},\"type\":\"carpet\"}],\"table\":[{\"cells\":{\"fill\":{\"color\":\"#EBF0F8\"},\"line\":{\"color\":\"white\"}},\"header\":{\"fill\":{\"color\":\"#C8D4E3\"},\"line\":{\"color\":\"white\"}},\"type\":\"table\"}],\"barpolar\":[{\"marker\":{\"line\":{\"color\":\"#E5ECF6\",\"width\":0.5},\"pattern\":{\"fillmode\":\"overlay\",\"size\":10,\"solidity\":0.2}},\"type\":\"barpolar\"}],\"pie\":[{\"automargin\":true,\"type\":\"pie\"}]},\"layout\":{\"autotypenumbers\":\"strict\",\"colorway\":[\"#636efa\",\"#EF553B\",\"#00cc96\",\"#ab63fa\",\"#FFA15A\",\"#19d3f3\",\"#FF6692\",\"#B6E880\",\"#FF97FF\",\"#FECB52\"],\"font\":{\"color\":\"#2a3f5f\"},\"hovermode\":\"closest\",\"hoverlabel\":{\"align\":\"left\"},\"paper_bgcolor\":\"white\",\"plot_bgcolor\":\"#E5ECF6\",\"polar\":{\"bgcolor\":\"#E5ECF6\",\"angularaxis\":{\"gridcolor\":\"white\",\"linecolor\":\"white\",\"ticks\":\"\"},\"radialaxis\":{\"gridcolor\":\"white\",\"linecolor\":\"white\",\"ticks\":\"\"}},\"ternary\":{\"bgcolor\":\"#E5ECF6\",\"aaxis\":{\"gridcolor\":\"white\",\"linecolor\":\"white\",\"ticks\":\"\"},\"baxis\":{\"gridcolor\":\"white\",\"linecolor\":\"white\",\"ticks\":\"\"},\"caxis\":{\"gridcolor\":\"white\",\"linecolor\":\"white\",\"ticks\":\"\"}},\"coloraxis\":{\"colorbar\":{\"outlinewidth\":0,\"ticks\":\"\"}},\"colorscale\":{\"sequential\":[[0.0,\"#0d0887\"],[0.1111111111111111,\"#46039f\"],[0.2222222222222222,\"#7201a8\"],[0.3333333333333333,\"#9c179e\"],[0.4444444444444444,\"#bd3786\"],[0.5555555555555556,\"#d8576b\"],[0.6666666666666666,\"#ed7953\"],[0.7777777777777778,\"#fb9f3a\"],[0.8888888888888888,\"#fdca26\"],[1.0,\"#f0f921\"]],\"sequentialminus\":[[0.0,\"#0d0887\"],[0.1111111111111111,\"#46039f\"],[0.2222222222222222,\"#7201a8\"],[0.3333333333333333,\"#9c179e\"],[0.4444444444444444,\"#bd3786\"],[0.5555555555555556,\"#d8576b\"],[0.6666666666666666,\"#ed7953\"],[0.7777777777777778,\"#fb9f3a\"],[0.8888888888888888,\"#fdca26\"],[1.0,\"#f0f921\"]],\"diverging\":[[0,\"#8e0152\"],[0.1,\"#c51b7d\"],[0.2,\"#de77ae\"],[0.3,\"#f1b6da\"],[0.4,\"#fde0ef\"],[0.5,\"#f7f7f7\"],[0.6,\"#e6f5d0\"],[0.7,\"#b8e186\"],[0.8,\"#7fbc41\"],[0.9,\"#4d9221\"],[1,\"#276419\"]]},\"xaxis\":{\"gridcolor\":\"white\",\"linecolor\":\"white\",\"ticks\":\"\",\"title\":{\"standoff\":15},\"zerolinecolor\":\"white\",\"automargin\":true,\"zerolinewidth\":2},\"yaxis\":{\"gridcolor\":\"white\",\"linecolor\":\"white\",\"ticks\":\"\",\"title\":{\"standoff\":15},\"zerolinecolor\":\"white\",\"automargin\":true,\"zerolinewidth\":2},\"scene\":{\"xaxis\":{\"backgroundcolor\":\"#E5ECF6\",\"gridcolor\":\"white\",\"linecolor\":\"white\",\"showbackground\":true,\"ticks\":\"\",\"zerolinecolor\":\"white\",\"gridwidth\":2},\"yaxis\":{\"backgroundcolor\":\"#E5ECF6\",\"gridcolor\":\"white\",\"linecolor\":\"white\",\"showbackground\":true,\"ticks\":\"\",\"zerolinecolor\":\"white\",\"gridwidth\":2},\"zaxis\":{\"backgroundcolor\":\"#E5ECF6\",\"gridcolor\":\"white\",\"linecolor\":\"white\",\"showbackground\":true,\"ticks\":\"\",\"zerolinecolor\":\"white\",\"gridwidth\":2}},\"shapedefaults\":{\"line\":{\"color\":\"#2a3f5f\"}},\"annotationdefaults\":{\"arrowcolor\":\"#2a3f5f\",\"arrowhead\":0,\"arrowwidth\":1},\"geo\":{\"bgcolor\":\"white\",\"landcolor\":\"#E5ECF6\",\"subunitcolor\":\"white\",\"showland\":true,\"showlakes\":true,\"lakecolor\":\"white\"},\"title\":{\"x\":0.05},\"mapbox\":{\"style\":\"light\"}}},\"xaxis\":{\"anchor\":\"y\",\"domain\":[0.0,1.0],\"title\":{\"text\":\"year\"}},\"yaxis\":{\"anchor\":\"x\",\"domain\":[0.0,1.0],\"title\":{\"text\":\"avg\"}},\"legend\":{\"tracegroupgap\":0},\"title\":{\"text\":\"League wide batting average per year\"}},                        {\"responsive\": true}                    )                };            </script>        </div>"
      ],
      "text/plain": [
       "Figure({\n",
       "    'data': [{'hovertemplate': 'year=%{x}<br>avg=%{y}<extra></extra>',\n",
       "              'legendgroup': '',\n",
       "              'line': {'color': '#636efa', 'dash': 'solid', 'shape': 'spline'},\n",
       "              'marker': {'symbol': 'circle'},\n",
       "              'mode': 'lines',\n",
       "              'name': '',\n",
       "              'orientation': 'v',\n",
       "              'showlegend': False,\n",
       "              'type': 'scatter',\n",
       "              'x': {'bdata': ('bQcAAG4HAABvBwAAcAcAAHEHAAByBw' ... 'DkBwAA5QcAAOYHAADnBwAA6AcAAA=='),\n",
       "                    'dtype': 'i4'},\n",
       "              'xaxis': 'x',\n",
       "              'y': {'bdata': ('t/H5kUtg0T+UXhC0vBvRP8Hqo+mTw9' ... '9u4v/OPwy64QD7xs8/uHjU964czz8='),\n",
       "                    'dtype': 'f8'},\n",
       "              'yaxis': 'y'}],\n",
       "    'layout': {'legend': {'tracegroupgap': 0},\n",
       "               'template': '...',\n",
       "               'title': {'text': 'League wide batting average per year'},\n",
       "               'xaxis': {'anchor': 'y', 'domain': [0.0, 1.0], 'title': {'text': 'year'}},\n",
       "               'yaxis': {'anchor': 'x', 'domain': [0.0, 1.0], 'title': {'text': 'avg'}}}\n",
       "})"
      ]
     },
     "execution_count": 15,
     "metadata": {},
     "output_type": "execute_result"
    }
   ],
   "source": [
    "# Visualize with plotly\n",
    "import plotly.express as px\n",
    "fig = px.line(df, x=\"year\", y=\"avg\", title=\"League wide batting average per year\", line_shape='spline')\n",
    "fig"
   ]
  },
  {
   "cell_type": "code",
   "execution_count": 29,
   "metadata": {},
   "outputs": [
    {
     "data": {
      "text/html": [
       "<div><style>\n",
       ".dataframe > thead > tr,\n",
       ".dataframe > tbody > tr {\n",
       "  text-align: right;\n",
       "  white-space: pre-wrap;\n",
       "}\n",
       "</style>\n",
       "<small>shape: (57, 4)</small><table border=\"1\" class=\"dataframe\"><thead><tr><th>site</th><th>b_h</th><th>b_ab</th><th>avg</th></tr><tr><td>str</td><td>i64</td><td>i64</td><td>f64</td></tr></thead><tbody><tr><td>&quot;SAN02&quot;</td><td>26743</td><td>112266</td><td>0.238211</td></tr><tr><td>&quot;SEA03&quot;</td><td>33430</td><td>136949</td><td>0.244105</td></tr><tr><td>&quot;LOS03&quot;</td><td>89382</td><td>364881</td><td>0.244962</td></tr><tr><td>&quot;BAL11&quot;</td><td>50292</td><td>204503</td><td>0.245923</td></tr><tr><td>&quot;OAK01&quot;</td><td>76005</td><td>307707</td><td>0.247004</td></tr><tr><td>&hellip;</td><td>&hellip;</td><td>&hellip;</td><td>&hellip;</td></tr><tr><td>&quot;STL07&quot;</td><td>138399</td><td>501233</td><td>0.276117</td></tr><tr><td>&quot;ARL02&quot;</td><td>40702</td><td>146773</td><td>0.277313</td></tr><tr><td>&quot;PHI09&quot;</td><td>57166</td><td>198852</td><td>0.28748</td></tr><tr><td>&quot;CLE06&quot;</td><td>50032</td><td>173064</td><td>0.289095</td></tr><tr><td>&quot;DEN02&quot;</td><td>49668</td><td>168037</td><td>0.295578</td></tr></tbody></table></div>"
      ],
      "text/plain": [
       "shape: (57, 4)\n",
       "┌───────┬────────┬────────┬──────────┐\n",
       "│ site  ┆ b_h    ┆ b_ab   ┆ avg      │\n",
       "│ ---   ┆ ---    ┆ ---    ┆ ---      │\n",
       "│ str   ┆ i64    ┆ i64    ┆ f64      │\n",
       "╞═══════╪════════╪════════╪══════════╡\n",
       "│ SAN02 ┆ 26743  ┆ 112266 ┆ 0.238211 │\n",
       "│ SEA03 ┆ 33430  ┆ 136949 ┆ 0.244105 │\n",
       "│ LOS03 ┆ 89382  ┆ 364881 ┆ 0.244962 │\n",
       "│ BAL11 ┆ 50292  ┆ 204503 ┆ 0.245923 │\n",
       "│ OAK01 ┆ 76005  ┆ 307707 ┆ 0.247004 │\n",
       "│ …     ┆ …      ┆ …      ┆ …        │\n",
       "│ STL07 ┆ 138399 ┆ 501233 ┆ 0.276117 │\n",
       "│ ARL02 ┆ 40702  ┆ 146773 ┆ 0.277313 │\n",
       "│ PHI09 ┆ 57166  ┆ 198852 ┆ 0.28748  │\n",
       "│ CLE06 ┆ 50032  ┆ 173064 ┆ 0.289095 │\n",
       "│ DEN02 ┆ 49668  ┆ 168037 ┆ 0.295578 │\n",
       "└───────┴────────┴────────┴──────────┘"
      ]
     },
     "execution_count": 29,
     "metadata": {},
     "output_type": "execute_result"
    }
   ],
   "source": [
    "# Stadium differences\n",
    "stadium = (\n",
    "    batting\n",
    "    .group_by(\"site\")\n",
    "    .agg(pl.col(\"b_h\").sum(), pl.col(\"b_ab\").sum())\n",
    "    .with_columns((pl.col(\"b_h\") / pl.col(\"b_ab\")).alias(\"avg\"))\n",
    "    .filter(pl.col(\"b_ab\") > 100000)\n",
    "    .sort(\"avg\")\n",
    "    .collect()\n",
    ")\n",
    "stadium"
   ]
  },
  {
   "cell_type": "code",
   "execution_count": 30,
   "metadata": {},
   "outputs": [
    {
     "ename": "ValueError",
     "evalue": "Mime type rendering requires nbformat>=4.2.0 but it is not installed",
     "output_type": "error",
     "traceback": [
      "\u001b[31m---------------------------------------------------------------------------\u001b[39m",
      "\u001b[31mValueError\u001b[39m                                Traceback (most recent call last)",
      "\u001b[36mFile \u001b[39m\u001b[32m~/github/baseball/.venv/lib/python3.12/site-packages/IPython/core/formatters.py:984\u001b[39m, in \u001b[36mIPythonDisplayFormatter.__call__\u001b[39m\u001b[34m(self, obj)\u001b[39m\n\u001b[32m    982\u001b[39m method = get_real_method(obj, \u001b[38;5;28mself\u001b[39m.print_method)\n\u001b[32m    983\u001b[39m \u001b[38;5;28;01mif\u001b[39;00m method \u001b[38;5;129;01mis\u001b[39;00m \u001b[38;5;129;01mnot\u001b[39;00m \u001b[38;5;28;01mNone\u001b[39;00m:\n\u001b[32m--> \u001b[39m\u001b[32m984\u001b[39m     \u001b[43mmethod\u001b[49m\u001b[43m(\u001b[49m\u001b[43m)\u001b[49m\n\u001b[32m    985\u001b[39m     \u001b[38;5;28;01mreturn\u001b[39;00m \u001b[38;5;28;01mTrue\u001b[39;00m\n",
      "\u001b[36mFile \u001b[39m\u001b[32m~/github/baseball/.venv/lib/python3.12/site-packages/plotly/basedatatypes.py:833\u001b[39m, in \u001b[36mBaseFigure._ipython_display_\u001b[39m\u001b[34m(self)\u001b[39m\n\u001b[32m    830\u001b[39m \u001b[38;5;28;01mimport\u001b[39;00m\u001b[38;5;250m \u001b[39m\u001b[34;01mplotly\u001b[39;00m\u001b[34;01m.\u001b[39;00m\u001b[34;01mio\u001b[39;00m\u001b[38;5;250m \u001b[39m\u001b[38;5;28;01mas\u001b[39;00m\u001b[38;5;250m \u001b[39m\u001b[34;01mpio\u001b[39;00m\n\u001b[32m    832\u001b[39m \u001b[38;5;28;01mif\u001b[39;00m pio.renderers.render_on_display \u001b[38;5;129;01mand\u001b[39;00m pio.renderers.default:\n\u001b[32m--> \u001b[39m\u001b[32m833\u001b[39m     \u001b[43mpio\u001b[49m\u001b[43m.\u001b[49m\u001b[43mshow\u001b[49m\u001b[43m(\u001b[49m\u001b[38;5;28;43mself\u001b[39;49m\u001b[43m)\u001b[49m\n\u001b[32m    834\u001b[39m \u001b[38;5;28;01melse\u001b[39;00m:\n\u001b[32m    835\u001b[39m     \u001b[38;5;28mprint\u001b[39m(\u001b[38;5;28mrepr\u001b[39m(\u001b[38;5;28mself\u001b[39m))\n",
      "\u001b[36mFile \u001b[39m\u001b[32m~/github/baseball/.venv/lib/python3.12/site-packages/plotly/io/_renderers.py:425\u001b[39m, in \u001b[36mshow\u001b[39m\u001b[34m(fig, renderer, validate, **kwargs)\u001b[39m\n\u001b[32m    420\u001b[39m     \u001b[38;5;28;01mraise\u001b[39;00m \u001b[38;5;167;01mValueError\u001b[39;00m(\n\u001b[32m    421\u001b[39m         \u001b[33m\"\u001b[39m\u001b[33mMime type rendering requires ipython but it is not installed\u001b[39m\u001b[33m\"\u001b[39m\n\u001b[32m    422\u001b[39m     )\n\u001b[32m    424\u001b[39m \u001b[38;5;28;01mif\u001b[39;00m \u001b[38;5;129;01mnot\u001b[39;00m nbformat \u001b[38;5;129;01mor\u001b[39;00m Version(nbformat.__version__) < Version(\u001b[33m\"\u001b[39m\u001b[33m4.2.0\u001b[39m\u001b[33m\"\u001b[39m):\n\u001b[32m--> \u001b[39m\u001b[32m425\u001b[39m     \u001b[38;5;28;01mraise\u001b[39;00m \u001b[38;5;167;01mValueError\u001b[39;00m(\n\u001b[32m    426\u001b[39m         \u001b[33m\"\u001b[39m\u001b[33mMime type rendering requires nbformat>=4.2.0 but it is not installed\u001b[39m\u001b[33m\"\u001b[39m\n\u001b[32m    427\u001b[39m     )\n\u001b[32m    429\u001b[39m display_jupyter_version_warnings()\n\u001b[32m    431\u001b[39m ipython_display.display(bundle, raw=\u001b[38;5;28;01mTrue\u001b[39;00m)\n",
      "\u001b[31mValueError\u001b[39m: Mime type rendering requires nbformat>=4.2.0 but it is not installed"
     ]
    },
    {
     "data": {
      "application/vnd.plotly.v1+json": {
       "config": {
        "plotlyServerURL": "https://plot.ly"
       },
       "data": [
        {
         "hovertemplate": "avg=%{x}<br>site=%{y}<extra></extra>",
         "legendgroup": "",
         "marker": {
          "color": "#636efa",
          "pattern": {
           "shape": ""
          }
         },
         "name": "",
         "orientation": "h",
         "showlegend": false,
         "textposition": "auto",
         "type": "bar",
         "x": {
          "bdata": "G65g/bJ9zj+9FQoZ2T7PP3dA56nqWs8/gOrZAGh6zz+W1z+N153PP7oHXrojwc8/5a7Qy9rOzz/sZQFVydDPP1WU56z65c8/UYuYvN7rzz92BValLxDQP1rYwZX3HNA/NDxDKtI30D+pOMEe6zzQP1sdyNZMPtA/8guymns+0D8tLMNuHD/QP/hyV/U3SdA/SBzloNZV0D+jhnqFI13QPxPj8Co9b9A/vPAgAuh00D8o9cKGI4PQP+8ak9xJhNA/VKqZ8KqH0D9LAJ++rYjQPwn1puqAi9A/Sz7QV+eS0D+xcAnzspXQP08bZRZqmtA/eHSxsRyi0D+6N/LLBKPQP8x+y7X3pNA/6qkB8km30D8S6oNJCr3QP5YhHUddwtA/019u1PrD0D/LckPAS8bQP9O4f48FytA/wZRarBTX0D8Uzxfhz9nQP5KCy0qI39A/XYGFX+jz0D9nw/wGt/3QP7NzGd5uANE/eF1pjIQC0T+LCDa8dwTRPy2luxLpGtE/30mX7VxB0T8VqJYLE3vRP6FeAh/rfdE/woFLILh+0T+I43sJ56vRP7p6jkh9v9E/2k2SFRNm0j/m8PvWiYDSP92Oyvq+6tI/",
          "dtype": "f8"
         },
         "xaxis": "x",
         "y": [
          "SAN02",
          "SEA03",
          "LOS03",
          "BAL11",
          "OAK01",
          "HOU02",
          "NYC17",
          "STP01",
          "SFO02",
          "MIL06",
          "SAN01",
          "SFO03",
          "HOU03",
          "STL10",
          "CLE07",
          "ANA01",
          "PHI13",
          "MON02",
          "CIN09",
          "KAN05",
          "ATL02",
          "PHI12",
          "CIN08",
          "PIT08",
          "MIL05",
          "NYC16",
          "MIA01",
          "TOR02",
          "CHI12",
          "STL09",
          "ARL01",
          "PIT07",
          "MIN02",
          "CLE08",
          "ATL01",
          "PHO01",
          "NYC14",
          "BOS08",
          "CHI10",
          "CHI11",
          "BAL12",
          "DET05",
          "SEA02",
          "PHI11",
          "CIN07",
          "DET04",
          "NYC15",
          "WAS09",
          "KAN06",
          "PIT06",
          "BOS07",
          "MIN03",
          "STL07",
          "ARL02",
          "PHI09",
          "CLE06",
          "DEN02"
         ],
         "yaxis": "y"
        }
       ],
       "layout": {
        "barmode": "relative",
        "legend": {
         "tracegroupgap": 0
        },
        "template": {
         "data": {
          "bar": [
           {
            "error_x": {
             "color": "#2a3f5f"
            },
            "error_y": {
             "color": "#2a3f5f"
            },
            "marker": {
             "line": {
              "color": "#E5ECF6",
              "width": 0.5
             },
             "pattern": {
              "fillmode": "overlay",
              "size": 10,
              "solidity": 0.2
             }
            },
            "type": "bar"
           }
          ],
          "barpolar": [
           {
            "marker": {
             "line": {
              "color": "#E5ECF6",
              "width": 0.5
             },
             "pattern": {
              "fillmode": "overlay",
              "size": 10,
              "solidity": 0.2
             }
            },
            "type": "barpolar"
           }
          ],
          "carpet": [
           {
            "aaxis": {
             "endlinecolor": "#2a3f5f",
             "gridcolor": "white",
             "linecolor": "white",
             "minorgridcolor": "white",
             "startlinecolor": "#2a3f5f"
            },
            "baxis": {
             "endlinecolor": "#2a3f5f",
             "gridcolor": "white",
             "linecolor": "white",
             "minorgridcolor": "white",
             "startlinecolor": "#2a3f5f"
            },
            "type": "carpet"
           }
          ],
          "choropleth": [
           {
            "colorbar": {
             "outlinewidth": 0,
             "ticks": ""
            },
            "type": "choropleth"
           }
          ],
          "contour": [
           {
            "colorbar": {
             "outlinewidth": 0,
             "ticks": ""
            },
            "colorscale": [
             [
              0,
              "#0d0887"
             ],
             [
              0.1111111111111111,
              "#46039f"
             ],
             [
              0.2222222222222222,
              "#7201a8"
             ],
             [
              0.3333333333333333,
              "#9c179e"
             ],
             [
              0.4444444444444444,
              "#bd3786"
             ],
             [
              0.5555555555555556,
              "#d8576b"
             ],
             [
              0.6666666666666666,
              "#ed7953"
             ],
             [
              0.7777777777777778,
              "#fb9f3a"
             ],
             [
              0.8888888888888888,
              "#fdca26"
             ],
             [
              1,
              "#f0f921"
             ]
            ],
            "type": "contour"
           }
          ],
          "contourcarpet": [
           {
            "colorbar": {
             "outlinewidth": 0,
             "ticks": ""
            },
            "type": "contourcarpet"
           }
          ],
          "heatmap": [
           {
            "colorbar": {
             "outlinewidth": 0,
             "ticks": ""
            },
            "colorscale": [
             [
              0,
              "#0d0887"
             ],
             [
              0.1111111111111111,
              "#46039f"
             ],
             [
              0.2222222222222222,
              "#7201a8"
             ],
             [
              0.3333333333333333,
              "#9c179e"
             ],
             [
              0.4444444444444444,
              "#bd3786"
             ],
             [
              0.5555555555555556,
              "#d8576b"
             ],
             [
              0.6666666666666666,
              "#ed7953"
             ],
             [
              0.7777777777777778,
              "#fb9f3a"
             ],
             [
              0.8888888888888888,
              "#fdca26"
             ],
             [
              1,
              "#f0f921"
             ]
            ],
            "type": "heatmap"
           }
          ],
          "histogram": [
           {
            "marker": {
             "pattern": {
              "fillmode": "overlay",
              "size": 10,
              "solidity": 0.2
             }
            },
            "type": "histogram"
           }
          ],
          "histogram2d": [
           {
            "colorbar": {
             "outlinewidth": 0,
             "ticks": ""
            },
            "colorscale": [
             [
              0,
              "#0d0887"
             ],
             [
              0.1111111111111111,
              "#46039f"
             ],
             [
              0.2222222222222222,
              "#7201a8"
             ],
             [
              0.3333333333333333,
              "#9c179e"
             ],
             [
              0.4444444444444444,
              "#bd3786"
             ],
             [
              0.5555555555555556,
              "#d8576b"
             ],
             [
              0.6666666666666666,
              "#ed7953"
             ],
             [
              0.7777777777777778,
              "#fb9f3a"
             ],
             [
              0.8888888888888888,
              "#fdca26"
             ],
             [
              1,
              "#f0f921"
             ]
            ],
            "type": "histogram2d"
           }
          ],
          "histogram2dcontour": [
           {
            "colorbar": {
             "outlinewidth": 0,
             "ticks": ""
            },
            "colorscale": [
             [
              0,
              "#0d0887"
             ],
             [
              0.1111111111111111,
              "#46039f"
             ],
             [
              0.2222222222222222,
              "#7201a8"
             ],
             [
              0.3333333333333333,
              "#9c179e"
             ],
             [
              0.4444444444444444,
              "#bd3786"
             ],
             [
              0.5555555555555556,
              "#d8576b"
             ],
             [
              0.6666666666666666,
              "#ed7953"
             ],
             [
              0.7777777777777778,
              "#fb9f3a"
             ],
             [
              0.8888888888888888,
              "#fdca26"
             ],
             [
              1,
              "#f0f921"
             ]
            ],
            "type": "histogram2dcontour"
           }
          ],
          "mesh3d": [
           {
            "colorbar": {
             "outlinewidth": 0,
             "ticks": ""
            },
            "type": "mesh3d"
           }
          ],
          "parcoords": [
           {
            "line": {
             "colorbar": {
              "outlinewidth": 0,
              "ticks": ""
             }
            },
            "type": "parcoords"
           }
          ],
          "pie": [
           {
            "automargin": true,
            "type": "pie"
           }
          ],
          "scatter": [
           {
            "fillpattern": {
             "fillmode": "overlay",
             "size": 10,
             "solidity": 0.2
            },
            "type": "scatter"
           }
          ],
          "scatter3d": [
           {
            "line": {
             "colorbar": {
              "outlinewidth": 0,
              "ticks": ""
             }
            },
            "marker": {
             "colorbar": {
              "outlinewidth": 0,
              "ticks": ""
             }
            },
            "type": "scatter3d"
           }
          ],
          "scattercarpet": [
           {
            "marker": {
             "colorbar": {
              "outlinewidth": 0,
              "ticks": ""
             }
            },
            "type": "scattercarpet"
           }
          ],
          "scattergeo": [
           {
            "marker": {
             "colorbar": {
              "outlinewidth": 0,
              "ticks": ""
             }
            },
            "type": "scattergeo"
           }
          ],
          "scattergl": [
           {
            "marker": {
             "colorbar": {
              "outlinewidth": 0,
              "ticks": ""
             }
            },
            "type": "scattergl"
           }
          ],
          "scattermap": [
           {
            "marker": {
             "colorbar": {
              "outlinewidth": 0,
              "ticks": ""
             }
            },
            "type": "scattermap"
           }
          ],
          "scattermapbox": [
           {
            "marker": {
             "colorbar": {
              "outlinewidth": 0,
              "ticks": ""
             }
            },
            "type": "scattermapbox"
           }
          ],
          "scatterpolar": [
           {
            "marker": {
             "colorbar": {
              "outlinewidth": 0,
              "ticks": ""
             }
            },
            "type": "scatterpolar"
           }
          ],
          "scatterpolargl": [
           {
            "marker": {
             "colorbar": {
              "outlinewidth": 0,
              "ticks": ""
             }
            },
            "type": "scatterpolargl"
           }
          ],
          "scatterternary": [
           {
            "marker": {
             "colorbar": {
              "outlinewidth": 0,
              "ticks": ""
             }
            },
            "type": "scatterternary"
           }
          ],
          "surface": [
           {
            "colorbar": {
             "outlinewidth": 0,
             "ticks": ""
            },
            "colorscale": [
             [
              0,
              "#0d0887"
             ],
             [
              0.1111111111111111,
              "#46039f"
             ],
             [
              0.2222222222222222,
              "#7201a8"
             ],
             [
              0.3333333333333333,
              "#9c179e"
             ],
             [
              0.4444444444444444,
              "#bd3786"
             ],
             [
              0.5555555555555556,
              "#d8576b"
             ],
             [
              0.6666666666666666,
              "#ed7953"
             ],
             [
              0.7777777777777778,
              "#fb9f3a"
             ],
             [
              0.8888888888888888,
              "#fdca26"
             ],
             [
              1,
              "#f0f921"
             ]
            ],
            "type": "surface"
           }
          ],
          "table": [
           {
            "cells": {
             "fill": {
              "color": "#EBF0F8"
             },
             "line": {
              "color": "white"
             }
            },
            "header": {
             "fill": {
              "color": "#C8D4E3"
             },
             "line": {
              "color": "white"
             }
            },
            "type": "table"
           }
          ]
         },
         "layout": {
          "annotationdefaults": {
           "arrowcolor": "#2a3f5f",
           "arrowhead": 0,
           "arrowwidth": 1
          },
          "autotypenumbers": "strict",
          "coloraxis": {
           "colorbar": {
            "outlinewidth": 0,
            "ticks": ""
           }
          },
          "colorscale": {
           "diverging": [
            [
             0,
             "#8e0152"
            ],
            [
             0.1,
             "#c51b7d"
            ],
            [
             0.2,
             "#de77ae"
            ],
            [
             0.3,
             "#f1b6da"
            ],
            [
             0.4,
             "#fde0ef"
            ],
            [
             0.5,
             "#f7f7f7"
            ],
            [
             0.6,
             "#e6f5d0"
            ],
            [
             0.7,
             "#b8e186"
            ],
            [
             0.8,
             "#7fbc41"
            ],
            [
             0.9,
             "#4d9221"
            ],
            [
             1,
             "#276419"
            ]
           ],
           "sequential": [
            [
             0,
             "#0d0887"
            ],
            [
             0.1111111111111111,
             "#46039f"
            ],
            [
             0.2222222222222222,
             "#7201a8"
            ],
            [
             0.3333333333333333,
             "#9c179e"
            ],
            [
             0.4444444444444444,
             "#bd3786"
            ],
            [
             0.5555555555555556,
             "#d8576b"
            ],
            [
             0.6666666666666666,
             "#ed7953"
            ],
            [
             0.7777777777777778,
             "#fb9f3a"
            ],
            [
             0.8888888888888888,
             "#fdca26"
            ],
            [
             1,
             "#f0f921"
            ]
           ],
           "sequentialminus": [
            [
             0,
             "#0d0887"
            ],
            [
             0.1111111111111111,
             "#46039f"
            ],
            [
             0.2222222222222222,
             "#7201a8"
            ],
            [
             0.3333333333333333,
             "#9c179e"
            ],
            [
             0.4444444444444444,
             "#bd3786"
            ],
            [
             0.5555555555555556,
             "#d8576b"
            ],
            [
             0.6666666666666666,
             "#ed7953"
            ],
            [
             0.7777777777777778,
             "#fb9f3a"
            ],
            [
             0.8888888888888888,
             "#fdca26"
            ],
            [
             1,
             "#f0f921"
            ]
           ]
          },
          "colorway": [
           "#636efa",
           "#EF553B",
           "#00cc96",
           "#ab63fa",
           "#FFA15A",
           "#19d3f3",
           "#FF6692",
           "#B6E880",
           "#FF97FF",
           "#FECB52"
          ],
          "font": {
           "color": "#2a3f5f"
          },
          "geo": {
           "bgcolor": "white",
           "lakecolor": "white",
           "landcolor": "#E5ECF6",
           "showlakes": true,
           "showland": true,
           "subunitcolor": "white"
          },
          "hoverlabel": {
           "align": "left"
          },
          "hovermode": "closest",
          "mapbox": {
           "style": "light"
          },
          "paper_bgcolor": "white",
          "plot_bgcolor": "#E5ECF6",
          "polar": {
           "angularaxis": {
            "gridcolor": "white",
            "linecolor": "white",
            "ticks": ""
           },
           "bgcolor": "#E5ECF6",
           "radialaxis": {
            "gridcolor": "white",
            "linecolor": "white",
            "ticks": ""
           }
          },
          "scene": {
           "xaxis": {
            "backgroundcolor": "#E5ECF6",
            "gridcolor": "white",
            "gridwidth": 2,
            "linecolor": "white",
            "showbackground": true,
            "ticks": "",
            "zerolinecolor": "white"
           },
           "yaxis": {
            "backgroundcolor": "#E5ECF6",
            "gridcolor": "white",
            "gridwidth": 2,
            "linecolor": "white",
            "showbackground": true,
            "ticks": "",
            "zerolinecolor": "white"
           },
           "zaxis": {
            "backgroundcolor": "#E5ECF6",
            "gridcolor": "white",
            "gridwidth": 2,
            "linecolor": "white",
            "showbackground": true,
            "ticks": "",
            "zerolinecolor": "white"
           }
          },
          "shapedefaults": {
           "line": {
            "color": "#2a3f5f"
           }
          },
          "ternary": {
           "aaxis": {
            "gridcolor": "white",
            "linecolor": "white",
            "ticks": ""
           },
           "baxis": {
            "gridcolor": "white",
            "linecolor": "white",
            "ticks": ""
           },
           "bgcolor": "#E5ECF6",
           "caxis": {
            "gridcolor": "white",
            "linecolor": "white",
            "ticks": ""
           }
          },
          "title": {
           "x": 0.05
          },
          "xaxis": {
           "automargin": true,
           "gridcolor": "white",
           "linecolor": "white",
           "ticks": "",
           "title": {
            "standoff": 15
           },
           "zerolinecolor": "white",
           "zerolinewidth": 2
          },
          "yaxis": {
           "automargin": true,
           "gridcolor": "white",
           "linecolor": "white",
           "ticks": "",
           "title": {
            "standoff": 15
           },
           "zerolinecolor": "white",
           "zerolinewidth": 2
          }
         }
        },
        "title": {
         "text": "Batting average by stadium"
        },
        "xaxis": {
         "anchor": "y",
         "domain": [
          0,
          1
         ],
         "title": {
          "text": "avg"
         }
        },
        "yaxis": {
         "anchor": "x",
         "domain": [
          0,
          1
         ],
         "title": {
          "text": "site"
         }
        }
       }
      },
      "text/html": [
       "<div>                        <script type=\"text/javascript\">window.PlotlyConfig = {MathJaxConfig: 'local'};</script>\n",
       "        <script charset=\"utf-8\" src=\"https://cdn.plot.ly/plotly-3.0.0.min.js\"></script>                <div id=\"f446d718-ea70-4c29-98ba-88117f9c3744\" class=\"plotly-graph-div\" style=\"height:100%; width:100%;\"></div>            <script type=\"text/javascript\">                window.PLOTLYENV=window.PLOTLYENV || {};                                if (document.getElementById(\"f446d718-ea70-4c29-98ba-88117f9c3744\")) {                    Plotly.newPlot(                        \"f446d718-ea70-4c29-98ba-88117f9c3744\",                        [{\"hovertemplate\":\"avg=%{x}\\u003cbr\\u003esite=%{y}\\u003cextra\\u003e\\u003c\\u002fextra\\u003e\",\"legendgroup\":\"\",\"marker\":{\"color\":\"#636efa\",\"pattern\":{\"shape\":\"\"}},\"name\":\"\",\"orientation\":\"h\",\"showlegend\":false,\"textposition\":\"auto\",\"x\":{\"dtype\":\"f8\",\"bdata\":\"G65g\\u002fbJ9zj+9FQoZ2T7PP3dA56nqWs8\\u002fgOrZAGh6zz+W1z+N153PP7oHXrojwc8\\u002f5a7Qy9rOzz\\u002fsZQFVydDPP1WU56z65c8\\u002fUYuYvN7rzz92BValLxDQP1rYwZX3HNA\\u002fNDxDKtI30D+pOMEe6zzQP1sdyNZMPtA\\u002f8guymns+0D8tLMNuHD\\u002fQP\\u002fhyV\\u002fU3SdA\\u002fSBzloNZV0D+jhnqFI13QPxPj8Co9b9A\\u002fvPAgAuh00D8o9cKGI4PQP+8ak9xJhNA\\u002fVKqZ8KqH0D9LAJ++rYjQPwn1puqAi9A\\u002fSz7QV+eS0D+xcAnzspXQP08bZRZqmtA\\u002feHSxsRyi0D+6N\\u002fLLBKPQP8x+y7X3pNA\\u002f6qkB8km30D8S6oNJCr3QP5YhHUddwtA\\u002f019u1PrD0D\\u002fLckPAS8bQP9O4f48FytA\\u002fwZRarBTX0D8Uzxfhz9nQP5KCy0qI39A\\u002fXYGFX+jz0D9nw\\u002fwGt\\u002f3QP7NzGd5uANE\\u002feF1pjIQC0T+LCDa8dwTRPy2luxLpGtE\\u002f30mX7VxB0T8VqJYLE3vRP6FeAh\\u002frfdE\\u002fwoFLILh+0T+I43sJ56vRP7p6jkh9v9E\\u002f2k2SFRNm0j\\u002fm8PvWiYDSP92Oyvq+6tI\\u002f\"},\"xaxis\":\"x\",\"y\":[\"SAN02\",\"SEA03\",\"LOS03\",\"BAL11\",\"OAK01\",\"HOU02\",\"NYC17\",\"STP01\",\"SFO02\",\"MIL06\",\"SAN01\",\"SFO03\",\"HOU03\",\"STL10\",\"CLE07\",\"ANA01\",\"PHI13\",\"MON02\",\"CIN09\",\"KAN05\",\"ATL02\",\"PHI12\",\"CIN08\",\"PIT08\",\"MIL05\",\"NYC16\",\"MIA01\",\"TOR02\",\"CHI12\",\"STL09\",\"ARL01\",\"PIT07\",\"MIN02\",\"CLE08\",\"ATL01\",\"PHO01\",\"NYC14\",\"BOS08\",\"CHI10\",\"CHI11\",\"BAL12\",\"DET05\",\"SEA02\",\"PHI11\",\"CIN07\",\"DET04\",\"NYC15\",\"WAS09\",\"KAN06\",\"PIT06\",\"BOS07\",\"MIN03\",\"STL07\",\"ARL02\",\"PHI09\",\"CLE06\",\"DEN02\"],\"yaxis\":\"y\",\"type\":\"bar\"}],                        {\"template\":{\"data\":{\"histogram2dcontour\":[{\"type\":\"histogram2dcontour\",\"colorbar\":{\"outlinewidth\":0,\"ticks\":\"\"},\"colorscale\":[[0.0,\"#0d0887\"],[0.1111111111111111,\"#46039f\"],[0.2222222222222222,\"#7201a8\"],[0.3333333333333333,\"#9c179e\"],[0.4444444444444444,\"#bd3786\"],[0.5555555555555556,\"#d8576b\"],[0.6666666666666666,\"#ed7953\"],[0.7777777777777778,\"#fb9f3a\"],[0.8888888888888888,\"#fdca26\"],[1.0,\"#f0f921\"]]}],\"choropleth\":[{\"type\":\"choropleth\",\"colorbar\":{\"outlinewidth\":0,\"ticks\":\"\"}}],\"histogram2d\":[{\"type\":\"histogram2d\",\"colorbar\":{\"outlinewidth\":0,\"ticks\":\"\"},\"colorscale\":[[0.0,\"#0d0887\"],[0.1111111111111111,\"#46039f\"],[0.2222222222222222,\"#7201a8\"],[0.3333333333333333,\"#9c179e\"],[0.4444444444444444,\"#bd3786\"],[0.5555555555555556,\"#d8576b\"],[0.6666666666666666,\"#ed7953\"],[0.7777777777777778,\"#fb9f3a\"],[0.8888888888888888,\"#fdca26\"],[1.0,\"#f0f921\"]]}],\"heatmap\":[{\"type\":\"heatmap\",\"colorbar\":{\"outlinewidth\":0,\"ticks\":\"\"},\"colorscale\":[[0.0,\"#0d0887\"],[0.1111111111111111,\"#46039f\"],[0.2222222222222222,\"#7201a8\"],[0.3333333333333333,\"#9c179e\"],[0.4444444444444444,\"#bd3786\"],[0.5555555555555556,\"#d8576b\"],[0.6666666666666666,\"#ed7953\"],[0.7777777777777778,\"#fb9f3a\"],[0.8888888888888888,\"#fdca26\"],[1.0,\"#f0f921\"]]}],\"contourcarpet\":[{\"type\":\"contourcarpet\",\"colorbar\":{\"outlinewidth\":0,\"ticks\":\"\"}}],\"contour\":[{\"type\":\"contour\",\"colorbar\":{\"outlinewidth\":0,\"ticks\":\"\"},\"colorscale\":[[0.0,\"#0d0887\"],[0.1111111111111111,\"#46039f\"],[0.2222222222222222,\"#7201a8\"],[0.3333333333333333,\"#9c179e\"],[0.4444444444444444,\"#bd3786\"],[0.5555555555555556,\"#d8576b\"],[0.6666666666666666,\"#ed7953\"],[0.7777777777777778,\"#fb9f3a\"],[0.8888888888888888,\"#fdca26\"],[1.0,\"#f0f921\"]]}],\"surface\":[{\"type\":\"surface\",\"colorbar\":{\"outlinewidth\":0,\"ticks\":\"\"},\"colorscale\":[[0.0,\"#0d0887\"],[0.1111111111111111,\"#46039f\"],[0.2222222222222222,\"#7201a8\"],[0.3333333333333333,\"#9c179e\"],[0.4444444444444444,\"#bd3786\"],[0.5555555555555556,\"#d8576b\"],[0.6666666666666666,\"#ed7953\"],[0.7777777777777778,\"#fb9f3a\"],[0.8888888888888888,\"#fdca26\"],[1.0,\"#f0f921\"]]}],\"mesh3d\":[{\"type\":\"mesh3d\",\"colorbar\":{\"outlinewidth\":0,\"ticks\":\"\"}}],\"scatter\":[{\"fillpattern\":{\"fillmode\":\"overlay\",\"size\":10,\"solidity\":0.2},\"type\":\"scatter\"}],\"parcoords\":[{\"type\":\"parcoords\",\"line\":{\"colorbar\":{\"outlinewidth\":0,\"ticks\":\"\"}}}],\"scatterpolargl\":[{\"type\":\"scatterpolargl\",\"marker\":{\"colorbar\":{\"outlinewidth\":0,\"ticks\":\"\"}}}],\"bar\":[{\"error_x\":{\"color\":\"#2a3f5f\"},\"error_y\":{\"color\":\"#2a3f5f\"},\"marker\":{\"line\":{\"color\":\"#E5ECF6\",\"width\":0.5},\"pattern\":{\"fillmode\":\"overlay\",\"size\":10,\"solidity\":0.2}},\"type\":\"bar\"}],\"scattergeo\":[{\"type\":\"scattergeo\",\"marker\":{\"colorbar\":{\"outlinewidth\":0,\"ticks\":\"\"}}}],\"scatterpolar\":[{\"type\":\"scatterpolar\",\"marker\":{\"colorbar\":{\"outlinewidth\":0,\"ticks\":\"\"}}}],\"histogram\":[{\"marker\":{\"pattern\":{\"fillmode\":\"overlay\",\"size\":10,\"solidity\":0.2}},\"type\":\"histogram\"}],\"scattergl\":[{\"type\":\"scattergl\",\"marker\":{\"colorbar\":{\"outlinewidth\":0,\"ticks\":\"\"}}}],\"scatter3d\":[{\"type\":\"scatter3d\",\"line\":{\"colorbar\":{\"outlinewidth\":0,\"ticks\":\"\"}},\"marker\":{\"colorbar\":{\"outlinewidth\":0,\"ticks\":\"\"}}}],\"scattermap\":[{\"type\":\"scattermap\",\"marker\":{\"colorbar\":{\"outlinewidth\":0,\"ticks\":\"\"}}}],\"scattermapbox\":[{\"type\":\"scattermapbox\",\"marker\":{\"colorbar\":{\"outlinewidth\":0,\"ticks\":\"\"}}}],\"scatterternary\":[{\"type\":\"scatterternary\",\"marker\":{\"colorbar\":{\"outlinewidth\":0,\"ticks\":\"\"}}}],\"scattercarpet\":[{\"type\":\"scattercarpet\",\"marker\":{\"colorbar\":{\"outlinewidth\":0,\"ticks\":\"\"}}}],\"carpet\":[{\"aaxis\":{\"endlinecolor\":\"#2a3f5f\",\"gridcolor\":\"white\",\"linecolor\":\"white\",\"minorgridcolor\":\"white\",\"startlinecolor\":\"#2a3f5f\"},\"baxis\":{\"endlinecolor\":\"#2a3f5f\",\"gridcolor\":\"white\",\"linecolor\":\"white\",\"minorgridcolor\":\"white\",\"startlinecolor\":\"#2a3f5f\"},\"type\":\"carpet\"}],\"table\":[{\"cells\":{\"fill\":{\"color\":\"#EBF0F8\"},\"line\":{\"color\":\"white\"}},\"header\":{\"fill\":{\"color\":\"#C8D4E3\"},\"line\":{\"color\":\"white\"}},\"type\":\"table\"}],\"barpolar\":[{\"marker\":{\"line\":{\"color\":\"#E5ECF6\",\"width\":0.5},\"pattern\":{\"fillmode\":\"overlay\",\"size\":10,\"solidity\":0.2}},\"type\":\"barpolar\"}],\"pie\":[{\"automargin\":true,\"type\":\"pie\"}]},\"layout\":{\"autotypenumbers\":\"strict\",\"colorway\":[\"#636efa\",\"#EF553B\",\"#00cc96\",\"#ab63fa\",\"#FFA15A\",\"#19d3f3\",\"#FF6692\",\"#B6E880\",\"#FF97FF\",\"#FECB52\"],\"font\":{\"color\":\"#2a3f5f\"},\"hovermode\":\"closest\",\"hoverlabel\":{\"align\":\"left\"},\"paper_bgcolor\":\"white\",\"plot_bgcolor\":\"#E5ECF6\",\"polar\":{\"bgcolor\":\"#E5ECF6\",\"angularaxis\":{\"gridcolor\":\"white\",\"linecolor\":\"white\",\"ticks\":\"\"},\"radialaxis\":{\"gridcolor\":\"white\",\"linecolor\":\"white\",\"ticks\":\"\"}},\"ternary\":{\"bgcolor\":\"#E5ECF6\",\"aaxis\":{\"gridcolor\":\"white\",\"linecolor\":\"white\",\"ticks\":\"\"},\"baxis\":{\"gridcolor\":\"white\",\"linecolor\":\"white\",\"ticks\":\"\"},\"caxis\":{\"gridcolor\":\"white\",\"linecolor\":\"white\",\"ticks\":\"\"}},\"coloraxis\":{\"colorbar\":{\"outlinewidth\":0,\"ticks\":\"\"}},\"colorscale\":{\"sequential\":[[0.0,\"#0d0887\"],[0.1111111111111111,\"#46039f\"],[0.2222222222222222,\"#7201a8\"],[0.3333333333333333,\"#9c179e\"],[0.4444444444444444,\"#bd3786\"],[0.5555555555555556,\"#d8576b\"],[0.6666666666666666,\"#ed7953\"],[0.7777777777777778,\"#fb9f3a\"],[0.8888888888888888,\"#fdca26\"],[1.0,\"#f0f921\"]],\"sequentialminus\":[[0.0,\"#0d0887\"],[0.1111111111111111,\"#46039f\"],[0.2222222222222222,\"#7201a8\"],[0.3333333333333333,\"#9c179e\"],[0.4444444444444444,\"#bd3786\"],[0.5555555555555556,\"#d8576b\"],[0.6666666666666666,\"#ed7953\"],[0.7777777777777778,\"#fb9f3a\"],[0.8888888888888888,\"#fdca26\"],[1.0,\"#f0f921\"]],\"diverging\":[[0,\"#8e0152\"],[0.1,\"#c51b7d\"],[0.2,\"#de77ae\"],[0.3,\"#f1b6da\"],[0.4,\"#fde0ef\"],[0.5,\"#f7f7f7\"],[0.6,\"#e6f5d0\"],[0.7,\"#b8e186\"],[0.8,\"#7fbc41\"],[0.9,\"#4d9221\"],[1,\"#276419\"]]},\"xaxis\":{\"gridcolor\":\"white\",\"linecolor\":\"white\",\"ticks\":\"\",\"title\":{\"standoff\":15},\"zerolinecolor\":\"white\",\"automargin\":true,\"zerolinewidth\":2},\"yaxis\":{\"gridcolor\":\"white\",\"linecolor\":\"white\",\"ticks\":\"\",\"title\":{\"standoff\":15},\"zerolinecolor\":\"white\",\"automargin\":true,\"zerolinewidth\":2},\"scene\":{\"xaxis\":{\"backgroundcolor\":\"#E5ECF6\",\"gridcolor\":\"white\",\"linecolor\":\"white\",\"showbackground\":true,\"ticks\":\"\",\"zerolinecolor\":\"white\",\"gridwidth\":2},\"yaxis\":{\"backgroundcolor\":\"#E5ECF6\",\"gridcolor\":\"white\",\"linecolor\":\"white\",\"showbackground\":true,\"ticks\":\"\",\"zerolinecolor\":\"white\",\"gridwidth\":2},\"zaxis\":{\"backgroundcolor\":\"#E5ECF6\",\"gridcolor\":\"white\",\"linecolor\":\"white\",\"showbackground\":true,\"ticks\":\"\",\"zerolinecolor\":\"white\",\"gridwidth\":2}},\"shapedefaults\":{\"line\":{\"color\":\"#2a3f5f\"}},\"annotationdefaults\":{\"arrowcolor\":\"#2a3f5f\",\"arrowhead\":0,\"arrowwidth\":1},\"geo\":{\"bgcolor\":\"white\",\"landcolor\":\"#E5ECF6\",\"subunitcolor\":\"white\",\"showland\":true,\"showlakes\":true,\"lakecolor\":\"white\"},\"title\":{\"x\":0.05},\"mapbox\":{\"style\":\"light\"}}},\"xaxis\":{\"anchor\":\"y\",\"domain\":[0.0,1.0],\"title\":{\"text\":\"avg\"}},\"yaxis\":{\"anchor\":\"x\",\"domain\":[0.0,1.0],\"title\":{\"text\":\"site\"}},\"legend\":{\"tracegroupgap\":0},\"title\":{\"text\":\"Batting average by stadium\"},\"barmode\":\"relative\"},                        {\"responsive\": true}                    )                };            </script>        </div>"
      ],
      "text/plain": [
       "Figure({\n",
       "    'data': [{'hovertemplate': 'avg=%{x}<br>site=%{y}<extra></extra>',\n",
       "              'legendgroup': '',\n",
       "              'marker': {'color': '#636efa', 'pattern': {'shape': ''}},\n",
       "              'name': '',\n",
       "              'orientation': 'h',\n",
       "              'showlegend': False,\n",
       "              'textposition': 'auto',\n",
       "              'type': 'bar',\n",
       "              'x': {'bdata': ('G65g/bJ9zj+9FQoZ2T7PP3dA56nqWs' ... '2SFRNm0j/m8PvWiYDSP92Oyvq+6tI/'),\n",
       "                    'dtype': 'f8'},\n",
       "              'xaxis': 'x',\n",
       "              'y': array(['SAN02', 'SEA03', 'LOS03', 'BAL11', 'OAK01', 'HOU02', 'NYC17', 'STP01',\n",
       "                          'SFO02', 'MIL06', 'SAN01', 'SFO03', 'HOU03', 'STL10', 'CLE07', 'ANA01',\n",
       "                          'PHI13', 'MON02', 'CIN09', 'KAN05', 'ATL02', 'PHI12', 'CIN08', 'PIT08',\n",
       "                          'MIL05', 'NYC16', 'MIA01', 'TOR02', 'CHI12', 'STL09', 'ARL01', 'PIT07',\n",
       "                          'MIN02', 'CLE08', 'ATL01', 'PHO01', 'NYC14', 'BOS08', 'CHI10', 'CHI11',\n",
       "                          'BAL12', 'DET05', 'SEA02', 'PHI11', 'CIN07', 'DET04', 'NYC15', 'WAS09',\n",
       "                          'KAN06', 'PIT06', 'BOS07', 'MIN03', 'STL07', 'ARL02', 'PHI09', 'CLE06',\n",
       "                          'DEN02'], dtype=object),\n",
       "              'yaxis': 'y'}],\n",
       "    'layout': {'barmode': 'relative',\n",
       "               'legend': {'tracegroupgap': 0},\n",
       "               'template': '...',\n",
       "               'title': {'text': 'Batting average by stadium'},\n",
       "               'xaxis': {'anchor': 'y', 'domain': [0.0, 1.0], 'title': {'text': 'avg'}},\n",
       "               'yaxis': {'anchor': 'x', 'domain': [0.0, 1.0], 'title': {'text': 'site'}}}\n",
       "})"
      ]
     },
     "execution_count": 30,
     "metadata": {},
     "output_type": "execute_result"
    }
   ],
   "source": [
    "# Visualize with plotly\n",
    "px.bar(stadium, x=\"avg\", y=\"site\", title=\"Batting average by stadium\", orientation='h')"
   ]
  },
  {
   "cell_type": "code",
   "execution_count": null,
   "metadata": {},
   "outputs": [
    {
     "data": {
      "text/html": [
       "<div><style>\n",
       ".dataframe > thead > tr,\n",
       ".dataframe > tbody > tr {\n",
       "  text-align: right;\n",
       "  white-space: pre-wrap;\n",
       "}\n",
       "</style>\n",
       "<small>shape: (17, 5)</small><table border=\"1\" class=\"dataframe\"><thead><tr><th>site</th><th>b_h</th><th>b_ab</th><th>avg</th><th>diff</th></tr><tr><td>str</td><td>i64</td><td>i64</td><td>f64</td><td>f64</td></tr></thead><tbody><tr><td>&quot;SAN02&quot;</td><td>26743</td><td>112266</td><td>0.238211</td><td>-0.02204</td></tr><tr><td>&quot;SEA03&quot;</td><td>33430</td><td>136949</td><td>0.244105</td><td>-0.016145</td></tr><tr><td>&quot;LOS03&quot;</td><td>89382</td><td>364881</td><td>0.244962</td><td>-0.015289</td></tr><tr><td>&quot;BAL11&quot;</td><td>50292</td><td>204503</td><td>0.245923</td><td>-0.014328</td></tr><tr><td>&quot;OAK01&quot;</td><td>76005</td><td>307707</td><td>0.247004</td><td>-0.013246</td></tr><tr><td>&hellip;</td><td>&hellip;</td><td>&hellip;</td><td>&hellip;</td><td>&hellip;</td></tr><tr><td>&quot;STL07&quot;</td><td>138399</td><td>501233</td><td>0.276117</td><td>0.015867</td></tr><tr><td>&quot;ARL02&quot;</td><td>40702</td><td>146773</td><td>0.277313</td><td>0.017062</td></tr><tr><td>&quot;PHI09&quot;</td><td>57166</td><td>198852</td><td>0.28748</td><td>0.02723</td></tr><tr><td>&quot;CLE06&quot;</td><td>50032</td><td>173064</td><td>0.289095</td><td>0.028845</td></tr><tr><td>&quot;DEN02&quot;</td><td>49668</td><td>168037</td><td>0.295578</td><td>0.035327</td></tr></tbody></table></div>"
      ],
      "text/plain": [
       "shape: (17, 5)\n",
       "┌───────┬────────┬────────┬──────────┬───────────┐\n",
       "│ site  ┆ b_h    ┆ b_ab   ┆ avg      ┆ diff      │\n",
       "│ ---   ┆ ---    ┆ ---    ┆ ---      ┆ ---       │\n",
       "│ str   ┆ i64    ┆ i64    ┆ f64      ┆ f64       │\n",
       "╞═══════╪════════╪════════╪══════════╪═══════════╡\n",
       "│ SAN02 ┆ 26743  ┆ 112266 ┆ 0.238211 ┆ -0.02204  │\n",
       "│ SEA03 ┆ 33430  ┆ 136949 ┆ 0.244105 ┆ -0.016145 │\n",
       "│ LOS03 ┆ 89382  ┆ 364881 ┆ 0.244962 ┆ -0.015289 │\n",
       "│ BAL11 ┆ 50292  ┆ 204503 ┆ 0.245923 ┆ -0.014328 │\n",
       "│ OAK01 ┆ 76005  ┆ 307707 ┆ 0.247004 ┆ -0.013246 │\n",
       "│ …     ┆ …      ┆ …      ┆ …        ┆ …         │\n",
       "│ STL07 ┆ 138399 ┆ 501233 ┆ 0.276117 ┆ 0.015867  │\n",
       "│ ARL02 ┆ 40702  ┆ 146773 ┆ 0.277313 ┆ 0.017062  │\n",
       "│ PHI09 ┆ 57166  ┆ 198852 ┆ 0.28748  ┆ 0.02723   │\n",
       "│ CLE06 ┆ 50032  ┆ 173064 ┆ 0.289095 ┆ 0.028845  │\n",
       "│ DEN02 ┆ 49668  ┆ 168037 ┆ 0.295578 ┆ 0.035327  │\n",
       "└───────┴────────┴────────┴──────────┴───────────┘"
      ]
     },
     "execution_count": 33,
     "metadata": {},
     "output_type": "execute_result"
    }
   ],
   "source": [
    "# Stadium differences\n",
    "stadium = (\n",
    "    batting\n",
    "    .group_by(\"site\")\n",
    "    .agg(pl.col(\"b_h\").sum(), pl.col(\"b_ab\").sum())\n",
    "    .with_columns((pl.col(\"b_h\") / pl.col(\"b_ab\")).alias(\"avg\"))\n",
    "    .filter(pl.col(\"b_ab\") > 100000)\n",
    "    # Get an average of all the stadiums\n",
    "    .with_columns((pl.col(\"avg\") - pl.col(\"avg\").mean()).alias(\"diff\"))\n",
    "    # Get the best and worst stadiums\n",
    "    .filter((pl.col(\"diff\") > pl.col(\"diff\").mean() + pl.col(\"diff\").std()) | (pl.col(\"diff\") < pl.col(\"diff\").mean() - pl.col(\"diff\").std()))\n",
    "    .sort(\"avg\")\n",
    "    .collect()\n",
    ")\n",
    "stadium"
   ]
  },
  {
   "cell_type": "code",
   "execution_count": 39,
   "metadata": {},
   "outputs": [
    {
     "ename": "ValueError",
     "evalue": "Mime type rendering requires nbformat>=4.2.0 but it is not installed",
     "output_type": "error",
     "traceback": [
      "\u001b[31m---------------------------------------------------------------------------\u001b[39m",
      "\u001b[31mValueError\u001b[39m                                Traceback (most recent call last)",
      "\u001b[36mFile \u001b[39m\u001b[32m~/github/baseball/.venv/lib/python3.12/site-packages/IPython/core/formatters.py:984\u001b[39m, in \u001b[36mIPythonDisplayFormatter.__call__\u001b[39m\u001b[34m(self, obj)\u001b[39m\n\u001b[32m    982\u001b[39m method = get_real_method(obj, \u001b[38;5;28mself\u001b[39m.print_method)\n\u001b[32m    983\u001b[39m \u001b[38;5;28;01mif\u001b[39;00m method \u001b[38;5;129;01mis\u001b[39;00m \u001b[38;5;129;01mnot\u001b[39;00m \u001b[38;5;28;01mNone\u001b[39;00m:\n\u001b[32m--> \u001b[39m\u001b[32m984\u001b[39m     \u001b[43mmethod\u001b[49m\u001b[43m(\u001b[49m\u001b[43m)\u001b[49m\n\u001b[32m    985\u001b[39m     \u001b[38;5;28;01mreturn\u001b[39;00m \u001b[38;5;28;01mTrue\u001b[39;00m\n",
      "\u001b[36mFile \u001b[39m\u001b[32m~/github/baseball/.venv/lib/python3.12/site-packages/plotly/basedatatypes.py:833\u001b[39m, in \u001b[36mBaseFigure._ipython_display_\u001b[39m\u001b[34m(self)\u001b[39m\n\u001b[32m    830\u001b[39m \u001b[38;5;28;01mimport\u001b[39;00m\u001b[38;5;250m \u001b[39m\u001b[34;01mplotly\u001b[39;00m\u001b[34;01m.\u001b[39;00m\u001b[34;01mio\u001b[39;00m\u001b[38;5;250m \u001b[39m\u001b[38;5;28;01mas\u001b[39;00m\u001b[38;5;250m \u001b[39m\u001b[34;01mpio\u001b[39;00m\n\u001b[32m    832\u001b[39m \u001b[38;5;28;01mif\u001b[39;00m pio.renderers.render_on_display \u001b[38;5;129;01mand\u001b[39;00m pio.renderers.default:\n\u001b[32m--> \u001b[39m\u001b[32m833\u001b[39m     \u001b[43mpio\u001b[49m\u001b[43m.\u001b[49m\u001b[43mshow\u001b[49m\u001b[43m(\u001b[49m\u001b[38;5;28;43mself\u001b[39;49m\u001b[43m)\u001b[49m\n\u001b[32m    834\u001b[39m \u001b[38;5;28;01melse\u001b[39;00m:\n\u001b[32m    835\u001b[39m     \u001b[38;5;28mprint\u001b[39m(\u001b[38;5;28mrepr\u001b[39m(\u001b[38;5;28mself\u001b[39m))\n",
      "\u001b[36mFile \u001b[39m\u001b[32m~/github/baseball/.venv/lib/python3.12/site-packages/plotly/io/_renderers.py:425\u001b[39m, in \u001b[36mshow\u001b[39m\u001b[34m(fig, renderer, validate, **kwargs)\u001b[39m\n\u001b[32m    420\u001b[39m     \u001b[38;5;28;01mraise\u001b[39;00m \u001b[38;5;167;01mValueError\u001b[39;00m(\n\u001b[32m    421\u001b[39m         \u001b[33m\"\u001b[39m\u001b[33mMime type rendering requires ipython but it is not installed\u001b[39m\u001b[33m\"\u001b[39m\n\u001b[32m    422\u001b[39m     )\n\u001b[32m    424\u001b[39m \u001b[38;5;28;01mif\u001b[39;00m \u001b[38;5;129;01mnot\u001b[39;00m nbformat \u001b[38;5;129;01mor\u001b[39;00m Version(nbformat.__version__) < Version(\u001b[33m\"\u001b[39m\u001b[33m4.2.0\u001b[39m\u001b[33m\"\u001b[39m):\n\u001b[32m--> \u001b[39m\u001b[32m425\u001b[39m     \u001b[38;5;28;01mraise\u001b[39;00m \u001b[38;5;167;01mValueError\u001b[39;00m(\n\u001b[32m    426\u001b[39m         \u001b[33m\"\u001b[39m\u001b[33mMime type rendering requires nbformat>=4.2.0 but it is not installed\u001b[39m\u001b[33m\"\u001b[39m\n\u001b[32m    427\u001b[39m     )\n\u001b[32m    429\u001b[39m display_jupyter_version_warnings()\n\u001b[32m    431\u001b[39m ipython_display.display(bundle, raw=\u001b[38;5;28;01mTrue\u001b[39;00m)\n",
      "\u001b[31mValueError\u001b[39m: Mime type rendering requires nbformat>=4.2.0 but it is not installed"
     ]
    },
    {
     "data": {
      "application/vnd.plotly.v1+json": {
       "config": {
        "plotlyServerURL": "https://plot.ly"
       },
       "data": [
        {
         "hovertemplate": "diff=%{marker.color}<br>site=%{y}<extra></extra>",
         "legendgroup": "",
         "marker": {
          "color": {
           "bdata": "2O0PQIiRlr/IsMRiV4iQv/C1treVT4+/YBWMSMBXjb8ARC2CxyCLv8BBSrAE7Ii/EM8fmZMQiL+gXhQGq/GHvxB4sYeVnoa/QEWqHCFkij/AFiGKI7+KP+B6RbPD2Io/0NmobFA/kD/wTNJdtHiRP/B+Dy4R4ps/sK+pRH2JnT+Qx8nAZxaiPw==",
           "dtype": "f8"
          },
          "coloraxis": "coloraxis",
          "pattern": {
           "shape": ""
          }
         },
         "name": "",
         "orientation": "h",
         "showlegend": false,
         "textposition": "auto",
         "type": "bar",
         "x": {
          "bdata": "2O0PQIiRlr/IsMRiV4iQv/C1treVT4+/YBWMSMBXjb8ARC2CxyCLv8BBSrAE7Ii/EM8fmZMQiL+gXhQGq/GHvxB4sYeVnoa/QEWqHCFkij/AFiGKI7+KP+B6RbPD2Io/0NmobFA/kD/wTNJdtHiRP/B+Dy4R4ps/sK+pRH2JnT+Qx8nAZxaiPw==",
          "dtype": "f8"
         },
         "xaxis": "x",
         "y": [
          "SAN02",
          "SEA03",
          "LOS03",
          "BAL11",
          "OAK01",
          "HOU02",
          "NYC17",
          "STP01",
          "SFO02",
          "PIT06",
          "BOS07",
          "MIN03",
          "STL07",
          "ARL02",
          "PHI09",
          "CLE06",
          "DEN02"
         ],
         "yaxis": "y"
        }
       ],
       "layout": {
        "barmode": "relative",
        "coloraxis": {
         "colorbar": {
          "title": {
           "text": "diff"
          }
         },
         "colorscale": [
          [
           0,
           "rgb(165,0,38)"
          ],
          [
           0.1,
           "rgb(215,48,39)"
          ],
          [
           0.2,
           "rgb(244,109,67)"
          ],
          [
           0.3,
           "rgb(253,174,97)"
          ],
          [
           0.4,
           "rgb(254,224,139)"
          ],
          [
           0.5,
           "rgb(255,255,191)"
          ],
          [
           0.6,
           "rgb(217,239,139)"
          ],
          [
           0.7,
           "rgb(166,217,106)"
          ],
          [
           0.8,
           "rgb(102,189,99)"
          ],
          [
           0.9,
           "rgb(26,152,80)"
          ],
          [
           1,
           "rgb(0,104,55)"
          ]
         ]
        },
        "legend": {
         "tracegroupgap": 0
        },
        "template": {
         "data": {
          "bar": [
           {
            "error_x": {
             "color": "#2a3f5f"
            },
            "error_y": {
             "color": "#2a3f5f"
            },
            "marker": {
             "line": {
              "color": "#E5ECF6",
              "width": 0.5
             },
             "pattern": {
              "fillmode": "overlay",
              "size": 10,
              "solidity": 0.2
             }
            },
            "type": "bar"
           }
          ],
          "barpolar": [
           {
            "marker": {
             "line": {
              "color": "#E5ECF6",
              "width": 0.5
             },
             "pattern": {
              "fillmode": "overlay",
              "size": 10,
              "solidity": 0.2
             }
            },
            "type": "barpolar"
           }
          ],
          "carpet": [
           {
            "aaxis": {
             "endlinecolor": "#2a3f5f",
             "gridcolor": "white",
             "linecolor": "white",
             "minorgridcolor": "white",
             "startlinecolor": "#2a3f5f"
            },
            "baxis": {
             "endlinecolor": "#2a3f5f",
             "gridcolor": "white",
             "linecolor": "white",
             "minorgridcolor": "white",
             "startlinecolor": "#2a3f5f"
            },
            "type": "carpet"
           }
          ],
          "choropleth": [
           {
            "colorbar": {
             "outlinewidth": 0,
             "ticks": ""
            },
            "type": "choropleth"
           }
          ],
          "contour": [
           {
            "colorbar": {
             "outlinewidth": 0,
             "ticks": ""
            },
            "colorscale": [
             [
              0,
              "#0d0887"
             ],
             [
              0.1111111111111111,
              "#46039f"
             ],
             [
              0.2222222222222222,
              "#7201a8"
             ],
             [
              0.3333333333333333,
              "#9c179e"
             ],
             [
              0.4444444444444444,
              "#bd3786"
             ],
             [
              0.5555555555555556,
              "#d8576b"
             ],
             [
              0.6666666666666666,
              "#ed7953"
             ],
             [
              0.7777777777777778,
              "#fb9f3a"
             ],
             [
              0.8888888888888888,
              "#fdca26"
             ],
             [
              1,
              "#f0f921"
             ]
            ],
            "type": "contour"
           }
          ],
          "contourcarpet": [
           {
            "colorbar": {
             "outlinewidth": 0,
             "ticks": ""
            },
            "type": "contourcarpet"
           }
          ],
          "heatmap": [
           {
            "colorbar": {
             "outlinewidth": 0,
             "ticks": ""
            },
            "colorscale": [
             [
              0,
              "#0d0887"
             ],
             [
              0.1111111111111111,
              "#46039f"
             ],
             [
              0.2222222222222222,
              "#7201a8"
             ],
             [
              0.3333333333333333,
              "#9c179e"
             ],
             [
              0.4444444444444444,
              "#bd3786"
             ],
             [
              0.5555555555555556,
              "#d8576b"
             ],
             [
              0.6666666666666666,
              "#ed7953"
             ],
             [
              0.7777777777777778,
              "#fb9f3a"
             ],
             [
              0.8888888888888888,
              "#fdca26"
             ],
             [
              1,
              "#f0f921"
             ]
            ],
            "type": "heatmap"
           }
          ],
          "histogram": [
           {
            "marker": {
             "pattern": {
              "fillmode": "overlay",
              "size": 10,
              "solidity": 0.2
             }
            },
            "type": "histogram"
           }
          ],
          "histogram2d": [
           {
            "colorbar": {
             "outlinewidth": 0,
             "ticks": ""
            },
            "colorscale": [
             [
              0,
              "#0d0887"
             ],
             [
              0.1111111111111111,
              "#46039f"
             ],
             [
              0.2222222222222222,
              "#7201a8"
             ],
             [
              0.3333333333333333,
              "#9c179e"
             ],
             [
              0.4444444444444444,
              "#bd3786"
             ],
             [
              0.5555555555555556,
              "#d8576b"
             ],
             [
              0.6666666666666666,
              "#ed7953"
             ],
             [
              0.7777777777777778,
              "#fb9f3a"
             ],
             [
              0.8888888888888888,
              "#fdca26"
             ],
             [
              1,
              "#f0f921"
             ]
            ],
            "type": "histogram2d"
           }
          ],
          "histogram2dcontour": [
           {
            "colorbar": {
             "outlinewidth": 0,
             "ticks": ""
            },
            "colorscale": [
             [
              0,
              "#0d0887"
             ],
             [
              0.1111111111111111,
              "#46039f"
             ],
             [
              0.2222222222222222,
              "#7201a8"
             ],
             [
              0.3333333333333333,
              "#9c179e"
             ],
             [
              0.4444444444444444,
              "#bd3786"
             ],
             [
              0.5555555555555556,
              "#d8576b"
             ],
             [
              0.6666666666666666,
              "#ed7953"
             ],
             [
              0.7777777777777778,
              "#fb9f3a"
             ],
             [
              0.8888888888888888,
              "#fdca26"
             ],
             [
              1,
              "#f0f921"
             ]
            ],
            "type": "histogram2dcontour"
           }
          ],
          "mesh3d": [
           {
            "colorbar": {
             "outlinewidth": 0,
             "ticks": ""
            },
            "type": "mesh3d"
           }
          ],
          "parcoords": [
           {
            "line": {
             "colorbar": {
              "outlinewidth": 0,
              "ticks": ""
             }
            },
            "type": "parcoords"
           }
          ],
          "pie": [
           {
            "automargin": true,
            "type": "pie"
           }
          ],
          "scatter": [
           {
            "fillpattern": {
             "fillmode": "overlay",
             "size": 10,
             "solidity": 0.2
            },
            "type": "scatter"
           }
          ],
          "scatter3d": [
           {
            "line": {
             "colorbar": {
              "outlinewidth": 0,
              "ticks": ""
             }
            },
            "marker": {
             "colorbar": {
              "outlinewidth": 0,
              "ticks": ""
             }
            },
            "type": "scatter3d"
           }
          ],
          "scattercarpet": [
           {
            "marker": {
             "colorbar": {
              "outlinewidth": 0,
              "ticks": ""
             }
            },
            "type": "scattercarpet"
           }
          ],
          "scattergeo": [
           {
            "marker": {
             "colorbar": {
              "outlinewidth": 0,
              "ticks": ""
             }
            },
            "type": "scattergeo"
           }
          ],
          "scattergl": [
           {
            "marker": {
             "colorbar": {
              "outlinewidth": 0,
              "ticks": ""
             }
            },
            "type": "scattergl"
           }
          ],
          "scattermap": [
           {
            "marker": {
             "colorbar": {
              "outlinewidth": 0,
              "ticks": ""
             }
            },
            "type": "scattermap"
           }
          ],
          "scattermapbox": [
           {
            "marker": {
             "colorbar": {
              "outlinewidth": 0,
              "ticks": ""
             }
            },
            "type": "scattermapbox"
           }
          ],
          "scatterpolar": [
           {
            "marker": {
             "colorbar": {
              "outlinewidth": 0,
              "ticks": ""
             }
            },
            "type": "scatterpolar"
           }
          ],
          "scatterpolargl": [
           {
            "marker": {
             "colorbar": {
              "outlinewidth": 0,
              "ticks": ""
             }
            },
            "type": "scatterpolargl"
           }
          ],
          "scatterternary": [
           {
            "marker": {
             "colorbar": {
              "outlinewidth": 0,
              "ticks": ""
             }
            },
            "type": "scatterternary"
           }
          ],
          "surface": [
           {
            "colorbar": {
             "outlinewidth": 0,
             "ticks": ""
            },
            "colorscale": [
             [
              0,
              "#0d0887"
             ],
             [
              0.1111111111111111,
              "#46039f"
             ],
             [
              0.2222222222222222,
              "#7201a8"
             ],
             [
              0.3333333333333333,
              "#9c179e"
             ],
             [
              0.4444444444444444,
              "#bd3786"
             ],
             [
              0.5555555555555556,
              "#d8576b"
             ],
             [
              0.6666666666666666,
              "#ed7953"
             ],
             [
              0.7777777777777778,
              "#fb9f3a"
             ],
             [
              0.8888888888888888,
              "#fdca26"
             ],
             [
              1,
              "#f0f921"
             ]
            ],
            "type": "surface"
           }
          ],
          "table": [
           {
            "cells": {
             "fill": {
              "color": "#EBF0F8"
             },
             "line": {
              "color": "white"
             }
            },
            "header": {
             "fill": {
              "color": "#C8D4E3"
             },
             "line": {
              "color": "white"
             }
            },
            "type": "table"
           }
          ]
         },
         "layout": {
          "annotationdefaults": {
           "arrowcolor": "#2a3f5f",
           "arrowhead": 0,
           "arrowwidth": 1
          },
          "autotypenumbers": "strict",
          "coloraxis": {
           "colorbar": {
            "outlinewidth": 0,
            "ticks": ""
           }
          },
          "colorscale": {
           "diverging": [
            [
             0,
             "#8e0152"
            ],
            [
             0.1,
             "#c51b7d"
            ],
            [
             0.2,
             "#de77ae"
            ],
            [
             0.3,
             "#f1b6da"
            ],
            [
             0.4,
             "#fde0ef"
            ],
            [
             0.5,
             "#f7f7f7"
            ],
            [
             0.6,
             "#e6f5d0"
            ],
            [
             0.7,
             "#b8e186"
            ],
            [
             0.8,
             "#7fbc41"
            ],
            [
             0.9,
             "#4d9221"
            ],
            [
             1,
             "#276419"
            ]
           ],
           "sequential": [
            [
             0,
             "#0d0887"
            ],
            [
             0.1111111111111111,
             "#46039f"
            ],
            [
             0.2222222222222222,
             "#7201a8"
            ],
            [
             0.3333333333333333,
             "#9c179e"
            ],
            [
             0.4444444444444444,
             "#bd3786"
            ],
            [
             0.5555555555555556,
             "#d8576b"
            ],
            [
             0.6666666666666666,
             "#ed7953"
            ],
            [
             0.7777777777777778,
             "#fb9f3a"
            ],
            [
             0.8888888888888888,
             "#fdca26"
            ],
            [
             1,
             "#f0f921"
            ]
           ],
           "sequentialminus": [
            [
             0,
             "#0d0887"
            ],
            [
             0.1111111111111111,
             "#46039f"
            ],
            [
             0.2222222222222222,
             "#7201a8"
            ],
            [
             0.3333333333333333,
             "#9c179e"
            ],
            [
             0.4444444444444444,
             "#bd3786"
            ],
            [
             0.5555555555555556,
             "#d8576b"
            ],
            [
             0.6666666666666666,
             "#ed7953"
            ],
            [
             0.7777777777777778,
             "#fb9f3a"
            ],
            [
             0.8888888888888888,
             "#fdca26"
            ],
            [
             1,
             "#f0f921"
            ]
           ]
          },
          "colorway": [
           "#636efa",
           "#EF553B",
           "#00cc96",
           "#ab63fa",
           "#FFA15A",
           "#19d3f3",
           "#FF6692",
           "#B6E880",
           "#FF97FF",
           "#FECB52"
          ],
          "font": {
           "color": "#2a3f5f"
          },
          "geo": {
           "bgcolor": "white",
           "lakecolor": "white",
           "landcolor": "#E5ECF6",
           "showlakes": true,
           "showland": true,
           "subunitcolor": "white"
          },
          "hoverlabel": {
           "align": "left"
          },
          "hovermode": "closest",
          "mapbox": {
           "style": "light"
          },
          "paper_bgcolor": "white",
          "plot_bgcolor": "#E5ECF6",
          "polar": {
           "angularaxis": {
            "gridcolor": "white",
            "linecolor": "white",
            "ticks": ""
           },
           "bgcolor": "#E5ECF6",
           "radialaxis": {
            "gridcolor": "white",
            "linecolor": "white",
            "ticks": ""
           }
          },
          "scene": {
           "xaxis": {
            "backgroundcolor": "#E5ECF6",
            "gridcolor": "white",
            "gridwidth": 2,
            "linecolor": "white",
            "showbackground": true,
            "ticks": "",
            "zerolinecolor": "white"
           },
           "yaxis": {
            "backgroundcolor": "#E5ECF6",
            "gridcolor": "white",
            "gridwidth": 2,
            "linecolor": "white",
            "showbackground": true,
            "ticks": "",
            "zerolinecolor": "white"
           },
           "zaxis": {
            "backgroundcolor": "#E5ECF6",
            "gridcolor": "white",
            "gridwidth": 2,
            "linecolor": "white",
            "showbackground": true,
            "ticks": "",
            "zerolinecolor": "white"
           }
          },
          "shapedefaults": {
           "line": {
            "color": "#2a3f5f"
           }
          },
          "ternary": {
           "aaxis": {
            "gridcolor": "white",
            "linecolor": "white",
            "ticks": ""
           },
           "baxis": {
            "gridcolor": "white",
            "linecolor": "white",
            "ticks": ""
           },
           "bgcolor": "#E5ECF6",
           "caxis": {
            "gridcolor": "white",
            "linecolor": "white",
            "ticks": ""
           }
          },
          "title": {
           "x": 0.05
          },
          "xaxis": {
           "automargin": true,
           "gridcolor": "white",
           "linecolor": "white",
           "ticks": "",
           "title": {
            "standoff": 15
           },
           "zerolinecolor": "white",
           "zerolinewidth": 2
          },
          "yaxis": {
           "automargin": true,
           "gridcolor": "white",
           "linecolor": "white",
           "ticks": "",
           "title": {
            "standoff": 15
           },
           "zerolinecolor": "white",
           "zerolinewidth": 2
          }
         }
        },
        "title": {
         "text": "Batting average by stadium"
        },
        "xaxis": {
         "anchor": "y",
         "domain": [
          0,
          1
         ],
         "title": {
          "text": "diff"
         }
        },
        "yaxis": {
         "anchor": "x",
         "domain": [
          0,
          1
         ],
         "title": {
          "text": "site"
         }
        }
       }
      },
      "text/html": [
       "<div>                        <script type=\"text/javascript\">window.PlotlyConfig = {MathJaxConfig: 'local'};</script>\n",
       "        <script charset=\"utf-8\" src=\"https://cdn.plot.ly/plotly-3.0.0.min.js\"></script>                <div id=\"5431ccb3-1e6f-41ff-a1b8-7eab1d851b50\" class=\"plotly-graph-div\" style=\"height:100%; width:100%;\"></div>            <script type=\"text/javascript\">                window.PLOTLYENV=window.PLOTLYENV || {};                                if (document.getElementById(\"5431ccb3-1e6f-41ff-a1b8-7eab1d851b50\")) {                    Plotly.newPlot(                        \"5431ccb3-1e6f-41ff-a1b8-7eab1d851b50\",                        [{\"hovertemplate\":\"diff=%{marker.color}\\u003cbr\\u003esite=%{y}\\u003cextra\\u003e\\u003c\\u002fextra\\u003e\",\"legendgroup\":\"\",\"marker\":{\"color\":{\"dtype\":\"f8\",\"bdata\":\"2O0PQIiRlr\\u002fIsMRiV4iQv\\u002fC1treVT4+\\u002fYBWMSMBXjb8ARC2CxyCLv8BBSrAE7Ii\\u002fEM8fmZMQiL+gXhQGq\\u002fGHvxB4sYeVnoa\\u002fQEWqHCFkij\\u002fAFiGKI7+KP+B6RbPD2Io\\u002f0NmobFA\\u002fkD\\u002fwTNJdtHiRP\\u002fB+Dy4R4ps\\u002fsK+pRH2JnT+Qx8nAZxaiPw==\"},\"coloraxis\":\"coloraxis\",\"pattern\":{\"shape\":\"\"}},\"name\":\"\",\"orientation\":\"h\",\"showlegend\":false,\"textposition\":\"auto\",\"x\":{\"dtype\":\"f8\",\"bdata\":\"2O0PQIiRlr\\u002fIsMRiV4iQv\\u002fC1treVT4+\\u002fYBWMSMBXjb8ARC2CxyCLv8BBSrAE7Ii\\u002fEM8fmZMQiL+gXhQGq\\u002fGHvxB4sYeVnoa\\u002fQEWqHCFkij\\u002fAFiGKI7+KP+B6RbPD2Io\\u002f0NmobFA\\u002fkD\\u002fwTNJdtHiRP\\u002fB+Dy4R4ps\\u002fsK+pRH2JnT+Qx8nAZxaiPw==\"},\"xaxis\":\"x\",\"y\":[\"SAN02\",\"SEA03\",\"LOS03\",\"BAL11\",\"OAK01\",\"HOU02\",\"NYC17\",\"STP01\",\"SFO02\",\"PIT06\",\"BOS07\",\"MIN03\",\"STL07\",\"ARL02\",\"PHI09\",\"CLE06\",\"DEN02\"],\"yaxis\":\"y\",\"type\":\"bar\"}],                        {\"template\":{\"data\":{\"histogram2dcontour\":[{\"type\":\"histogram2dcontour\",\"colorbar\":{\"outlinewidth\":0,\"ticks\":\"\"},\"colorscale\":[[0.0,\"#0d0887\"],[0.1111111111111111,\"#46039f\"],[0.2222222222222222,\"#7201a8\"],[0.3333333333333333,\"#9c179e\"],[0.4444444444444444,\"#bd3786\"],[0.5555555555555556,\"#d8576b\"],[0.6666666666666666,\"#ed7953\"],[0.7777777777777778,\"#fb9f3a\"],[0.8888888888888888,\"#fdca26\"],[1.0,\"#f0f921\"]]}],\"choropleth\":[{\"type\":\"choropleth\",\"colorbar\":{\"outlinewidth\":0,\"ticks\":\"\"}}],\"histogram2d\":[{\"type\":\"histogram2d\",\"colorbar\":{\"outlinewidth\":0,\"ticks\":\"\"},\"colorscale\":[[0.0,\"#0d0887\"],[0.1111111111111111,\"#46039f\"],[0.2222222222222222,\"#7201a8\"],[0.3333333333333333,\"#9c179e\"],[0.4444444444444444,\"#bd3786\"],[0.5555555555555556,\"#d8576b\"],[0.6666666666666666,\"#ed7953\"],[0.7777777777777778,\"#fb9f3a\"],[0.8888888888888888,\"#fdca26\"],[1.0,\"#f0f921\"]]}],\"heatmap\":[{\"type\":\"heatmap\",\"colorbar\":{\"outlinewidth\":0,\"ticks\":\"\"},\"colorscale\":[[0.0,\"#0d0887\"],[0.1111111111111111,\"#46039f\"],[0.2222222222222222,\"#7201a8\"],[0.3333333333333333,\"#9c179e\"],[0.4444444444444444,\"#bd3786\"],[0.5555555555555556,\"#d8576b\"],[0.6666666666666666,\"#ed7953\"],[0.7777777777777778,\"#fb9f3a\"],[0.8888888888888888,\"#fdca26\"],[1.0,\"#f0f921\"]]}],\"contourcarpet\":[{\"type\":\"contourcarpet\",\"colorbar\":{\"outlinewidth\":0,\"ticks\":\"\"}}],\"contour\":[{\"type\":\"contour\",\"colorbar\":{\"outlinewidth\":0,\"ticks\":\"\"},\"colorscale\":[[0.0,\"#0d0887\"],[0.1111111111111111,\"#46039f\"],[0.2222222222222222,\"#7201a8\"],[0.3333333333333333,\"#9c179e\"],[0.4444444444444444,\"#bd3786\"],[0.5555555555555556,\"#d8576b\"],[0.6666666666666666,\"#ed7953\"],[0.7777777777777778,\"#fb9f3a\"],[0.8888888888888888,\"#fdca26\"],[1.0,\"#f0f921\"]]}],\"surface\":[{\"type\":\"surface\",\"colorbar\":{\"outlinewidth\":0,\"ticks\":\"\"},\"colorscale\":[[0.0,\"#0d0887\"],[0.1111111111111111,\"#46039f\"],[0.2222222222222222,\"#7201a8\"],[0.3333333333333333,\"#9c179e\"],[0.4444444444444444,\"#bd3786\"],[0.5555555555555556,\"#d8576b\"],[0.6666666666666666,\"#ed7953\"],[0.7777777777777778,\"#fb9f3a\"],[0.8888888888888888,\"#fdca26\"],[1.0,\"#f0f921\"]]}],\"mesh3d\":[{\"type\":\"mesh3d\",\"colorbar\":{\"outlinewidth\":0,\"ticks\":\"\"}}],\"scatter\":[{\"fillpattern\":{\"fillmode\":\"overlay\",\"size\":10,\"solidity\":0.2},\"type\":\"scatter\"}],\"parcoords\":[{\"type\":\"parcoords\",\"line\":{\"colorbar\":{\"outlinewidth\":0,\"ticks\":\"\"}}}],\"scatterpolargl\":[{\"type\":\"scatterpolargl\",\"marker\":{\"colorbar\":{\"outlinewidth\":0,\"ticks\":\"\"}}}],\"bar\":[{\"error_x\":{\"color\":\"#2a3f5f\"},\"error_y\":{\"color\":\"#2a3f5f\"},\"marker\":{\"line\":{\"color\":\"#E5ECF6\",\"width\":0.5},\"pattern\":{\"fillmode\":\"overlay\",\"size\":10,\"solidity\":0.2}},\"type\":\"bar\"}],\"scattergeo\":[{\"type\":\"scattergeo\",\"marker\":{\"colorbar\":{\"outlinewidth\":0,\"ticks\":\"\"}}}],\"scatterpolar\":[{\"type\":\"scatterpolar\",\"marker\":{\"colorbar\":{\"outlinewidth\":0,\"ticks\":\"\"}}}],\"histogram\":[{\"marker\":{\"pattern\":{\"fillmode\":\"overlay\",\"size\":10,\"solidity\":0.2}},\"type\":\"histogram\"}],\"scattergl\":[{\"type\":\"scattergl\",\"marker\":{\"colorbar\":{\"outlinewidth\":0,\"ticks\":\"\"}}}],\"scatter3d\":[{\"type\":\"scatter3d\",\"line\":{\"colorbar\":{\"outlinewidth\":0,\"ticks\":\"\"}},\"marker\":{\"colorbar\":{\"outlinewidth\":0,\"ticks\":\"\"}}}],\"scattermap\":[{\"type\":\"scattermap\",\"marker\":{\"colorbar\":{\"outlinewidth\":0,\"ticks\":\"\"}}}],\"scattermapbox\":[{\"type\":\"scattermapbox\",\"marker\":{\"colorbar\":{\"outlinewidth\":0,\"ticks\":\"\"}}}],\"scatterternary\":[{\"type\":\"scatterternary\",\"marker\":{\"colorbar\":{\"outlinewidth\":0,\"ticks\":\"\"}}}],\"scattercarpet\":[{\"type\":\"scattercarpet\",\"marker\":{\"colorbar\":{\"outlinewidth\":0,\"ticks\":\"\"}}}],\"carpet\":[{\"aaxis\":{\"endlinecolor\":\"#2a3f5f\",\"gridcolor\":\"white\",\"linecolor\":\"white\",\"minorgridcolor\":\"white\",\"startlinecolor\":\"#2a3f5f\"},\"baxis\":{\"endlinecolor\":\"#2a3f5f\",\"gridcolor\":\"white\",\"linecolor\":\"white\",\"minorgridcolor\":\"white\",\"startlinecolor\":\"#2a3f5f\"},\"type\":\"carpet\"}],\"table\":[{\"cells\":{\"fill\":{\"color\":\"#EBF0F8\"},\"line\":{\"color\":\"white\"}},\"header\":{\"fill\":{\"color\":\"#C8D4E3\"},\"line\":{\"color\":\"white\"}},\"type\":\"table\"}],\"barpolar\":[{\"marker\":{\"line\":{\"color\":\"#E5ECF6\",\"width\":0.5},\"pattern\":{\"fillmode\":\"overlay\",\"size\":10,\"solidity\":0.2}},\"type\":\"barpolar\"}],\"pie\":[{\"automargin\":true,\"type\":\"pie\"}]},\"layout\":{\"autotypenumbers\":\"strict\",\"colorway\":[\"#636efa\",\"#EF553B\",\"#00cc96\",\"#ab63fa\",\"#FFA15A\",\"#19d3f3\",\"#FF6692\",\"#B6E880\",\"#FF97FF\",\"#FECB52\"],\"font\":{\"color\":\"#2a3f5f\"},\"hovermode\":\"closest\",\"hoverlabel\":{\"align\":\"left\"},\"paper_bgcolor\":\"white\",\"plot_bgcolor\":\"#E5ECF6\",\"polar\":{\"bgcolor\":\"#E5ECF6\",\"angularaxis\":{\"gridcolor\":\"white\",\"linecolor\":\"white\",\"ticks\":\"\"},\"radialaxis\":{\"gridcolor\":\"white\",\"linecolor\":\"white\",\"ticks\":\"\"}},\"ternary\":{\"bgcolor\":\"#E5ECF6\",\"aaxis\":{\"gridcolor\":\"white\",\"linecolor\":\"white\",\"ticks\":\"\"},\"baxis\":{\"gridcolor\":\"white\",\"linecolor\":\"white\",\"ticks\":\"\"},\"caxis\":{\"gridcolor\":\"white\",\"linecolor\":\"white\",\"ticks\":\"\"}},\"coloraxis\":{\"colorbar\":{\"outlinewidth\":0,\"ticks\":\"\"}},\"colorscale\":{\"sequential\":[[0.0,\"#0d0887\"],[0.1111111111111111,\"#46039f\"],[0.2222222222222222,\"#7201a8\"],[0.3333333333333333,\"#9c179e\"],[0.4444444444444444,\"#bd3786\"],[0.5555555555555556,\"#d8576b\"],[0.6666666666666666,\"#ed7953\"],[0.7777777777777778,\"#fb9f3a\"],[0.8888888888888888,\"#fdca26\"],[1.0,\"#f0f921\"]],\"sequentialminus\":[[0.0,\"#0d0887\"],[0.1111111111111111,\"#46039f\"],[0.2222222222222222,\"#7201a8\"],[0.3333333333333333,\"#9c179e\"],[0.4444444444444444,\"#bd3786\"],[0.5555555555555556,\"#d8576b\"],[0.6666666666666666,\"#ed7953\"],[0.7777777777777778,\"#fb9f3a\"],[0.8888888888888888,\"#fdca26\"],[1.0,\"#f0f921\"]],\"diverging\":[[0,\"#8e0152\"],[0.1,\"#c51b7d\"],[0.2,\"#de77ae\"],[0.3,\"#f1b6da\"],[0.4,\"#fde0ef\"],[0.5,\"#f7f7f7\"],[0.6,\"#e6f5d0\"],[0.7,\"#b8e186\"],[0.8,\"#7fbc41\"],[0.9,\"#4d9221\"],[1,\"#276419\"]]},\"xaxis\":{\"gridcolor\":\"white\",\"linecolor\":\"white\",\"ticks\":\"\",\"title\":{\"standoff\":15},\"zerolinecolor\":\"white\",\"automargin\":true,\"zerolinewidth\":2},\"yaxis\":{\"gridcolor\":\"white\",\"linecolor\":\"white\",\"ticks\":\"\",\"title\":{\"standoff\":15},\"zerolinecolor\":\"white\",\"automargin\":true,\"zerolinewidth\":2},\"scene\":{\"xaxis\":{\"backgroundcolor\":\"#E5ECF6\",\"gridcolor\":\"white\",\"linecolor\":\"white\",\"showbackground\":true,\"ticks\":\"\",\"zerolinecolor\":\"white\",\"gridwidth\":2},\"yaxis\":{\"backgroundcolor\":\"#E5ECF6\",\"gridcolor\":\"white\",\"linecolor\":\"white\",\"showbackground\":true,\"ticks\":\"\",\"zerolinecolor\":\"white\",\"gridwidth\":2},\"zaxis\":{\"backgroundcolor\":\"#E5ECF6\",\"gridcolor\":\"white\",\"linecolor\":\"white\",\"showbackground\":true,\"ticks\":\"\",\"zerolinecolor\":\"white\",\"gridwidth\":2}},\"shapedefaults\":{\"line\":{\"color\":\"#2a3f5f\"}},\"annotationdefaults\":{\"arrowcolor\":\"#2a3f5f\",\"arrowhead\":0,\"arrowwidth\":1},\"geo\":{\"bgcolor\":\"white\",\"landcolor\":\"#E5ECF6\",\"subunitcolor\":\"white\",\"showland\":true,\"showlakes\":true,\"lakecolor\":\"white\"},\"title\":{\"x\":0.05},\"mapbox\":{\"style\":\"light\"}}},\"xaxis\":{\"anchor\":\"y\",\"domain\":[0.0,1.0],\"title\":{\"text\":\"diff\"}},\"yaxis\":{\"anchor\":\"x\",\"domain\":[0.0,1.0],\"title\":{\"text\":\"site\"}},\"coloraxis\":{\"colorbar\":{\"title\":{\"text\":\"diff\"}},\"colorscale\":[[0.0,\"rgb(165,0,38)\"],[0.1,\"rgb(215,48,39)\"],[0.2,\"rgb(244,109,67)\"],[0.3,\"rgb(253,174,97)\"],[0.4,\"rgb(254,224,139)\"],[0.5,\"rgb(255,255,191)\"],[0.6,\"rgb(217,239,139)\"],[0.7,\"rgb(166,217,106)\"],[0.8,\"rgb(102,189,99)\"],[0.9,\"rgb(26,152,80)\"],[1.0,\"rgb(0,104,55)\"]]},\"legend\":{\"tracegroupgap\":0},\"title\":{\"text\":\"Batting average by stadium\"},\"barmode\":\"relative\"},                        {\"responsive\": true}                    )                };            </script>        </div>"
      ],
      "text/plain": [
       "Figure({\n",
       "    'data': [{'hovertemplate': 'diff=%{marker.color}<br>site=%{y}<extra></extra>',\n",
       "              'legendgroup': '',\n",
       "              'marker': {'color': {'bdata': ('2O0PQIiRlr/IsMRiV4iQv/C1treVT4' ... '4R4ps/sK+pRH2JnT+Qx8nAZxaiPw=='),\n",
       "                                   'dtype': 'f8'},\n",
       "                         'coloraxis': 'coloraxis',\n",
       "                         'pattern': {'shape': ''}},\n",
       "              'name': '',\n",
       "              'orientation': 'h',\n",
       "              'showlegend': False,\n",
       "              'textposition': 'auto',\n",
       "              'type': 'bar',\n",
       "              'x': {'bdata': ('2O0PQIiRlr/IsMRiV4iQv/C1treVT4' ... '4R4ps/sK+pRH2JnT+Qx8nAZxaiPw=='),\n",
       "                    'dtype': 'f8'},\n",
       "              'xaxis': 'x',\n",
       "              'y': array(['SAN02', 'SEA03', 'LOS03', 'BAL11', 'OAK01', 'HOU02', 'NYC17', 'STP01',\n",
       "                          'SFO02', 'PIT06', 'BOS07', 'MIN03', 'STL07', 'ARL02', 'PHI09', 'CLE06',\n",
       "                          'DEN02'], dtype=object),\n",
       "              'yaxis': 'y'}],\n",
       "    'layout': {'barmode': 'relative',\n",
       "               'coloraxis': {'colorbar': {'title': {'text': 'diff'}},\n",
       "                             'colorscale': [[0.0, 'rgb(165,0,38)'], [0.1,\n",
       "                                            'rgb(215,48,39)'], [0.2,\n",
       "                                            'rgb(244,109,67)'], [0.3,\n",
       "                                            'rgb(253,174,97)'], [0.4,\n",
       "                                            'rgb(254,224,139)'], [0.5,\n",
       "                                            'rgb(255,255,191)'], [0.6,\n",
       "                                            'rgb(217,239,139)'], [0.7,\n",
       "                                            'rgb(166,217,106)'], [0.8,\n",
       "                                            'rgb(102,189,99)'], [0.9,\n",
       "                                            'rgb(26,152,80)'], [1.0,\n",
       "                                            'rgb(0,104,55)']]},\n",
       "               'legend': {'tracegroupgap': 0},\n",
       "               'template': '...',\n",
       "               'title': {'text': 'Batting average by stadium'},\n",
       "               'xaxis': {'anchor': 'y', 'domain': [0.0, 1.0], 'title': {'text': 'diff'}},\n",
       "               'yaxis': {'anchor': 'x', 'domain': [0.0, 1.0], 'title': {'text': 'site'}}}\n",
       "})"
      ]
     },
     "execution_count": 39,
     "metadata": {},
     "output_type": "execute_result"
    }
   ],
   "source": [
    "# Visualize with plotly\n",
    "px.bar(stadium, x=\"diff\", y=\"site\", title=\"Batting average by stadium\", orientation='h', color=\"diff\", color_continuous_scale='RdYlGn')"
   ]
  },
  {
   "cell_type": "code",
   "execution_count": null,
   "metadata": {},
   "outputs": [],
   "source": []
  }
 ],
 "metadata": {
  "kernelspec": {
   "display_name": ".venv",
   "language": "python",
   "name": "python3"
  },
  "language_info": {
   "codemirror_mode": {
    "name": "ipython",
    "version": 3
   },
   "file_extension": ".py",
   "mimetype": "text/x-python",
   "name": "python",
   "nbconvert_exporter": "python",
   "pygments_lexer": "ipython3",
   "version": "3.12.7"
  }
 },
 "nbformat": 4,
 "nbformat_minor": 2
}
