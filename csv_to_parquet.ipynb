{
 "cells": [
  {
   "cell_type": "code",
   "execution_count": 1,
   "metadata": {},
   "outputs": [],
   "source": [
    "import polars as pl"
   ]
  },
  {
   "cell_type": "code",
   "execution_count": 8,
   "metadata": {},
   "outputs": [],
   "source": [
    "csv_files = [\n",
    "    \"allplayers\",\n",
    "    \"batting\",\n",
    "    \"discreps\",\n",
    "    \"ejections\",\n",
    "    \"fielding\",\n",
    "    \"gameinfo\",\n",
    "    \"pitching\",\n",
    "    \"teamstats\",\n",
    "]\n",
    "\n",
    "for csv_file in csv_files:\n",
    "    df = pl.scan_csv(f\"csvs/{csv_file}.csv\", infer_schema_length=None)\n",
    "    df.collect().write_parquet(f\"parquets/{csv_file}.parquet\")"
   ]
  },
  {
   "cell_type": "code",
   "execution_count": 9,
   "metadata": {},
   "outputs": [
    {
     "name": "stdout",
     "output_type": "stream",
     "text": [
      "CSV: 10.86s\n",
      "Parquet: 0.20s\n"
     ]
    }
   ],
   "source": [
    "# Speed test\n",
    "import time\n",
    "\n",
    "time_start = time.perf_counter()\n",
    "pl.scan_csv(\"csvs/batting.csv\", infer_schema_length=None).collect()\n",
    "print(f\"CSV: {time.perf_counter() - time_start:.2f}s\")\n",
    "\n",
    "time_start = time.perf_counter()\n",
    "pl.scan_parquet(\"parquets/batting.parquet\").collect()\n",
    "print(f\"Parquet: {time.perf_counter() - time_start:.2f}s\")\n"
   ]
  }
 ],
 "metadata": {
  "kernelspec": {
   "display_name": ".venv",
   "language": "python",
   "name": "python3"
  },
  "language_info": {
   "codemirror_mode": {
    "name": "ipython",
    "version": 3
   },
   "file_extension": ".py",
   "mimetype": "text/x-python",
   "name": "python",
   "nbconvert_exporter": "python",
   "pygments_lexer": "ipython3",
   "version": "3.12.7"
  }
 },
 "nbformat": 4,
 "nbformat_minor": 2
}
