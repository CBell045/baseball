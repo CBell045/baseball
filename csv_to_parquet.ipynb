{
 "cells": [
  {
   "cell_type": "code",
   "execution_count": 1,
   "metadata": {},
   "outputs": [],
   "source": [
    "import polars as pl"
   ]
  },
  {
   "cell_type": "code",
   "execution_count": 8,
   "metadata": {},
   "outputs": [],
   "source": [
    "csv_files = [\n",
    "    \"allplayers\",\n",
    "    \"batting\",\n",
    "    \"discreps\",\n",
    "    \"ejections\",\n",
    "    \"fielding\",\n",
    "    \"gameinfo\",\n",
    "    \"pitching\",\n",
    "    \"teamstats\",\n",
    "]\n",
    "\n",
    "for csv_file in csv_files:\n",
    "    df = pl.scan_csv(f\"csvs/{csv_file}.csv\", infer_schema_length=None)\n",
    "    df.collect().write_parquet(f\"parquets/{csv_file}.parquet\")"
   ]
  },
  {
   "cell_type": "code",
   "execution_count": 9,
   "metadata": {},
   "outputs": [
    {
     "name": "stdout",
     "output_type": "stream",
     "text": [
      "CSV: 10.86s\n",
      "Parquet: 0.20s\n"
     ]
    }
   ],
   "source": [
    "# Speed test\n",
    "import time\n",
    "\n",
    "time_start = time.perf_counter()\n",
    "pl.scan_csv(\"csvs/batting.csv\", infer_schema_length=None).collect()\n",
    "print(f\"CSV: {time.perf_counter() - time_start:.2f}s\")\n",
    "\n",
    "time_start = time.perf_counter()\n",
    "pl.scan_parquet(\"parquets/batting.parquet\").collect()\n",
    "print(f\"Parquet: {time.perf_counter() - time_start:.2f}s\")\n"
   ]
  },
  {
   "cell_type": "code",
   "execution_count": null,
   "metadata": {},
   "outputs": [
    {
     "name": "stderr",
     "output_type": "stream",
     "text": [
      "/var/folders/5m/bmymd7ys1vq8p6nd9wg5j_500000gn/T/ipykernel_93963/2140217182.py:3: DeprecationWarning: The old streaming engine is being deprecated and will soon be replaced by the new streaming engine. Starting Polars version 1.23.0 and until the new streaming engine is released, the old streaming engine may become less usable. For people who rely on the old streaming engine, it is suggested to pin your version to before 1.23.0.\n",
      "\n",
      "More information on the new streaming engine: https://github.com/pola-rs/polars/issues/20947\n",
      "  .sink_parquet(\"parquets/plays.parquet\")\n"
     ]
    }
   ],
   "source": [
    "# Add the big  one (plays)\n",
    "(\n",
    "    pl.scan_csv(\"csvs/plays.csv\", infer_schema_length=None)\n",
    "    .sink_parquet(\"parquets/plays.parquet\")\n",
    ")"
   ]
  },
  {
   "cell_type": "code",
   "execution_count": null,
   "metadata": {},
   "outputs": [],
   "source": [
    "# Partition the plays file by year\n",
    "unique_years = (\n",
    "    pl.scan_parquet(\"parquets/plays.parquet\")\n",
    "    .with_columns(pl.col(\"date\").cast(pl.String).str.slice(0, 4).alias(\"year\"))\n",
    "    .select(\"year\")\n",
    "    .unique()\n",
    "    .collect()\n",
    "    .to_series()\n",
    "    .to_list()\n",
    ")"
   ]
  },
  {
   "cell_type": "code",
   "execution_count": 7,
   "metadata": {},
   "outputs": [],
   "source": [
    "for year in unique_years:\n",
    "    (\n",
    "        pl.scan_parquet(\"parquets/plays.parquet\")\n",
    "        .filter(pl.col(\"date\").cast(pl.String).str.slice(0, 4) == year)\n",
    "        .collect()\n",
    "        .write_parquet(f\"parquets/plays/{year}.parquet\")\n",
    "    )"
   ]
  }
 ],
 "metadata": {
  "kernelspec": {
   "display_name": ".venv",
   "language": "python",
   "name": "python3"
  },
  "language_info": {
   "codemirror_mode": {
    "name": "ipython",
    "version": 3
   },
   "file_extension": ".py",
   "mimetype": "text/x-python",
   "name": "python",
   "nbconvert_exporter": "python",
   "pygments_lexer": "ipython3",
   "version": "3.12.7"
  }
 },
 "nbformat": 4,
 "nbformat_minor": 2
}
